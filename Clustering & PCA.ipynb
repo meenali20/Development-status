{
 "cells": [
  {
   "cell_type": "markdown",
   "metadata": {},
   "source": [
    "### Purpose: Based on Socio-economic & Health factors find countries in direst need of developmental aid."
   ]
  },
  {
   "cell_type": "markdown",
   "metadata": {},
   "source": [
    "## Import libraries"
   ]
  },
  {
   "cell_type": "code",
   "execution_count": 1,
   "metadata": {},
   "outputs": [],
   "source": [
    "#import all the necessary libraries\n",
    "\n",
    "import pandas as pd\n",
    "import numpy as np\n",
    "import pandas as pd\n",
    "\n",
    "# For Visualisation\n",
    "import matplotlib.pyplot as plt\n",
    "import seaborn as sns\n",
    "%matplotlib inline\n",
    "\n",
    "# To Scale our data\n",
    "from sklearn.preprocessing import scale\n",
    "\n",
    "# To perform KMeans clustering \n",
    "from sklearn.cluster import KMeans\n",
    "\n",
    "# To perform Hierarchical clustering\n",
    "from scipy.cluster.hierarchy import linkage\n",
    "from scipy.cluster.hierarchy import dendrogram\n",
    "from scipy.cluster.hierarchy import cut_tree\n",
    "\n",
    "import warnings\n",
    "warnings.filterwarnings(\"ignore\")"
   ]
  },
  {
   "cell_type": "code",
   "execution_count": 2,
   "metadata": {},
   "outputs": [],
   "source": [
    "data=pd.read_csv(\"Country-data.csv\")"
   ]
  },
  {
   "cell_type": "code",
   "execution_count": 3,
   "metadata": {},
   "outputs": [
    {
     "data": {
      "text/html": [
       "<div>\n",
       "<style scoped>\n",
       "    .dataframe tbody tr th:only-of-type {\n",
       "        vertical-align: middle;\n",
       "    }\n",
       "\n",
       "    .dataframe tbody tr th {\n",
       "        vertical-align: top;\n",
       "    }\n",
       "\n",
       "    .dataframe thead th {\n",
       "        text-align: right;\n",
       "    }\n",
       "</style>\n",
       "<table border=\"1\" class=\"dataframe\">\n",
       "  <thead>\n",
       "    <tr style=\"text-align: right;\">\n",
       "      <th></th>\n",
       "      <th>country</th>\n",
       "      <th>child_mort</th>\n",
       "      <th>exports</th>\n",
       "      <th>health</th>\n",
       "      <th>imports</th>\n",
       "      <th>income</th>\n",
       "      <th>inflation</th>\n",
       "      <th>life_expec</th>\n",
       "      <th>total_fer</th>\n",
       "      <th>gdpp</th>\n",
       "    </tr>\n",
       "  </thead>\n",
       "  <tbody>\n",
       "    <tr>\n",
       "      <th>0</th>\n",
       "      <td>Afghanistan</td>\n",
       "      <td>90.2</td>\n",
       "      <td>10.0</td>\n",
       "      <td>7.58</td>\n",
       "      <td>44.9</td>\n",
       "      <td>1610</td>\n",
       "      <td>9.44</td>\n",
       "      <td>56.2</td>\n",
       "      <td>5.82</td>\n",
       "      <td>553</td>\n",
       "    </tr>\n",
       "    <tr>\n",
       "      <th>1</th>\n",
       "      <td>Albania</td>\n",
       "      <td>16.6</td>\n",
       "      <td>28.0</td>\n",
       "      <td>6.55</td>\n",
       "      <td>48.6</td>\n",
       "      <td>9930</td>\n",
       "      <td>4.49</td>\n",
       "      <td>76.3</td>\n",
       "      <td>1.65</td>\n",
       "      <td>4090</td>\n",
       "    </tr>\n",
       "    <tr>\n",
       "      <th>2</th>\n",
       "      <td>Algeria</td>\n",
       "      <td>27.3</td>\n",
       "      <td>38.4</td>\n",
       "      <td>4.17</td>\n",
       "      <td>31.4</td>\n",
       "      <td>12900</td>\n",
       "      <td>16.10</td>\n",
       "      <td>76.5</td>\n",
       "      <td>2.89</td>\n",
       "      <td>4460</td>\n",
       "    </tr>\n",
       "    <tr>\n",
       "      <th>3</th>\n",
       "      <td>Angola</td>\n",
       "      <td>119.0</td>\n",
       "      <td>62.3</td>\n",
       "      <td>2.85</td>\n",
       "      <td>42.9</td>\n",
       "      <td>5900</td>\n",
       "      <td>22.40</td>\n",
       "      <td>60.1</td>\n",
       "      <td>6.16</td>\n",
       "      <td>3530</td>\n",
       "    </tr>\n",
       "    <tr>\n",
       "      <th>4</th>\n",
       "      <td>Antigua and Barbuda</td>\n",
       "      <td>10.3</td>\n",
       "      <td>45.5</td>\n",
       "      <td>6.03</td>\n",
       "      <td>58.9</td>\n",
       "      <td>19100</td>\n",
       "      <td>1.44</td>\n",
       "      <td>76.8</td>\n",
       "      <td>2.13</td>\n",
       "      <td>12200</td>\n",
       "    </tr>\n",
       "  </tbody>\n",
       "</table>\n",
       "</div>"
      ],
      "text/plain": [
       "               country  child_mort  exports  health  imports  income  \\\n",
       "0          Afghanistan        90.2     10.0    7.58     44.9    1610   \n",
       "1              Albania        16.6     28.0    6.55     48.6    9930   \n",
       "2              Algeria        27.3     38.4    4.17     31.4   12900   \n",
       "3               Angola       119.0     62.3    2.85     42.9    5900   \n",
       "4  Antigua and Barbuda        10.3     45.5    6.03     58.9   19100   \n",
       "\n",
       "   inflation  life_expec  total_fer   gdpp  \n",
       "0       9.44        56.2       5.82    553  \n",
       "1       4.49        76.3       1.65   4090  \n",
       "2      16.10        76.5       2.89   4460  \n",
       "3      22.40        60.1       6.16   3530  \n",
       "4       1.44        76.8       2.13  12200  "
      ]
     },
     "execution_count": 3,
     "metadata": {},
     "output_type": "execute_result"
    }
   ],
   "source": [
    "data.head()"
   ]
  },
  {
   "cell_type": "code",
   "execution_count": 4,
   "metadata": {},
   "outputs": [
    {
     "name": "stdout",
     "output_type": "stream",
     "text": [
      "<class 'pandas.core.frame.DataFrame'>\n",
      "RangeIndex: 167 entries, 0 to 166\n",
      "Data columns (total 10 columns):\n",
      "country       167 non-null object\n",
      "child_mort    167 non-null float64\n",
      "exports       167 non-null float64\n",
      "health        167 non-null float64\n",
      "imports       167 non-null float64\n",
      "income        167 non-null int64\n",
      "inflation     167 non-null float64\n",
      "life_expec    167 non-null float64\n",
      "total_fer     167 non-null float64\n",
      "gdpp          167 non-null int64\n",
      "dtypes: float64(7), int64(2), object(1)\n",
      "memory usage: 13.1+ KB\n"
     ]
    }
   ],
   "source": [
    "data.info()"
   ]
  },
  {
   "cell_type": "code",
   "execution_count": 5,
   "metadata": {},
   "outputs": [
    {
     "data": {
      "text/plain": [
       "(167, 10)"
      ]
     },
     "execution_count": 5,
     "metadata": {},
     "output_type": "execute_result"
    }
   ],
   "source": [
    "data.shape"
   ]
  },
  {
   "cell_type": "code",
   "execution_count": 6,
   "metadata": {},
   "outputs": [
    {
     "data": {
      "text/plain": [
       "country       0\n",
       "child_mort    0\n",
       "exports       0\n",
       "health        0\n",
       "imports       0\n",
       "income        0\n",
       "inflation     0\n",
       "life_expec    0\n",
       "total_fer     0\n",
       "gdpp          0\n",
       "dtype: int64"
      ]
     },
     "execution_count": 6,
     "metadata": {},
     "output_type": "execute_result"
    }
   ],
   "source": [
    "data.isna().sum()"
   ]
  },
  {
   "cell_type": "code",
   "execution_count": 7,
   "metadata": {},
   "outputs": [],
   "source": [
    "# There are no missing values in the dataset."
   ]
  },
  {
   "cell_type": "markdown",
   "metadata": {},
   "source": [
    "### Outlier treatment"
   ]
  },
  {
   "cell_type": "code",
   "execution_count": 8,
   "metadata": {},
   "outputs": [
    {
     "data": {
      "image/png": "[encoded data removed]",
      "text/plain": [
       "<Figure size 1152x720 with 9 Axes>"
      ]
     },
     "metadata": {
      "needs_background": "light"
     },
     "output_type": "display_data"
    }
   ],
   "source": [
    "plt.figure(figsize=(16,10))\n",
    "\n",
    "plt.subplot(3,3,1)\n",
    "plt.boxplot(data.child_mort)\n",
    "plt.xlabel(\"child mort\")\n",
    "\n",
    "plt.subplot(3,3,2)\n",
    "plt.boxplot(data.exports)\n",
    "plt.xlabel(\"exports\")\n",
    "\n",
    "plt.subplot(3,3,3)\n",
    "plt.boxplot(data.health)\n",
    "plt.xlabel(\"health\")\n",
    "\n",
    "plt.subplot(3,3,4)\n",
    "plt.boxplot(data.imports)\n",
    "plt.xlabel(\"imports\")\n",
    "\n",
    "plt.subplot(3,3,5)\n",
    "plt.boxplot(data.income)\n",
    "plt.xlabel(\"income\")\n",
    "\n",
    "plt.subplot(3,3,6)\n",
    "plt.boxplot(data.inflation)\n",
    "plt.xlabel(\"inflation\")\n",
    "\n",
    "plt.subplot(3,3,7)\n",
    "plt.boxplot(data.life_expec)\n",
    "plt.xlabel(\"life expec\")\n",
    "\n",
    "plt.subplot(3,3,8)\n",
    "plt.boxplot(data.total_fer)\n",
    "plt.xlabel(\"total fer\")\n",
    "\n",
    "plt.subplot(3,3,9)\n",
    "plt.boxplot(data.gdpp)\n",
    "plt.xlabel(\"gdpp\")\n",
    "\n",
    "plt.show()"
   ]
  },
  {
   "cell_type": "code",
   "execution_count": 9,
   "metadata": {},
   "outputs": [],
   "source": [
    "# High child mortality is an indicator ofunder-deveopment of a country. Upon removing high end outliers, these undeveloped countries will be removed.\n",
    "#So we need to list those countries separately after clustering with mean values of clusters.\n",
    "#There are many outliers for high GDP values, indicative of highdevelopment, the outlier removal will remove these developed countries too."
   ]
  },
  {
   "cell_type": "code",
   "execution_count": 10,
   "metadata": {},
   "outputs": [
    {
     "data": {
      "text/html": [
       "<div>\n",
       "<style scoped>\n",
       "    .dataframe tbody tr th:only-of-type {\n",
       "        vertical-align: middle;\n",
       "    }\n",
       "\n",
       "    .dataframe tbody tr th {\n",
       "        vertical-align: top;\n",
       "    }\n",
       "\n",
       "    .dataframe thead th {\n",
       "        text-align: right;\n",
       "    }\n",
       "</style>\n",
       "<table border=\"1\" class=\"dataframe\">\n",
       "  <thead>\n",
       "    <tr style=\"text-align: right;\">\n",
       "      <th></th>\n",
       "      <th>child_mort</th>\n",
       "      <th>exports</th>\n",
       "      <th>health</th>\n",
       "      <th>imports</th>\n",
       "      <th>income</th>\n",
       "      <th>inflation</th>\n",
       "      <th>life_expec</th>\n",
       "      <th>total_fer</th>\n",
       "      <th>gdpp</th>\n",
       "    </tr>\n",
       "  </thead>\n",
       "  <tbody>\n",
       "    <tr>\n",
       "      <th>count</th>\n",
       "      <td>167.000000</td>\n",
       "      <td>167.000000</td>\n",
       "      <td>167.000000</td>\n",
       "      <td>167.000000</td>\n",
       "      <td>167.000000</td>\n",
       "      <td>167.000000</td>\n",
       "      <td>167.000000</td>\n",
       "      <td>167.000000</td>\n",
       "      <td>167.000000</td>\n",
       "    </tr>\n",
       "    <tr>\n",
       "      <th>mean</th>\n",
       "      <td>38.270060</td>\n",
       "      <td>41.108976</td>\n",
       "      <td>6.815689</td>\n",
       "      <td>46.890215</td>\n",
       "      <td>17144.688623</td>\n",
       "      <td>7.781832</td>\n",
       "      <td>70.555689</td>\n",
       "      <td>2.947964</td>\n",
       "      <td>12964.155689</td>\n",
       "    </tr>\n",
       "    <tr>\n",
       "      <th>std</th>\n",
       "      <td>40.328931</td>\n",
       "      <td>27.412010</td>\n",
       "      <td>2.746837</td>\n",
       "      <td>24.209589</td>\n",
       "      <td>19278.067698</td>\n",
       "      <td>10.570704</td>\n",
       "      <td>8.893172</td>\n",
       "      <td>1.513848</td>\n",
       "      <td>18328.704809</td>\n",
       "    </tr>\n",
       "    <tr>\n",
       "      <th>min</th>\n",
       "      <td>2.600000</td>\n",
       "      <td>0.109000</td>\n",
       "      <td>1.810000</td>\n",
       "      <td>0.065900</td>\n",
       "      <td>609.000000</td>\n",
       "      <td>-4.210000</td>\n",
       "      <td>32.100000</td>\n",
       "      <td>1.150000</td>\n",
       "      <td>231.000000</td>\n",
       "    </tr>\n",
       "    <tr>\n",
       "      <th>25%</th>\n",
       "      <td>8.250000</td>\n",
       "      <td>23.800000</td>\n",
       "      <td>4.920000</td>\n",
       "      <td>30.200000</td>\n",
       "      <td>3355.000000</td>\n",
       "      <td>1.810000</td>\n",
       "      <td>65.300000</td>\n",
       "      <td>1.795000</td>\n",
       "      <td>1330.000000</td>\n",
       "    </tr>\n",
       "    <tr>\n",
       "      <th>50%</th>\n",
       "      <td>19.300000</td>\n",
       "      <td>35.000000</td>\n",
       "      <td>6.320000</td>\n",
       "      <td>43.300000</td>\n",
       "      <td>9960.000000</td>\n",
       "      <td>5.390000</td>\n",
       "      <td>73.100000</td>\n",
       "      <td>2.410000</td>\n",
       "      <td>4660.000000</td>\n",
       "    </tr>\n",
       "    <tr>\n",
       "      <th>75%</th>\n",
       "      <td>62.100000</td>\n",
       "      <td>51.350000</td>\n",
       "      <td>8.600000</td>\n",
       "      <td>58.750000</td>\n",
       "      <td>22800.000000</td>\n",
       "      <td>10.750000</td>\n",
       "      <td>76.800000</td>\n",
       "      <td>3.880000</td>\n",
       "      <td>14050.000000</td>\n",
       "    </tr>\n",
       "    <tr>\n",
       "      <th>90%</th>\n",
       "      <td>100.220000</td>\n",
       "      <td>70.800000</td>\n",
       "      <td>10.940000</td>\n",
       "      <td>75.420000</td>\n",
       "      <td>41220.000000</td>\n",
       "      <td>16.640000</td>\n",
       "      <td>80.400000</td>\n",
       "      <td>5.322000</td>\n",
       "      <td>41840.000000</td>\n",
       "    </tr>\n",
       "    <tr>\n",
       "      <th>95%</th>\n",
       "      <td>116.000000</td>\n",
       "      <td>80.570000</td>\n",
       "      <td>11.570000</td>\n",
       "      <td>81.140000</td>\n",
       "      <td>48290.000000</td>\n",
       "      <td>20.870000</td>\n",
       "      <td>81.400000</td>\n",
       "      <td>5.861000</td>\n",
       "      <td>48610.000000</td>\n",
       "    </tr>\n",
       "    <tr>\n",
       "      <th>99%</th>\n",
       "      <td>153.400000</td>\n",
       "      <td>160.480000</td>\n",
       "      <td>13.474000</td>\n",
       "      <td>146.080000</td>\n",
       "      <td>84374.000000</td>\n",
       "      <td>41.478000</td>\n",
       "      <td>82.370000</td>\n",
       "      <td>6.563600</td>\n",
       "      <td>79088.000000</td>\n",
       "    </tr>\n",
       "    <tr>\n",
       "      <th>max</th>\n",
       "      <td>208.000000</td>\n",
       "      <td>200.000000</td>\n",
       "      <td>17.900000</td>\n",
       "      <td>174.000000</td>\n",
       "      <td>125000.000000</td>\n",
       "      <td>104.000000</td>\n",
       "      <td>82.800000</td>\n",
       "      <td>7.490000</td>\n",
       "      <td>105000.000000</td>\n",
       "    </tr>\n",
       "  </tbody>\n",
       "</table>\n",
       "</div>"
      ],
      "text/plain": [
       "       child_mort     exports      health     imports         income  \\\n",
       "count  167.000000  167.000000  167.000000  167.000000     167.000000   \n",
       "mean    38.270060   41.108976    6.815689   46.890215   17144.688623   \n",
       "std     40.328931   27.412010    2.746837   24.209589   19278.067698   \n",
       "min      2.600000    0.109000    1.810000    0.065900     609.000000   \n",
       "25%      8.250000   23.800000    4.920000   30.200000    3355.000000   \n",
       "50%     19.300000   35.000000    6.320000   43.300000    9960.000000   \n",
       "75%     62.100000   51.350000    8.600000   58.750000   22800.000000   \n",
       "90%    100.220000   70.800000   10.940000   75.420000   41220.000000   \n",
       "95%    116.000000   80.570000   11.570000   81.140000   48290.000000   \n",
       "99%    153.400000  160.480000   13.474000  146.080000   84374.000000   \n",
       "max    208.000000  200.000000   17.900000  174.000000  125000.000000   \n",
       "\n",
       "        inflation  life_expec   total_fer           gdpp  \n",
       "count  167.000000  167.000000  167.000000     167.000000  \n",
       "mean     7.781832   70.555689    2.947964   12964.155689  \n",
       "std     10.570704    8.893172    1.513848   18328.704809  \n",
       "min     -4.210000   32.100000    1.150000     231.000000  \n",
       "25%      1.810000   65.300000    1.795000    1330.000000  \n",
       "50%      5.390000   73.100000    2.410000    4660.000000  \n",
       "75%     10.750000   76.800000    3.880000   14050.000000  \n",
       "90%     16.640000   80.400000    5.322000   41840.000000  \n",
       "95%     20.870000   81.400000    5.861000   48610.000000  \n",
       "99%     41.478000   82.370000    6.563600   79088.000000  \n",
       "max    104.000000   82.800000    7.490000  105000.000000  "
      ]
     },
     "execution_count": 10,
     "metadata": {},
     "output_type": "execute_result"
    }
   ],
   "source": [
    "num_data= data[['child_mort','exports','health','imports','income','inflation','life_expec','total_fer','gdpp']]\n",
    "# Checking outliers at 25%,50%,75%,90%,95% and 99%\n",
    "num_data.describe(percentiles=[.25,.5,.75,.90,.95,.99])"
   ]
  },
  {
   "cell_type": "markdown",
   "metadata": {},
   "source": [
    "### Retaining data within +/-3 (StdDev) range"
   ]
  },
  {
   "cell_type": "code",
   "execution_count": 11,
   "metadata": {},
   "outputs": [],
   "source": [
    "def remove_outlier(df, Data):\n",
    "        df_out=df[np.abs(df[Data]-df[Data].mean()) <= (3*df[Data].std())]\n",
    "        return df_out"
   ]
  },
  {
   "cell_type": "code",
   "execution_count": 12,
   "metadata": {},
   "outputs": [],
   "source": [
    "df1=remove_outlier(data,'child_mort')"
   ]
  },
  {
   "cell_type": "code",
   "execution_count": 13,
   "metadata": {},
   "outputs": [
    {
     "data": {
      "text/plain": [
       "(165, 10)"
      ]
     },
     "execution_count": 13,
     "metadata": {},
     "output_type": "execute_result"
    }
   ],
   "source": [
    "df1.shape"
   ]
  },
  {
   "cell_type": "code",
   "execution_count": 14,
   "metadata": {},
   "outputs": [],
   "source": [
    "df2=remove_outlier(df1,'exports')"
   ]
  },
  {
   "cell_type": "code",
   "execution_count": 15,
   "metadata": {},
   "outputs": [
    {
     "data": {
      "text/plain": [
       "(162, 10)"
      ]
     },
     "execution_count": 15,
     "metadata": {},
     "output_type": "execute_result"
    }
   ],
   "source": [
    "df2.shape"
   ]
  },
  {
   "cell_type": "code",
   "execution_count": 16,
   "metadata": {},
   "outputs": [],
   "source": [
    "df3=remove_outlier(df2,'health')"
   ]
  },
  {
   "cell_type": "code",
   "execution_count": 17,
   "metadata": {},
   "outputs": [
    {
     "data": {
      "text/plain": [
       "(161, 10)"
      ]
     },
     "execution_count": 17,
     "metadata": {},
     "output_type": "execute_result"
    }
   ],
   "source": [
    "df3.shape"
   ]
  },
  {
   "cell_type": "code",
   "execution_count": 18,
   "metadata": {},
   "outputs": [],
   "source": [
    "df4=remove_outlier(df3,'imports')"
   ]
  },
  {
   "cell_type": "code",
   "execution_count": 19,
   "metadata": {},
   "outputs": [
    {
     "data": {
      "text/plain": [
       "(160, 10)"
      ]
     },
     "execution_count": 19,
     "metadata": {},
     "output_type": "execute_result"
    }
   ],
   "source": [
    "df4.shape"
   ]
  },
  {
   "cell_type": "code",
   "execution_count": 20,
   "metadata": {},
   "outputs": [],
   "source": [
    "df5=remove_outlier(df4,'income')"
   ]
  },
  {
   "cell_type": "code",
   "execution_count": 21,
   "metadata": {},
   "outputs": [
    {
     "data": {
      "text/plain": [
       "(157, 10)"
      ]
     },
     "execution_count": 21,
     "metadata": {},
     "output_type": "execute_result"
    }
   ],
   "source": [
    "df5.shape"
   ]
  },
  {
   "cell_type": "code",
   "execution_count": 22,
   "metadata": {},
   "outputs": [],
   "source": [
    "df6=remove_outlier(df5,'inflation')"
   ]
  },
  {
   "cell_type": "code",
   "execution_count": 23,
   "metadata": {},
   "outputs": [
    {
     "data": {
      "text/plain": [
       "(155, 10)"
      ]
     },
     "execution_count": 23,
     "metadata": {},
     "output_type": "execute_result"
    }
   ],
   "source": [
    "df6.shape"
   ]
  },
  {
   "cell_type": "code",
   "execution_count": 24,
   "metadata": {},
   "outputs": [],
   "source": [
    "df7=remove_outlier(df6,'life_expec')"
   ]
  },
  {
   "cell_type": "code",
   "execution_count": 25,
   "metadata": {},
   "outputs": [
    {
     "data": {
      "text/plain": [
       "(155, 10)"
      ]
     },
     "execution_count": 25,
     "metadata": {},
     "output_type": "execute_result"
    }
   ],
   "source": [
    "df7.shape"
   ]
  },
  {
   "cell_type": "code",
   "execution_count": 26,
   "metadata": {},
   "outputs": [],
   "source": [
    "df8=remove_outlier(df7,'total_fer')"
   ]
  },
  {
   "cell_type": "code",
   "execution_count": 27,
   "metadata": {},
   "outputs": [
    {
     "data": {
      "text/plain": [
       "(155, 10)"
      ]
     },
     "execution_count": 27,
     "metadata": {},
     "output_type": "execute_result"
    }
   ],
   "source": [
    "df8.shape"
   ]
  },
  {
   "cell_type": "code",
   "execution_count": 28,
   "metadata": {},
   "outputs": [],
   "source": [
    "df=remove_outlier(df8,'gdpp')"
   ]
  },
  {
   "cell_type": "code",
   "execution_count": 29,
   "metadata": {},
   "outputs": [
    {
     "data": {
      "text/plain": [
       "(153, 10)"
      ]
     },
     "execution_count": 29,
     "metadata": {},
     "output_type": "execute_result"
    }
   ],
   "source": [
    "df.shape"
   ]
  },
  {
   "cell_type": "code",
   "execution_count": 30,
   "metadata": {},
   "outputs": [
    {
     "data": {
      "text/html": [
       "<div>\n",
       "<style scoped>\n",
       "    .dataframe tbody tr th:only-of-type {\n",
       "        vertical-align: middle;\n",
       "    }\n",
       "\n",
       "    .dataframe tbody tr th {\n",
       "        vertical-align: top;\n",
       "    }\n",
       "\n",
       "    .dataframe thead th {\n",
       "        text-align: right;\n",
       "    }\n",
       "</style>\n",
       "<table border=\"1\" class=\"dataframe\">\n",
       "  <thead>\n",
       "    <tr style=\"text-align: right;\">\n",
       "      <th></th>\n",
       "      <th>country</th>\n",
       "      <th>child_mort</th>\n",
       "      <th>exports</th>\n",
       "      <th>health</th>\n",
       "      <th>imports</th>\n",
       "      <th>income</th>\n",
       "      <th>inflation</th>\n",
       "      <th>life_expec</th>\n",
       "      <th>total_fer</th>\n",
       "      <th>gdpp</th>\n",
       "    </tr>\n",
       "  </thead>\n",
       "  <tbody>\n",
       "    <tr>\n",
       "      <th>0</th>\n",
       "      <td>Afghanistan</td>\n",
       "      <td>90.2</td>\n",
       "      <td>10.0</td>\n",
       "      <td>7.58</td>\n",
       "      <td>44.9</td>\n",
       "      <td>1610</td>\n",
       "      <td>9.44</td>\n",
       "      <td>56.2</td>\n",
       "      <td>5.82</td>\n",
       "      <td>553</td>\n",
       "    </tr>\n",
       "    <tr>\n",
       "      <th>1</th>\n",
       "      <td>Albania</td>\n",
       "      <td>16.6</td>\n",
       "      <td>28.0</td>\n",
       "      <td>6.55</td>\n",
       "      <td>48.6</td>\n",
       "      <td>9930</td>\n",
       "      <td>4.49</td>\n",
       "      <td>76.3</td>\n",
       "      <td>1.65</td>\n",
       "      <td>4090</td>\n",
       "    </tr>\n",
       "    <tr>\n",
       "      <th>2</th>\n",
       "      <td>Algeria</td>\n",
       "      <td>27.3</td>\n",
       "      <td>38.4</td>\n",
       "      <td>4.17</td>\n",
       "      <td>31.4</td>\n",
       "      <td>12900</td>\n",
       "      <td>16.10</td>\n",
       "      <td>76.5</td>\n",
       "      <td>2.89</td>\n",
       "      <td>4460</td>\n",
       "    </tr>\n",
       "    <tr>\n",
       "      <th>3</th>\n",
       "      <td>Angola</td>\n",
       "      <td>119.0</td>\n",
       "      <td>62.3</td>\n",
       "      <td>2.85</td>\n",
       "      <td>42.9</td>\n",
       "      <td>5900</td>\n",
       "      <td>22.40</td>\n",
       "      <td>60.1</td>\n",
       "      <td>6.16</td>\n",
       "      <td>3530</td>\n",
       "    </tr>\n",
       "    <tr>\n",
       "      <th>4</th>\n",
       "      <td>Antigua and Barbuda</td>\n",
       "      <td>10.3</td>\n",
       "      <td>45.5</td>\n",
       "      <td>6.03</td>\n",
       "      <td>58.9</td>\n",
       "      <td>19100</td>\n",
       "      <td>1.44</td>\n",
       "      <td>76.8</td>\n",
       "      <td>2.13</td>\n",
       "      <td>12200</td>\n",
       "    </tr>\n",
       "  </tbody>\n",
       "</table>\n",
       "</div>"
      ],
      "text/plain": [
       "               country  child_mort  exports  health  imports  income  \\\n",
       "0          Afghanistan        90.2     10.0    7.58     44.9    1610   \n",
       "1              Albania        16.6     28.0    6.55     48.6    9930   \n",
       "2              Algeria        27.3     38.4    4.17     31.4   12900   \n",
       "3               Angola       119.0     62.3    2.85     42.9    5900   \n",
       "4  Antigua and Barbuda        10.3     45.5    6.03     58.9   19100   \n",
       "\n",
       "   inflation  life_expec  total_fer   gdpp  \n",
       "0       9.44        56.2       5.82    553  \n",
       "1       4.49        76.3       1.65   4090  \n",
       "2      16.10        76.5       2.89   4460  \n",
       "3      22.40        60.1       6.16   3530  \n",
       "4       1.44        76.8       2.13  12200  "
      ]
     },
     "execution_count": 30,
     "metadata": {},
     "output_type": "execute_result"
    }
   ],
   "source": [
    "df.head()"
   ]
  },
  {
   "cell_type": "markdown",
   "metadata": {},
   "source": [
    "### Visualising the Data distribution after Outlier removal"
   ]
  },
  {
   "cell_type": "code",
   "execution_count": 31,
   "metadata": {},
   "outputs": [
    {
     "data": {
      "image/png": "[encoded data removed]",
      "text/plain": [
       "<Figure size 1152x720 with 9 Axes>"
      ]
     },
     "metadata": {
      "needs_background": "light"
     },
     "output_type": "display_data"
    }
   ],
   "source": [
    "plt.figure(figsize=(16,10))\n",
    "\n",
    "plt.subplot(3,3,1)\n",
    "plt.boxplot(df.child_mort)\n",
    "plt.xlabel(\"child mort\")\n",
    "\n",
    "plt.subplot(3,3,2)\n",
    "plt.boxplot(df.exports)\n",
    "plt.xlabel(\"exports\")\n",
    "\n",
    "plt.subplot(3,3,3)\n",
    "plt.boxplot(df.health)\n",
    "plt.xlabel(\"health\")\n",
    "\n",
    "plt.subplot(3,3,4)\n",
    "plt.boxplot(df.imports)\n",
    "plt.xlabel(\"imports\")\n",
    "\n",
    "plt.subplot(3,3,5)\n",
    "plt.boxplot(df.income)\n",
    "plt.xlabel(\"income\")\n",
    "\n",
    "plt.subplot(3,3,6)\n",
    "plt.boxplot(df.inflation)\n",
    "plt.xlabel(\"inflation\")\n",
    "\n",
    "plt.subplot(3,3,7)\n",
    "plt.boxplot(df.life_expec)\n",
    "plt.xlabel(\"life expec\")\n",
    "\n",
    "plt.subplot(3,3,8)\n",
    "plt.boxplot(df.total_fer)\n",
    "plt.xlabel(\"total fer\")\n",
    "\n",
    "plt.subplot(3,3,9)\n",
    "plt.boxplot(df.gdpp)\n",
    "plt.xlabel(\"gdpp\")\n",
    "\n",
    "plt.show()"
   ]
  },
  {
   "cell_type": "code",
   "execution_count": 32,
   "metadata": {},
   "outputs": [
    {
     "data": {
      "text/html": [
       "<div>\n",
       "<style scoped>\n",
       "    .dataframe tbody tr th:only-of-type {\n",
       "        vertical-align: middle;\n",
       "    }\n",
       "\n",
       "    .dataframe tbody tr th {\n",
       "        vertical-align: top;\n",
       "    }\n",
       "\n",
       "    .dataframe thead th {\n",
       "        text-align: right;\n",
       "    }\n",
       "</style>\n",
       "<table border=\"1\" class=\"dataframe\">\n",
       "  <thead>\n",
       "    <tr style=\"text-align: right;\">\n",
       "      <th></th>\n",
       "      <th>child_mort</th>\n",
       "      <th>exports</th>\n",
       "      <th>health</th>\n",
       "      <th>imports</th>\n",
       "      <th>income</th>\n",
       "      <th>inflation</th>\n",
       "      <th>life_expec</th>\n",
       "      <th>total_fer</th>\n",
       "      <th>gdpp</th>\n",
       "    </tr>\n",
       "  </thead>\n",
       "  <tbody>\n",
       "    <tr>\n",
       "      <th>count</th>\n",
       "      <td>153.000000</td>\n",
       "      <td>153.000000</td>\n",
       "      <td>153.000000</td>\n",
       "      <td>153.000000</td>\n",
       "      <td>153.000000</td>\n",
       "      <td>153.000000</td>\n",
       "      <td>153.000000</td>\n",
       "      <td>153.000000</td>\n",
       "      <td>153.000000</td>\n",
       "    </tr>\n",
       "    <tr>\n",
       "      <th>mean</th>\n",
       "      <td>37.933987</td>\n",
       "      <td>38.202608</td>\n",
       "      <td>6.786209</td>\n",
       "      <td>45.350758</td>\n",
       "      <td>14237.209150</td>\n",
       "      <td>7.068333</td>\n",
       "      <td>70.362092</td>\n",
       "      <td>2.991111</td>\n",
       "      <td>10521.065359</td>\n",
       "    </tr>\n",
       "    <tr>\n",
       "      <th>std</th>\n",
       "      <td>36.964735</td>\n",
       "      <td>19.894894</td>\n",
       "      <td>2.528511</td>\n",
       "      <td>18.463141</td>\n",
       "      <td>13441.625893</td>\n",
       "      <td>6.898622</td>\n",
       "      <td>8.279382</td>\n",
       "      <td>1.520955</td>\n",
       "      <td>13969.934125</td>\n",
       "    </tr>\n",
       "    <tr>\n",
       "      <th>min</th>\n",
       "      <td>2.600000</td>\n",
       "      <td>0.109000</td>\n",
       "      <td>1.970000</td>\n",
       "      <td>0.065900</td>\n",
       "      <td>609.000000</td>\n",
       "      <td>-3.220000</td>\n",
       "      <td>46.500000</td>\n",
       "      <td>1.230000</td>\n",
       "      <td>231.000000</td>\n",
       "    </tr>\n",
       "    <tr>\n",
       "      <th>25%</th>\n",
       "      <td>8.700000</td>\n",
       "      <td>23.800000</td>\n",
       "      <td>4.980000</td>\n",
       "      <td>30.900000</td>\n",
       "      <td>3320.000000</td>\n",
       "      <td>1.850000</td>\n",
       "      <td>65.300000</td>\n",
       "      <td>1.800000</td>\n",
       "      <td>1310.000000</td>\n",
       "    </tr>\n",
       "    <tr>\n",
       "      <th>50%</th>\n",
       "      <td>20.700000</td>\n",
       "      <td>35.000000</td>\n",
       "      <td>6.320000</td>\n",
       "      <td>43.300000</td>\n",
       "      <td>9860.000000</td>\n",
       "      <td>5.140000</td>\n",
       "      <td>72.100000</td>\n",
       "      <td>2.520000</td>\n",
       "      <td>4500.000000</td>\n",
       "    </tr>\n",
       "    <tr>\n",
       "      <th>75%</th>\n",
       "      <td>62.200000</td>\n",
       "      <td>50.500000</td>\n",
       "      <td>8.500000</td>\n",
       "      <td>58.100000</td>\n",
       "      <td>20100.000000</td>\n",
       "      <td>10.100000</td>\n",
       "      <td>76.500000</td>\n",
       "      <td>4.080000</td>\n",
       "      <td>12100.000000</td>\n",
       "    </tr>\n",
       "    <tr>\n",
       "      <th>90%</th>\n",
       "      <td>96.640000</td>\n",
       "      <td>66.400000</td>\n",
       "      <td>10.660000</td>\n",
       "      <td>70.360000</td>\n",
       "      <td>36760.000000</td>\n",
       "      <td>16.580000</td>\n",
       "      <td>80.260000</td>\n",
       "      <td>5.334000</td>\n",
       "      <td>34740.000000</td>\n",
       "    </tr>\n",
       "    <tr>\n",
       "      <th>95%</th>\n",
       "      <td>112.200000</td>\n",
       "      <td>76.340000</td>\n",
       "      <td>11.340000</td>\n",
       "      <td>79.420000</td>\n",
       "      <td>42000.000000</td>\n",
       "      <td>20.740000</td>\n",
       "      <td>81.340000</td>\n",
       "      <td>5.982000</td>\n",
       "      <td>45180.000000</td>\n",
       "    </tr>\n",
       "    <tr>\n",
       "      <th>99%</th>\n",
       "      <td>142.760000</td>\n",
       "      <td>86.328000</td>\n",
       "      <td>11.900000</td>\n",
       "      <td>89.428000</td>\n",
       "      <td>45596.000000</td>\n",
       "      <td>25.668000</td>\n",
       "      <td>82.000000</td>\n",
       "      <td>6.569200</td>\n",
       "      <td>51996.000000</td>\n",
       "    </tr>\n",
       "    <tr>\n",
       "      <th>max</th>\n",
       "      <td>150.000000</td>\n",
       "      <td>103.000000</td>\n",
       "      <td>14.200000</td>\n",
       "      <td>101.000000</td>\n",
       "      <td>57600.000000</td>\n",
       "      <td>39.200000</td>\n",
       "      <td>82.800000</td>\n",
       "      <td>7.490000</td>\n",
       "      <td>58000.000000</td>\n",
       "    </tr>\n",
       "  </tbody>\n",
       "</table>\n",
       "</div>"
      ],
      "text/plain": [
       "       child_mort     exports      health     imports        income  \\\n",
       "count  153.000000  153.000000  153.000000  153.000000    153.000000   \n",
       "mean    37.933987   38.202608    6.786209   45.350758  14237.209150   \n",
       "std     36.964735   19.894894    2.528511   18.463141  13441.625893   \n",
       "min      2.600000    0.109000    1.970000    0.065900    609.000000   \n",
       "25%      8.700000   23.800000    4.980000   30.900000   3320.000000   \n",
       "50%     20.700000   35.000000    6.320000   43.300000   9860.000000   \n",
       "75%     62.200000   50.500000    8.500000   58.100000  20100.000000   \n",
       "90%     96.640000   66.400000   10.660000   70.360000  36760.000000   \n",
       "95%    112.200000   76.340000   11.340000   79.420000  42000.000000   \n",
       "99%    142.760000   86.328000   11.900000   89.428000  45596.000000   \n",
       "max    150.000000  103.000000   14.200000  101.000000  57600.000000   \n",
       "\n",
       "        inflation  life_expec   total_fer          gdpp  \n",
       "count  153.000000  153.000000  153.000000    153.000000  \n",
       "mean     7.068333   70.362092    2.991111  10521.065359  \n",
       "std      6.898622    8.279382    1.520955  13969.934125  \n",
       "min     -3.220000   46.500000    1.230000    231.000000  \n",
       "25%      1.850000   65.300000    1.800000   1310.000000  \n",
       "50%      5.140000   72.100000    2.520000   4500.000000  \n",
       "75%     10.100000   76.500000    4.080000  12100.000000  \n",
       "90%     16.580000   80.260000    5.334000  34740.000000  \n",
       "95%     20.740000   81.340000    5.982000  45180.000000  \n",
       "99%     25.668000   82.000000    6.569200  51996.000000  \n",
       "max     39.200000   82.800000    7.490000  58000.000000  "
      ]
     },
     "execution_count": 32,
     "metadata": {},
     "output_type": "execute_result"
    }
   ],
   "source": [
    "# Checking outliers at 25%,50%,75%,90%,95% and 99%\n",
    "num_cols= ['child_mort','exports','health','imports','income','inflation','life_expec','total_fer','gdpp']\n",
    "df[num_cols].describe(percentiles=[.25,.5,.75,.90,.95,.99])"
   ]
  },
  {
   "cell_type": "code",
   "execution_count": 33,
   "metadata": {},
   "outputs": [],
   "source": [
    "#This data can be used now as the values are now increasing gradually."
   ]
  },
  {
   "cell_type": "code",
   "execution_count": 34,
   "metadata": {},
   "outputs": [],
   "source": [
    "df_scaled=df[num_cols]"
   ]
  },
  {
   "cell_type": "markdown",
   "metadata": {},
   "source": [
    "### Scaling with StandardScaler"
   ]
  },
  {
   "cell_type": "code",
   "execution_count": 35,
   "metadata": {},
   "outputs": [],
   "source": [
    "from sklearn.preprocessing import StandardScaler\n",
    "scaler = StandardScaler()\n",
    "df_scaled = scaler.fit_transform(df_scaled)"
   ]
  },
  {
   "cell_type": "code",
   "execution_count": 36,
   "metadata": {},
   "outputs": [
    {
     "data": {
      "text/plain": [
       "(153, 9)"
      ]
     },
     "execution_count": 36,
     "metadata": {},
     "output_type": "execute_result"
    }
   ],
   "source": [
    "df_scaled.shape"
   ]
  },
  {
   "cell_type": "code",
   "execution_count": 37,
   "metadata": {},
   "outputs": [],
   "source": [
    "num_data=df[num_cols]"
   ]
  },
  {
   "cell_type": "code",
   "execution_count": 38,
   "metadata": {},
   "outputs": [
    {
     "data": {
      "text/plain": [
       "(153, 9)"
      ]
     },
     "execution_count": 38,
     "metadata": {},
     "output_type": "execute_result"
    }
   ],
   "source": [
    "num_data.shape"
   ]
  },
  {
   "cell_type": "code",
   "execution_count": 39,
   "metadata": {},
   "outputs": [
    {
     "name": "stdout",
     "output_type": "stream",
     "text": [
      "<class 'pandas.core.frame.DataFrame'>\n",
      "Int64Index: 153 entries, 0 to 166\n",
      "Data columns (total 9 columns):\n",
      "child_mort    153 non-null float64\n",
      "exports       153 non-null float64\n",
      "health        153 non-null float64\n",
      "imports       153 non-null float64\n",
      "income        153 non-null int64\n",
      "inflation     153 non-null float64\n",
      "life_expec    153 non-null float64\n",
      "total_fer     153 non-null float64\n",
      "gdpp          153 non-null int64\n",
      "dtypes: float64(7), int64(2)\n",
      "memory usage: 12.0 KB\n"
     ]
    }
   ],
   "source": [
    "num_data.info()"
   ]
  },
  {
   "cell_type": "code",
   "execution_count": 40,
   "metadata": {},
   "outputs": [
    {
     "data": {
      "text/html": [
       "<div>\n",
       "<style scoped>\n",
       "    .dataframe tbody tr th:only-of-type {\n",
       "        vertical-align: middle;\n",
       "    }\n",
       "\n",
       "    .dataframe tbody tr th {\n",
       "        vertical-align: top;\n",
       "    }\n",
       "\n",
       "    .dataframe thead th {\n",
       "        text-align: right;\n",
       "    }\n",
       "</style>\n",
       "<table border=\"1\" class=\"dataframe\">\n",
       "  <thead>\n",
       "    <tr style=\"text-align: right;\">\n",
       "      <th></th>\n",
       "      <th>child_mort</th>\n",
       "      <th>exports</th>\n",
       "      <th>health</th>\n",
       "      <th>imports</th>\n",
       "      <th>income</th>\n",
       "      <th>inflation</th>\n",
       "      <th>life_expec</th>\n",
       "      <th>total_fer</th>\n",
       "      <th>gdpp</th>\n",
       "    </tr>\n",
       "  </thead>\n",
       "  <tbody>\n",
       "    <tr>\n",
       "      <th>0</th>\n",
       "      <td>90.2</td>\n",
       "      <td>10.0</td>\n",
       "      <td>7.58</td>\n",
       "      <td>44.9</td>\n",
       "      <td>1610</td>\n",
       "      <td>9.44</td>\n",
       "      <td>56.2</td>\n",
       "      <td>5.82</td>\n",
       "      <td>553</td>\n",
       "    </tr>\n",
       "    <tr>\n",
       "      <th>1</th>\n",
       "      <td>16.6</td>\n",
       "      <td>28.0</td>\n",
       "      <td>6.55</td>\n",
       "      <td>48.6</td>\n",
       "      <td>9930</td>\n",
       "      <td>4.49</td>\n",
       "      <td>76.3</td>\n",
       "      <td>1.65</td>\n",
       "      <td>4090</td>\n",
       "    </tr>\n",
       "    <tr>\n",
       "      <th>2</th>\n",
       "      <td>27.3</td>\n",
       "      <td>38.4</td>\n",
       "      <td>4.17</td>\n",
       "      <td>31.4</td>\n",
       "      <td>12900</td>\n",
       "      <td>16.10</td>\n",
       "      <td>76.5</td>\n",
       "      <td>2.89</td>\n",
       "      <td>4460</td>\n",
       "    </tr>\n",
       "    <tr>\n",
       "      <th>3</th>\n",
       "      <td>119.0</td>\n",
       "      <td>62.3</td>\n",
       "      <td>2.85</td>\n",
       "      <td>42.9</td>\n",
       "      <td>5900</td>\n",
       "      <td>22.40</td>\n",
       "      <td>60.1</td>\n",
       "      <td>6.16</td>\n",
       "      <td>3530</td>\n",
       "    </tr>\n",
       "    <tr>\n",
       "      <th>4</th>\n",
       "      <td>10.3</td>\n",
       "      <td>45.5</td>\n",
       "      <td>6.03</td>\n",
       "      <td>58.9</td>\n",
       "      <td>19100</td>\n",
       "      <td>1.44</td>\n",
       "      <td>76.8</td>\n",
       "      <td>2.13</td>\n",
       "      <td>12200</td>\n",
       "    </tr>\n",
       "  </tbody>\n",
       "</table>\n",
       "</div>"
      ],
      "text/plain": [
       "   child_mort  exports  health  imports  income  inflation  life_expec  \\\n",
       "0        90.2     10.0    7.58     44.9    1610       9.44        56.2   \n",
       "1        16.6     28.0    6.55     48.6    9930       4.49        76.3   \n",
       "2        27.3     38.4    4.17     31.4   12900      16.10        76.5   \n",
       "3       119.0     62.3    2.85     42.9    5900      22.40        60.1   \n",
       "4        10.3     45.5    6.03     58.9   19100       1.44        76.8   \n",
       "\n",
       "   total_fer   gdpp  \n",
       "0       5.82    553  \n",
       "1       1.65   4090  \n",
       "2       2.89   4460  \n",
       "3       6.16   3530  \n",
       "4       2.13  12200  "
      ]
     },
     "execution_count": 40,
     "metadata": {},
     "output_type": "execute_result"
    }
   ],
   "source": [
    "num_data.head(5)"
   ]
  },
  {
   "cell_type": "code",
   "execution_count": 41,
   "metadata": {},
   "outputs": [
    {
     "data": {
      "image/png": "[encoded data removed]",
      "text/plain": [
       "<Figure size 864x576 with 2 Axes>"
      ]
     },
     "metadata": {
      "needs_background": "light"
     },
     "output_type": "display_data"
    }
   ],
   "source": [
    "# Let's see the correlation matrix \n",
    "plt.figure(figsize = (12,8))        # Size of the figure\n",
    "sns.heatmap(num_data.corr(),annot = True)\n",
    "plt.show()"
   ]
  },
  {
   "cell_type": "code",
   "execution_count": 42,
   "metadata": {},
   "outputs": [],
   "source": [
    "#Above heat map can be used to find correlation between different variables-\n",
    "#1.Very strong positive correlation between child_mort & total_fer-->more children born, more probability of child death\n",
    "#2.Strong negative correlation b/w child_mort & life_exepec--> child mortality high, life expectancy low, that is interpretable \n",
    "#3.Moderate negative correlation b/w child_mor & income;high child_mor-->low income; high child_mor-->high total_fer-->\n",
    "#low life_expec-->low income\n",
    "#so overall high child_mor and high total_fer is proving bad for economy\n",
    "#4.Strong negative correlation b/w total_fer & life_expec -->chid_mor-->high-->life_expec low\n",
    "#So out of (Child_mor, total_fer and life_expec), child_mor can be analysed to check development status of a country\n",
    "#5.Moderate positive correlation b/w income & exports; high income-->high exports\n",
    "#6.Moderate positive correlation b/w imports & exports; high exports-->high imports\n",
    "#7.gdpp is negatively correlated with total_fer and child_mor. High child_mor, low life_epec will negatively affect the GDP of a country\n",
    "#8. gdpp is positively correlated with income, exports, imports, health. That means out of these variables, \n",
    "#gdpp is a strong indicator of development status of a country"
   ]
  },
  {
   "cell_type": "markdown",
   "metadata": {},
   "source": [
    "## Variables to decide development status."
   ]
  },
  {
   "cell_type": "code",
   "execution_count": 43,
   "metadata": {},
   "outputs": [],
   "source": [
    "#So, according to above correlation analysis and by definition of HDI (Human development index), the main variables to decide\n",
    "#development status of a country-\n",
    "#1. child_mor\n",
    "#2.gdpp\n",
    "#3.income\n",
    "#4.life_expec"
   ]
  },
  {
   "cell_type": "code",
   "execution_count": 44,
   "metadata": {},
   "outputs": [],
   "source": [
    "#Improting the PCA module\n",
    "from sklearn.decomposition import PCA\n",
    "pca = PCA(svd_solver='randomized', random_state=42)"
   ]
  },
  {
   "cell_type": "code",
   "execution_count": 45,
   "metadata": {},
   "outputs": [
    {
     "data": {
      "text/plain": [
       "PCA(copy=True, iterated_power='auto', n_components=None, random_state=42,\n",
       "  svd_solver='randomized', tol=0.0, whiten=False)"
      ]
     },
     "execution_count": 45,
     "metadata": {},
     "output_type": "execute_result"
    }
   ],
   "source": [
    "pca.fit(df_scaled)"
   ]
  },
  {
   "cell_type": "code",
   "execution_count": 46,
   "metadata": {},
   "outputs": [
    {
     "data": {
      "text/plain": [
       "(9, 9)"
      ]
     },
     "execution_count": 46,
     "metadata": {},
     "output_type": "execute_result"
    }
   ],
   "source": [
    "pca.components_.shape"
   ]
  },
  {
   "cell_type": "code",
   "execution_count": 47,
   "metadata": {},
   "outputs": [
    {
     "data": {
      "text/plain": [
       "9"
      ]
     },
     "execution_count": 47,
     "metadata": {},
     "output_type": "execute_result"
    }
   ],
   "source": [
    "len(pca.components_[:])"
   ]
  },
  {
   "cell_type": "markdown",
   "metadata": {},
   "source": [
    "### Factor loadings"
   ]
  },
  {
   "cell_type": "code",
   "execution_count": 48,
   "metadata": {},
   "outputs": [
    {
     "data": {
      "text/html": [
       "<div>\n",
       "<style scoped>\n",
       "    .dataframe tbody tr th:only-of-type {\n",
       "        vertical-align: middle;\n",
       "    }\n",
       "\n",
       "    .dataframe tbody tr th {\n",
       "        vertical-align: top;\n",
       "    }\n",
       "\n",
       "    .dataframe thead th {\n",
       "        text-align: right;\n",
       "    }\n",
       "</style>\n",
       "<table border=\"1\" class=\"dataframe\">\n",
       "  <thead>\n",
       "    <tr style=\"text-align: right;\">\n",
       "      <th></th>\n",
       "      <th>Feature</th>\n",
       "      <th>PC1</th>\n",
       "      <th>PC2</th>\n",
       "    </tr>\n",
       "  </thead>\n",
       "  <tbody>\n",
       "    <tr>\n",
       "      <th>0</th>\n",
       "      <td>child_mort</td>\n",
       "      <td>-0.423159</td>\n",
       "      <td>0.044443</td>\n",
       "    </tr>\n",
       "    <tr>\n",
       "      <th>1</th>\n",
       "      <td>exports</td>\n",
       "      <td>0.204297</td>\n",
       "      <td>0.626164</td>\n",
       "    </tr>\n",
       "    <tr>\n",
       "      <th>2</th>\n",
       "      <td>health</td>\n",
       "      <td>0.225493</td>\n",
       "      <td>-0.059947</td>\n",
       "    </tr>\n",
       "    <tr>\n",
       "      <th>3</th>\n",
       "      <td>imports</td>\n",
       "      <td>0.074955</td>\n",
       "      <td>0.742978</td>\n",
       "    </tr>\n",
       "    <tr>\n",
       "      <th>4</th>\n",
       "      <td>income</td>\n",
       "      <td>0.414756</td>\n",
       "      <td>-0.066375</td>\n",
       "    </tr>\n",
       "    <tr>\n",
       "      <th>5</th>\n",
       "      <td>inflation</td>\n",
       "      <td>-0.217286</td>\n",
       "      <td>-0.044619</td>\n",
       "    </tr>\n",
       "    <tr>\n",
       "      <th>6</th>\n",
       "      <td>life_expec</td>\n",
       "      <td>0.427509</td>\n",
       "      <td>-0.152393</td>\n",
       "    </tr>\n",
       "    <tr>\n",
       "      <th>7</th>\n",
       "      <td>total_fer</td>\n",
       "      <td>-0.404501</td>\n",
       "      <td>0.031184</td>\n",
       "    </tr>\n",
       "    <tr>\n",
       "      <th>8</th>\n",
       "      <td>gdpp</td>\n",
       "      <td>0.396375</td>\n",
       "      <td>-0.140503</td>\n",
       "    </tr>\n",
       "  </tbody>\n",
       "</table>\n",
       "</div>"
      ],
      "text/plain": [
       "      Feature       PC1       PC2\n",
       "0  child_mort -0.423159  0.044443\n",
       "1     exports  0.204297  0.626164\n",
       "2      health  0.225493 -0.059947\n",
       "3     imports  0.074955  0.742978\n",
       "4      income  0.414756 -0.066375\n",
       "5   inflation -0.217286 -0.044619\n",
       "6  life_expec  0.427509 -0.152393\n",
       "7   total_fer -0.404501  0.031184\n",
       "8        gdpp  0.396375 -0.140503"
      ]
     },
     "execution_count": 48,
     "metadata": {},
     "output_type": "execute_result"
    }
   ],
   "source": [
    "colnames = list(num_data.columns)\n",
    "pcs_df = pd.DataFrame({'Feature':colnames,'PC1':pca.components_[0],'PC2':pca.components_[1]})\n",
    "pcs_df"
   ]
  },
  {
   "cell_type": "markdown",
   "metadata": {},
   "source": [
    "## Loading plot"
   ]
  },
  {
   "cell_type": "code",
   "execution_count": 49,
   "metadata": {},
   "outputs": [
    {
     "data": {
      "image/png": "[encoded data removed]",
      "text/plain": [
       "<Figure size 576x288 with 1 Axes>"
      ]
     },
     "metadata": {
      "needs_background": "light"
     },
     "output_type": "display_data"
    }
   ],
   "source": [
    "%matplotlib inline\n",
    "fig = plt.figure(figsize = (8,4))\n",
    "plt.scatter(pcs_df.PC1, pcs_df.PC2)\n",
    "plt.xlabel('Principal Component 1')\n",
    "plt.ylabel('Principal Component 2')\n",
    "for i, txt in enumerate(pcs_df.Feature):\n",
    "    plt.annotate(txt, (pcs_df.PC1[i],pcs_df.PC2[i]))\n",
    "plt.tight_layout()\n",
    "plt.show()"
   ]
  },
  {
   "cell_type": "code",
   "execution_count": 50,
   "metadata": {},
   "outputs": [],
   "source": [
    "#Above loading plot shows the variation explained by principal components PC1 & PC2 for each variable.\n",
    "#for eg. PC1 explains high amount of variation for life_expec, gdpp, income and lower for inflation.\n",
    "#PC2 explains higher amount of variability for imports & health.\n",
    "#Rest of the original variables are explained by both PC1 and PC2."
   ]
  },
  {
   "cell_type": "markdown",
   "metadata": {},
   "source": [
    "#### Looking at the screeplot to assess the number of needed principal components"
   ]
  },
  {
   "cell_type": "code",
   "execution_count": 51,
   "metadata": {},
   "outputs": [
    {
     "data": {
      "text/plain": [
       "array([0.47658219, 0.16528782, 0.13399748, 0.10107577, 0.06996619,\n",
       "       0.02131381, 0.01778203, 0.00855332, 0.0054414 ])"
      ]
     },
     "execution_count": 51,
     "metadata": {},
     "output_type": "execute_result"
    }
   ],
   "source": [
    "pca.explained_variance_ratio_"
   ]
  },
  {
   "cell_type": "code",
   "execution_count": 52,
   "metadata": {},
   "outputs": [
    {
     "data": {
      "image/png": "[encoded data removed]",
      "text/plain": [
       "<Figure size 720x288 with 1 Axes>"
      ]
     },
     "metadata": {
      "needs_background": "light"
     },
     "output_type": "display_data"
    }
   ],
   "source": [
    "#Making the screeplot - plotting the cumulative variance against the number of components\n",
    "%matplotlib inline\n",
    "fig = plt.figure(figsize = (10,4))\n",
    "plt.plot(np.cumsum(pca.explained_variance_ratio_))\n",
    "plt.xlabel('number of components')\n",
    "plt.ylabel('cumulative explained variance')\n",
    "plt.show()"
   ]
  },
  {
   "cell_type": "code",
   "execution_count": 53,
   "metadata": {},
   "outputs": [],
   "source": [
    "# 4 components explain ~95% variation in the dataset."
   ]
  },
  {
   "cell_type": "markdown",
   "metadata": {},
   "source": [
    "### Selecting only two Principal components by using svd_solver in PCA"
   ]
  },
  {
   "cell_type": "code",
   "execution_count": 54,
   "metadata": {},
   "outputs": [],
   "source": [
    "#Improting the PCA module\n",
    "from sklearn.decomposition import PCA\n",
    "pca_final = PCA(svd_solver='randomized', random_state=42,n_components=4)"
   ]
  },
  {
   "cell_type": "code",
   "execution_count": 55,
   "metadata": {},
   "outputs": [],
   "source": [
    "#Using incremental PCA for efficiency - saves a lot of time on larger datasets\n",
    "#from sklearn.decomposition import IncrementalPCA\n",
    "#pca_final = IncrementalPCA(n_components=4)"
   ]
  },
  {
   "cell_type": "code",
   "execution_count": 56,
   "metadata": {},
   "outputs": [
    {
     "data": {
      "text/plain": [
       "(153, 4)"
      ]
     },
     "execution_count": 56,
     "metadata": {},
     "output_type": "execute_result"
    }
   ],
   "source": [
    "df_pca = pca_final.fit_transform(df_scaled)\n",
    "df_pca.shape"
   ]
  },
  {
   "cell_type": "code",
   "execution_count": 57,
   "metadata": {},
   "outputs": [
    {
     "data": {
      "text/plain": [
       "array([[-3.05975332, -0.39711716,  1.32279092,  0.64015784],\n",
       "       [ 0.5625343 , -0.24537869, -0.03080394, -1.37725747],\n",
       "       [-0.3211212 , -0.61385283, -1.81444197, -0.24177954],\n",
       "       [-3.36372992,  1.12044313, -1.70435018,  2.08683105],\n",
       "       [ 1.31956343,  0.62100026, -0.06278582, -0.70473426],\n",
       "       [ 0.2104961 , -2.0768526 , -1.21253583,  0.20121016],\n",
       "       [-0.12917551, -0.49329537, -0.69566185, -1.48647259],\n",
       "       [ 3.35683373, -2.40496743,  0.49555779,  1.36775857],\n",
       "       [ 3.97527087, -0.31783038,  0.8836598 ,  1.47454889],\n",
       "       [-0.10117065, -0.46775009, -1.47029452,  0.2014861 ],\n",
       "       [ 1.81766106, -0.480768  ,  0.66272819,  0.03909557],\n",
       "       [ 2.14290117,  0.86071809, -1.42215517,  0.90238009],\n",
       "       [-1.2156256 , -1.41819526, -0.78207449, -1.154333  ],\n",
       "       [ 1.459093  , -0.03931956,  0.53908679, -0.69337245],\n",
       "       [ 0.56284625,  1.13060274, -1.30917365, -0.54676099],\n",
       "       [ 4.00832207,  1.615139  ,  0.73346732,  1.6028788 ],\n",
       "       [ 0.27670116,  1.24399648, -0.19689102, -0.90190246],\n",
       "       [-2.80367329, -0.22483436,  0.77132145,  0.26494393],\n",
       "       [-0.24141386,  1.28783721, -0.14232063, -0.99065546],\n",
       "       [-0.84989316, -0.19451539, -0.76221139, -0.44057617],\n",
       "       [ 1.33212484, -0.20300036,  1.31913717, -1.42062921],\n",
       "       [-0.81567033,  0.66952512,  0.53305244,  0.42624521],\n",
       "       [ 0.48894881, -2.41000748,  0.17142649, -0.50846212],\n",
       "       [ 1.15276589,  0.62891933,  0.03572423, -0.98716875],\n",
       "       [-3.24587334, -0.68584754,  1.09826809,  0.91709633],\n",
       "       [-2.9388941 , -0.78263476,  2.11035363,  1.09912614],\n",
       "       [-0.65806563,  1.36567913,  0.12114653, -0.75037056],\n",
       "       [-2.89217795, -0.6537086 ,  0.89641678,  0.46678446],\n",
       "       [ 3.55451957, -1.71916186,  0.96053293,  1.38775682],\n",
       "       [-0.16130927,  0.65161338,  0.02531369, -1.40558603],\n",
       "       [-4.19213195, -0.72560554,  1.15662852,  0.84184418],\n",
       "       [-3.82289086,  0.56233943,  0.73776906,  1.4952578 ],\n",
       "       [ 1.29528322, -0.89240387, -0.48853556, -0.30929533],\n",
       "       [ 0.16855418, -1.30314726, -0.87721327, -1.2021517 ],\n",
       "       [ 0.40305398, -1.9102373 ,  0.15061284, -1.0601908 ],\n",
       "       [-2.25281868, -0.01289953,  0.65791586, -0.27829272],\n",
       "       [-3.50796607,  0.72221036,  0.24036201,  1.85627025],\n",
       "       [-2.1351759 ,  2.25170524, -2.26648085,  1.2583542 ],\n",
       "       [ 1.31009274, -0.88178367,  0.5931114 , -0.70875442],\n",
       "       [-2.75854083,  0.90067297,  0.47530101,  0.95887741],\n",
       "       [ 1.57975277, -0.53191498,  0.22294013, -0.70894153],\n",
       "       [ 2.753544  ,  0.36967815, -0.39420122,  0.23616331],\n",
       "       [ 2.58537382,  1.24817058,  0.24735843, -0.14799065],\n",
       "       [ 4.08804784, -0.62630174,  0.88813511,  2.19003492],\n",
       "       [-0.08498796, -0.9758764 , -0.07718416, -0.75190715],\n",
       "       [ 0.18833021, -0.93707426,  0.0703708 , -0.70294999],\n",
       "       [-0.84200959, -1.16735985, -0.81340489, -0.56613916],\n",
       "       [ 0.21141508, -0.27683744,  0.34962502, -1.30932909],\n",
       "       [-1.35589406,  2.1348604 , -1.96869406,  3.55988326],\n",
       "       [-2.70800509, -1.49770332, -0.72442785, -0.3112305 ],\n",
       "       [ 1.9692894 ,  1.90668129, -0.48550806, -0.33280646],\n",
       "       [-0.23167701,  1.60559673, -0.31400587, -0.70433751],\n",
       "       [ 3.38528682, -1.04301569,  0.53782631,  1.22213227],\n",
       "       [ 3.23352694, -1.81919895,  1.28996939,  1.05645227],\n",
       "       [-1.48955884, -0.23253103, -1.88166442,  1.31109203],\n",
       "       [-2.30657189, -0.15815068,  0.78157206,  0.16256678],\n",
       "       [ 0.45764729,  0.13176426,  0.61564162, -0.93821589],\n",
       "       [ 3.65819169, -0.97597186,  1.04543387,  1.1732122 ],\n",
       "       [-2.3233289 ,  0.09247759, -0.53804551,  0.37091394],\n",
       "       [ 2.51900242, -1.63647981,  0.94848443, -0.0502904 ],\n",
       "       [ 0.32589427, -0.24867569,  0.36246662, -1.2070568 ],\n",
       "       [-0.57603388, -0.64352914,  0.28061806, -0.64709057],\n",
       "       [-3.30999366,  0.17576317, -0.23482617,  1.00864386],\n",
       "       [-2.86796634, -0.58880939,  1.94994477,  0.57547863],\n",
       "       [-0.44004137,  2.02089176,  0.04420209, -0.74247985],\n",
       "       [ 2.1431464 ,  2.43536733, -0.226046  , -0.35250011],\n",
       "       [ 3.30605253, -0.36683737,  0.0541997 ,  1.44974024],\n",
       "       [-1.45651248, -0.94163549, -0.68661845, -0.64551456],\n",
       "       [-1.09557679, -1.22369825, -1.90165181, -0.58999484],\n",
       "       [ 0.1080524 , -1.61226846, -1.51574557, -0.3824966 ],\n",
       "       [-0.97895177, -0.35910569, -0.32178648,  0.80316333],\n",
       "       [ 4.5947708 ,  2.93048381,  0.51239572,  1.91774491],\n",
       "       [ 2.15068124, -1.11145769,  0.1746458 ,  0.57220601],\n",
       "       [ 3.03604509, -1.81054509,  0.6549746 ,  0.50116333],\n",
       "       [-0.00500931, -0.04827444, -0.84091759, -1.07565115],\n",
       "       [ 3.26223684, -2.77488073,  0.84574808,  0.62403653],\n",
       "       [ 0.22375751,  1.22066427,  0.2273918 , -0.41500901],\n",
       "       [-0.28568272, -0.46175197, -2.10231228,  0.45079896],\n",
       "       [-1.92737235, -0.59442258,  0.47174059, -0.41347164],\n",
       "       [-1.1924149 ,  0.91601063,  2.87964286, -0.54153372],\n",
       "       [-0.51942944,  2.06655255, -0.11164118, -0.74119525],\n",
       "       [-1.7248209 ,  0.4315482 , -0.30950096, -0.210819  ],\n",
       "       [ 1.50999291,  0.78818254,  0.10115343, -0.84942816],\n",
       "       [ 1.4647853 ,  0.33268008,  0.34061031, -1.25900245],\n",
       "       [-1.94406666,  2.87549793,  2.8705304 ,  0.28828943],\n",
       "       [-1.84119165,  1.6457238 ,  3.00659248,  0.15197149],\n",
       "       [ 1.00150285,  0.52104159, -2.20455336,  0.55472711],\n",
       "       [ 1.70408471,  1.59176363, -0.11319779, -0.49088525],\n",
       "       [ 0.9069376 ,  0.5332983 ,  0.23739253, -1.35098018],\n",
       "       [-2.35868553, -0.04664395, -0.21673917, -0.15374691],\n",
       "       [-3.18983779, -0.33943742,  0.54437783,  0.81827559],\n",
       "       [ 1.34029638,  2.47964688, -1.44631388, -0.14370509],\n",
       "       [ 1.24366887,  1.95987709, -0.46053964, -0.7268    ],\n",
       "       [-3.58908578, -0.28616994,  1.00133866,  1.10431733],\n",
       "       [-2.32216561,  1.31497111, -1.00545288,  0.86770791],\n",
       "       [ 1.09952211,  1.05211699, -0.06098173, -0.96861582],\n",
       "       [-0.20099379,  1.05493869,  3.04794899, -0.49227154],\n",
       "       [ 0.54781146,  1.31948854,  1.0758489 , -1.10538737],\n",
       "       [-1.41419867,  0.71716876, -3.0165124 ,  0.61950854],\n",
       "       [ 1.31850501,  0.50844068,  0.85218577, -1.15112777],\n",
       "       [-0.1579597 , -0.16270495,  0.04643027, -1.18343793],\n",
       "       [-3.15609535,  0.44617991,  0.61712742,  0.72655748],\n",
       "       [-1.93733941, -2.6823872 , -1.0566668 , -1.00089787],\n",
       "       [-1.0381939 ,  1.27960926,  0.74071679,  0.10564986],\n",
       "       [-1.49364641, -1.07872298, -0.65913683, -0.81972712],\n",
       "       [ 4.41686656,  0.91051074,  1.03854641,  1.98147675],\n",
       "       [ 2.59838545, -1.58035276,  0.57864861,  0.76099731],\n",
       "       [-3.63385201,  0.29187772,  1.43701309,  1.04096668],\n",
       "       [ 1.47183584,  0.35891705, -2.68211684,  1.44875504],\n",
       "       [-2.58328943, -1.42204171, -0.96457745, -0.05479297],\n",
       "       [ 1.38072787,  2.17999604,  0.32895024, -0.42892293],\n",
       "       [ 0.1473359 ,  0.82681346, -0.4918747 , -0.72790354],\n",
       "       [ 0.11970533, -1.24221211, -0.71932377, -0.97090869],\n",
       "       [-0.81745002, -0.21789858, -0.60021571, -0.87378324],\n",
       "       [ 1.62706707, -0.29140515,  0.05214347, -0.69722544],\n",
       "       [ 2.51147259, -1.07507554,  1.08202045, -0.18217266],\n",
       "       [ 0.81493591, -0.50661786, -0.41129792, -0.93708544],\n",
       "       [ 0.34972997, -1.35623341, -1.54221465, -0.10565817],\n",
       "       [-1.54029826, -1.17362757,  1.99310115, -0.17888076],\n",
       "       [-0.47769444,  0.16971969,  0.66002132, -0.78923522],\n",
       "       [ 1.24734471, -0.50304014, -2.23626466,  1.54024702],\n",
       "       [-1.95093139, -0.21265092,  0.82305332, -0.15680039],\n",
       "       [ 1.12122543, -0.233004  ,  0.71065597, -1.00631261],\n",
       "       [ 2.4624117 ,  2.22818185,  0.40483488, -0.15086387],\n",
       "       [ 2.89551446,  1.08097411,  0.61734222,  0.054277  ],\n",
       "       [-0.8911277 ,  2.08614672,  1.06271345, -0.30748932],\n",
       "       [-1.0243052 , -0.72335224,  0.89408151,  0.31284085],\n",
       "       [ 2.44813473, -0.04397004, -0.41774662, -0.0922251 ],\n",
       "       [ 2.8203759 , -1.75242106,  0.64517221,  0.15444679],\n",
       "       [-0.77641344, -1.36412014, -2.54785839, -0.75996961],\n",
       "       [ 0.05926817,  0.19169397, -0.26804424, -1.22326661],\n",
       "       [-2.49646849, -1.48532707, -0.71224456,  0.73515999],\n",
       "       [ 0.35184737,  0.16203035, -0.38429422, -0.11088298],\n",
       "       [ 3.82889191, -0.79361366,  0.5821715 ,  1.67967655],\n",
       "       [-1.42788483, -0.01598624,  0.03584263, -0.67127631],\n",
       "       [-2.67500561, -0.81294383,  0.4137416 ,  0.40896106],\n",
       "       [ 0.98338497,  1.49173479, -1.16506328, -1.04802725],\n",
       "       [-2.5374225 , -1.8130836 , -0.15823838,  1.05565548],\n",
       "       [-2.06321341,  1.04612074,  1.57398889,  0.25982683],\n",
       "       [-0.76973086, -0.02953961,  0.45604766, -1.15651325],\n",
       "       [ 0.71950574,  0.74517054, -0.27574999, -1.03897711],\n",
       "       [ 0.70180899, -1.56732373, -0.35687638, -0.56639288],\n",
       "       [-0.51120144,  1.45531513, -1.14657931, -0.09556237],\n",
       "       [-2.91398266, -0.88801353,  1.27250367,  0.95307206],\n",
       "       [ 0.30207746,  0.49350573, -0.64216982, -0.81202192],\n",
       "       [ 3.02315337,  1.38947782, -2.24412825,  2.04879449],\n",
       "       [ 2.93112313, -1.57572204,  0.68452632,  0.86125899],\n",
       "       [ 1.00195083, -1.39582844,  0.147826  , -0.53043474],\n",
       "       [-0.97914393, -0.7683869 , -1.16480289, -0.49277686],\n",
       "       [-0.86167314,  0.89528306,  0.15077128, -0.64975389],\n",
       "       [ 0.35970106,  2.4918739 , -0.70315672, -0.77686956],\n",
       "       [-2.16667601, -0.51937483, -1.44138428,  0.59120664],\n",
       "       [-3.0803657 , -0.05622569, -0.07255427,  1.1477418 ]])"
      ]
     },
     "execution_count": 57,
     "metadata": {},
     "output_type": "execute_result"
    }
   ],
   "source": [
    "df_pca"
   ]
  },
  {
   "cell_type": "code",
   "execution_count": 58,
   "metadata": {},
   "outputs": [
    {
     "data": {
      "text/plain": [
       "(153, 4)"
      ]
     },
     "execution_count": 58,
     "metadata": {},
     "output_type": "execute_result"
    }
   ],
   "source": [
    "df_pca.shape"
   ]
  },
  {
   "cell_type": "code",
   "execution_count": 59,
   "metadata": {},
   "outputs": [],
   "source": [
    "#Creating a transpose so that the each column is properly arranged\n",
    "pc = np.transpose(df_pca)"
   ]
  },
  {
   "cell_type": "code",
   "execution_count": 60,
   "metadata": {},
   "outputs": [],
   "source": [
    "pcs_df2 = pd.DataFrame({'PC1':pc[0],'PC2':pc[1],'PC3':pc[2],'PC4':pc[3]})"
   ]
  },
  {
   "cell_type": "code",
   "execution_count": 61,
   "metadata": {},
   "outputs": [
    {
     "data": {
      "text/html": [
       "<div>\n",
       "<style scoped>\n",
       "    .dataframe tbody tr th:only-of-type {\n",
       "        vertical-align: middle;\n",
       "    }\n",
       "\n",
       "    .dataframe tbody tr th {\n",
       "        vertical-align: top;\n",
       "    }\n",
       "\n",
       "    .dataframe thead th {\n",
       "        text-align: right;\n",
       "    }\n",
       "</style>\n",
       "<table border=\"1\" class=\"dataframe\">\n",
       "  <thead>\n",
       "    <tr style=\"text-align: right;\">\n",
       "      <th></th>\n",
       "      <th>PC1</th>\n",
       "      <th>PC2</th>\n",
       "      <th>PC3</th>\n",
       "      <th>PC4</th>\n",
       "    </tr>\n",
       "  </thead>\n",
       "  <tbody>\n",
       "    <tr>\n",
       "      <th>0</th>\n",
       "      <td>-3.059753</td>\n",
       "      <td>-0.397117</td>\n",
       "      <td>1.322791</td>\n",
       "      <td>0.640158</td>\n",
       "    </tr>\n",
       "    <tr>\n",
       "      <th>1</th>\n",
       "      <td>0.562534</td>\n",
       "      <td>-0.245379</td>\n",
       "      <td>-0.030804</td>\n",
       "      <td>-1.377257</td>\n",
       "    </tr>\n",
       "    <tr>\n",
       "      <th>2</th>\n",
       "      <td>-0.321121</td>\n",
       "      <td>-0.613853</td>\n",
       "      <td>-1.814442</td>\n",
       "      <td>-0.241780</td>\n",
       "    </tr>\n",
       "    <tr>\n",
       "      <th>3</th>\n",
       "      <td>-3.363730</td>\n",
       "      <td>1.120443</td>\n",
       "      <td>-1.704350</td>\n",
       "      <td>2.086831</td>\n",
       "    </tr>\n",
       "    <tr>\n",
       "      <th>4</th>\n",
       "      <td>1.319563</td>\n",
       "      <td>0.621000</td>\n",
       "      <td>-0.062786</td>\n",
       "      <td>-0.704734</td>\n",
       "    </tr>\n",
       "  </tbody>\n",
       "</table>\n",
       "</div>"
      ],
      "text/plain": [
       "        PC1       PC2       PC3       PC4\n",
       "0 -3.059753 -0.397117  1.322791  0.640158\n",
       "1  0.562534 -0.245379 -0.030804 -1.377257\n",
       "2 -0.321121 -0.613853 -1.814442 -0.241780\n",
       "3 -3.363730  1.120443 -1.704350  2.086831\n",
       "4  1.319563  0.621000 -0.062786 -0.704734"
      ]
     },
     "execution_count": 61,
     "metadata": {},
     "output_type": "execute_result"
    }
   ],
   "source": [
    "pcs_df2.head()"
   ]
  },
  {
   "cell_type": "code",
   "execution_count": 62,
   "metadata": {},
   "outputs": [
    {
     "data": {
      "text/plain": [
       "(153, 4)"
      ]
     },
     "execution_count": 62,
     "metadata": {},
     "output_type": "execute_result"
    }
   ],
   "source": [
    "pcs_df2.shape"
   ]
  },
  {
   "cell_type": "code",
   "execution_count": 63,
   "metadata": {},
   "outputs": [
    {
     "data": {
      "image/png": "[encoded data removed]",
      "text/plain": [
       "<Figure size 1152x576 with 1 Axes>"
      ]
     },
     "metadata": {
      "needs_background": "light"
     },
     "output_type": "display_data"
    }
   ],
   "source": [
    "#Visualising the points on the PCs.\n",
    "# one of the prime advatanges of PCA is that you can visualise high dimensional data\n",
    "plt.figure(figsize=(16,8))\n",
    "sns.scatterplot(x='PC1',y='PC2',data=pcs_df2)\n",
    "plt.show()"
   ]
  },
  {
   "cell_type": "markdown",
   "metadata": {},
   "source": [
    "#### Creating correlation matrix for the principal components - we expect little to no correlation"
   ]
  },
  {
   "cell_type": "code",
   "execution_count": 64,
   "metadata": {},
   "outputs": [],
   "source": [
    "#creating correlation matrix for the principal components\n",
    "corrmat = np.corrcoef(df_pca.transpose())"
   ]
  },
  {
   "cell_type": "code",
   "execution_count": 65,
   "metadata": {},
   "outputs": [
    {
     "data": {
      "image/png": "[encoded data removed]",
      "text/plain": [
       "<Figure size 720x432 with 2 Axes>"
      ]
     },
     "metadata": {
      "needs_background": "light"
     },
     "output_type": "display_data"
    }
   ],
   "source": [
    "#plotting the correlation matrix\n",
    "%matplotlib inline\n",
    "plt.figure(figsize = (10,6))\n",
    "sns.heatmap(corrmat,annot = True)\n",
    "plt.show()"
   ]
  },
  {
   "cell_type": "code",
   "execution_count": 66,
   "metadata": {},
   "outputs": [
    {
     "name": "stdout",
     "output_type": "stream",
     "text": [
      "max corr: 2.822445563531049e-16 , min corr:  -2.53939476563634e-16\n"
     ]
    }
   ],
   "source": [
    "# 1s -> 0s in diagonals\n",
    "corrmat_nodiag = corrmat - np.diagflat(corrmat.diagonal())\n",
    "print(\"max corr:\",corrmat_nodiag.max(), \", min corr: \", corrmat_nodiag.min(),)"
   ]
  },
  {
   "cell_type": "code",
   "execution_count": 67,
   "metadata": {},
   "outputs": [],
   "source": [
    "# we see that correlations for df_pca dataframe are indeed very close to 0 so the PCs are truly independent components."
   ]
  },
  {
   "cell_type": "markdown",
   "metadata": {},
   "source": [
    "## Clustering "
   ]
  },
  {
   "cell_type": "markdown",
   "metadata": {},
   "source": [
    "### Checking Clustring tendency of PCA modified dataset with Hopkins statistics"
   ]
  },
  {
   "cell_type": "code",
   "execution_count": 68,
   "metadata": {},
   "outputs": [],
   "source": [
    "from sklearn.neighbors import NearestNeighbors\n",
    "from random import sample\n",
    "from numpy.random import uniform\n",
    "import numpy as np\n",
    "from math import isnan\n",
    " \n",
    "def hopkins(X):\n",
    "    d = X.shape[1]\n",
    "    #d = len(vars) # columns\n",
    "    n = len(X) # rows\n",
    "    m = int(0.1 * n) \n",
    "    nbrs = NearestNeighbors(n_neighbors=1).fit(X.values)\n",
    " \n",
    "    rand_X = sample(range(0, n, 1), m)\n",
    " \n",
    "    ujd = []\n",
    "    wjd = []\n",
    "    for j in range(0, m):\n",
    "        u_dist, _ = nbrs.kneighbors(uniform(np.amin(X,axis=0),np.amax(X,axis=0),d).reshape(1, -1), 2, return_distance=True)\n",
    "        ujd.append(u_dist[0][1])\n",
    "        w_dist, _ = nbrs.kneighbors(X.iloc[rand_X[j]].values.reshape(1, -1), 2, return_distance=True)\n",
    "        wjd.append(w_dist[0][1])\n",
    " \n",
    "    H = sum(ujd) / (sum(ujd) + sum(wjd))\n",
    "    if isnan(H):\n",
    "        print(ujd, wjd)\n",
    "        H = 0\n",
    " \n",
    "    return H"
   ]
  },
  {
   "cell_type": "code",
   "execution_count": 69,
   "metadata": {},
   "outputs": [],
   "source": [
    "data_pca=pcs_df2"
   ]
  },
  {
   "cell_type": "code",
   "execution_count": 70,
   "metadata": {},
   "outputs": [
    {
     "data": {
      "text/plain": [
       "0.7055252976519507"
      ]
     },
     "execution_count": 70,
     "metadata": {},
     "output_type": "execute_result"
    }
   ],
   "source": [
    "hopkins(pcs_df2)"
   ]
  },
  {
   "cell_type": "code",
   "execution_count": 71,
   "metadata": {},
   "outputs": [],
   "source": [
    "# That's a moderate number, indicating the clustering tendency of dataset."
   ]
  },
  {
   "cell_type": "markdown",
   "metadata": {},
   "source": [
    "### Plotting Elbow curve to find optimal no. of clusters."
   ]
  },
  {
   "cell_type": "code",
   "execution_count": 72,
   "metadata": {},
   "outputs": [
    {
     "data": {
      "image/png": "[encoded data removed]",
      "text/plain": [
       "<Figure size 432x288 with 1 Axes>"
      ]
     },
     "metadata": {
      "needs_background": "light"
     },
     "output_type": "display_data"
    }
   ],
   "source": [
    "# sum of squared distances\n",
    "ssd = []\n",
    "for num_clusters in list(range(2,16)):\n",
    "    model_clus = KMeans(n_clusters = num_clusters, max_iter=100)\n",
    "    model_clus.fit(data_pca)\n",
    "    ssd.append(model_clus.inertia_)\n",
    "\n",
    "plt.plot(ssd)\n",
    "plt.show()"
   ]
  },
  {
   "cell_type": "code",
   "execution_count": 73,
   "metadata": {},
   "outputs": [],
   "source": [
    "# The elbow is in the range of k=3 to 5. So optimum number of clusters maybe  3/4/5."
   ]
  },
  {
   "cell_type": "markdown",
   "metadata": {},
   "source": [
    "### Silhoutte analysis to find optimal no. of clusters."
   ]
  },
  {
   "cell_type": "code",
   "execution_count": 74,
   "metadata": {},
   "outputs": [],
   "source": [
    "from sklearn.metrics import silhouette_score\n",
    "sse_ = []\n",
    "for k in range(2, 16):\n",
    "    kmeans = KMeans(n_clusters=k).fit(data_pca)\n",
    "    sse_.append([k, silhouette_score(data_pca, kmeans.labels_)])"
   ]
  },
  {
   "cell_type": "code",
   "execution_count": 75,
   "metadata": {},
   "outputs": [
    {
     "data": {
      "image/png": "[encoded data removed]",
      "text/plain": [
       "<Figure size 432x288 with 1 Axes>"
      ]
     },
     "metadata": {
      "needs_background": "light"
     },
     "output_type": "display_data"
    }
   ],
   "source": [
    "plt.plot(pd.DataFrame(sse_)[0], pd.DataFrame(sse_)[1]);"
   ]
  },
  {
   "cell_type": "code",
   "execution_count": 76,
   "metadata": {},
   "outputs": [],
   "source": [
    "#The elbow ucrve indicates n=3 to 5 to be optimum no. of clusters.\n",
    "#At n=3 Silhouette score is maximum at 0.33 however, sse at n=4 and n=5 ~0.31 i.e. not a large difference.\n",
    "#Combining the results so elbow curve and Silhouette scores, testing clusters for k=4 and k=5."
   ]
  },
  {
   "cell_type": "code",
   "execution_count": 77,
   "metadata": {},
   "outputs": [],
   "source": [
    "#K means has been performed with k=4 also, and the results have been compared with K=5 in ppt.\n",
    "#However in the notebook K=5 is shown because it is giving better classification."
   ]
  },
  {
   "cell_type": "markdown",
   "metadata": {},
   "source": [
    "## K means with K=4"
   ]
  },
  {
   "cell_type": "code",
   "execution_count": 78,
   "metadata": {},
   "outputs": [
    {
     "data": {
      "text/plain": [
       "KMeans(algorithm='auto', copy_x=True, init='k-means++', max_iter=50,\n",
       "    n_clusters=4, n_init=10, n_jobs=1, precompute_distances='auto',\n",
       "    random_state=50, tol=0.0001, verbose=0)"
      ]
     },
     "execution_count": 78,
     "metadata": {},
     "output_type": "execute_result"
    }
   ],
   "source": [
    "# Kmeans with K=4\n",
    "model_clus4 = KMeans(n_clusters = 4, max_iter=50,random_state = 50)\n",
    "model_clus4.fit(data_pca)"
   ]
  },
  {
   "cell_type": "code",
   "execution_count": 79,
   "metadata": {},
   "outputs": [
    {
     "data": {
      "text/html": [
       "<div>\n",
       "<style scoped>\n",
       "    .dataframe tbody tr th:only-of-type {\n",
       "        vertical-align: middle;\n",
       "    }\n",
       "\n",
       "    .dataframe tbody tr th {\n",
       "        vertical-align: top;\n",
       "    }\n",
       "\n",
       "    .dataframe thead th {\n",
       "        text-align: right;\n",
       "    }\n",
       "</style>\n",
       "<table border=\"1\" class=\"dataframe\">\n",
       "  <thead>\n",
       "    <tr style=\"text-align: right;\">\n",
       "      <th></th>\n",
       "      <th>PC1</th>\n",
       "      <th>PC2</th>\n",
       "      <th>PC3</th>\n",
       "      <th>PC4</th>\n",
       "      <th>clusterid</th>\n",
       "    </tr>\n",
       "  </thead>\n",
       "  <tbody>\n",
       "    <tr>\n",
       "      <th>0</th>\n",
       "      <td>-3.059753</td>\n",
       "      <td>-0.397117</td>\n",
       "      <td>1.322791</td>\n",
       "      <td>0.640158</td>\n",
       "      <td>1</td>\n",
       "    </tr>\n",
       "    <tr>\n",
       "      <th>1</th>\n",
       "      <td>0.562534</td>\n",
       "      <td>-0.245379</td>\n",
       "      <td>-0.030804</td>\n",
       "      <td>-1.377257</td>\n",
       "      <td>2</td>\n",
       "    </tr>\n",
       "    <tr>\n",
       "      <th>2</th>\n",
       "      <td>-0.321121</td>\n",
       "      <td>-0.613853</td>\n",
       "      <td>-1.814442</td>\n",
       "      <td>-0.241780</td>\n",
       "      <td>0</td>\n",
       "    </tr>\n",
       "    <tr>\n",
       "      <th>3</th>\n",
       "      <td>-3.363730</td>\n",
       "      <td>1.120443</td>\n",
       "      <td>-1.704350</td>\n",
       "      <td>2.086831</td>\n",
       "      <td>1</td>\n",
       "    </tr>\n",
       "    <tr>\n",
       "      <th>4</th>\n",
       "      <td>1.319563</td>\n",
       "      <td>0.621000</td>\n",
       "      <td>-0.062786</td>\n",
       "      <td>-0.704734</td>\n",
       "      <td>2</td>\n",
       "    </tr>\n",
       "    <tr>\n",
       "      <th>5</th>\n",
       "      <td>0.210496</td>\n",
       "      <td>-2.076853</td>\n",
       "      <td>-1.212536</td>\n",
       "      <td>0.201210</td>\n",
       "      <td>0</td>\n",
       "    </tr>\n",
       "    <tr>\n",
       "      <th>6</th>\n",
       "      <td>-0.129176</td>\n",
       "      <td>-0.493295</td>\n",
       "      <td>-0.695662</td>\n",
       "      <td>-1.486473</td>\n",
       "      <td>0</td>\n",
       "    </tr>\n",
       "    <tr>\n",
       "      <th>7</th>\n",
       "      <td>3.356834</td>\n",
       "      <td>-2.404967</td>\n",
       "      <td>0.495558</td>\n",
       "      <td>1.367759</td>\n",
       "      <td>3</td>\n",
       "    </tr>\n",
       "    <tr>\n",
       "      <th>8</th>\n",
       "      <td>3.975271</td>\n",
       "      <td>-0.317830</td>\n",
       "      <td>0.883660</td>\n",
       "      <td>1.474549</td>\n",
       "      <td>3</td>\n",
       "    </tr>\n",
       "    <tr>\n",
       "      <th>9</th>\n",
       "      <td>-0.101171</td>\n",
       "      <td>-0.467750</td>\n",
       "      <td>-1.470295</td>\n",
       "      <td>0.201486</td>\n",
       "      <td>0</td>\n",
       "    </tr>\n",
       "  </tbody>\n",
       "</table>\n",
       "</div>"
      ],
      "text/plain": [
       "        PC1       PC2       PC3       PC4  clusterid\n",
       "0 -3.059753 -0.397117  1.322791  0.640158          1\n",
       "1  0.562534 -0.245379 -0.030804 -1.377257          2\n",
       "2 -0.321121 -0.613853 -1.814442 -0.241780          0\n",
       "3 -3.363730  1.120443 -1.704350  2.086831          1\n",
       "4  1.319563  0.621000 -0.062786 -0.704734          2\n",
       "5  0.210496 -2.076853 -1.212536  0.201210          0\n",
       "6 -0.129176 -0.493295 -0.695662 -1.486473          0\n",
       "7  3.356834 -2.404967  0.495558  1.367759          3\n",
       "8  3.975271 -0.317830  0.883660  1.474549          3\n",
       "9 -0.101171 -0.467750 -1.470295  0.201486          0"
      ]
     },
     "execution_count": 79,
     "metadata": {},
     "output_type": "execute_result"
    }
   ],
   "source": [
    "data_pca.index = pd.RangeIndex(len(data_pca.index))\n",
    "data_pc_km4 = pd.concat([data_pca, pd.Series(model_clus4.labels_)], axis=1)\n",
    "data_pc_km4.columns = ['PC1', 'PC2','PC3','PC4','clusterid']\n",
    "data_pc_km4.head(10)"
   ]
  },
  {
   "cell_type": "code",
   "execution_count": 80,
   "metadata": {},
   "outputs": [
    {
     "data": {
      "text/plain": [
       "(153, 5)"
      ]
     },
     "execution_count": 80,
     "metadata": {},
     "output_type": "execute_result"
    }
   ],
   "source": [
    "data_pc_km4.shape"
   ]
  },
  {
   "cell_type": "code",
   "execution_count": 81,
   "metadata": {},
   "outputs": [
    {
     "data": {
      "text/plain": [
       "clusterid\n",
       "0    35\n",
       "1    43\n",
       "2    49\n",
       "3    26\n",
       "Name: clusterid, dtype: int64"
      ]
     },
     "execution_count": 81,
     "metadata": {},
     "output_type": "execute_result"
    }
   ],
   "source": [
    "data_pc_km4.groupby(['clusterid']).clusterid.count()"
   ]
  },
  {
   "cell_type": "code",
   "execution_count": 82,
   "metadata": {},
   "outputs": [
    {
     "data": {
      "text/html": [
       "<div>\n",
       "<style scoped>\n",
       "    .dataframe tbody tr th:only-of-type {\n",
       "        vertical-align: middle;\n",
       "    }\n",
       "\n",
       "    .dataframe tbody tr th {\n",
       "        vertical-align: top;\n",
       "    }\n",
       "\n",
       "    .dataframe thead th {\n",
       "        text-align: right;\n",
       "    }\n",
       "</style>\n",
       "<table border=\"1\" class=\"dataframe\">\n",
       "  <thead>\n",
       "    <tr style=\"text-align: right;\">\n",
       "      <th></th>\n",
       "      <th>PC1</th>\n",
       "      <th>PC2</th>\n",
       "      <th>PC3</th>\n",
       "      <th>PC4</th>\n",
       "      <th>clusterid</th>\n",
       "    </tr>\n",
       "  </thead>\n",
       "  <tbody>\n",
       "    <tr>\n",
       "      <th>0</th>\n",
       "      <td>-3.059753</td>\n",
       "      <td>-0.397117</td>\n",
       "      <td>1.322791</td>\n",
       "      <td>0.640158</td>\n",
       "      <td>1</td>\n",
       "    </tr>\n",
       "    <tr>\n",
       "      <th>1</th>\n",
       "      <td>0.562534</td>\n",
       "      <td>-0.245379</td>\n",
       "      <td>-0.030804</td>\n",
       "      <td>-1.377257</td>\n",
       "      <td>2</td>\n",
       "    </tr>\n",
       "    <tr>\n",
       "      <th>2</th>\n",
       "      <td>-0.321121</td>\n",
       "      <td>-0.613853</td>\n",
       "      <td>-1.814442</td>\n",
       "      <td>-0.241780</td>\n",
       "      <td>0</td>\n",
       "    </tr>\n",
       "    <tr>\n",
       "      <th>3</th>\n",
       "      <td>-3.363730</td>\n",
       "      <td>1.120443</td>\n",
       "      <td>-1.704350</td>\n",
       "      <td>2.086831</td>\n",
       "      <td>1</td>\n",
       "    </tr>\n",
       "    <tr>\n",
       "      <th>4</th>\n",
       "      <td>1.319563</td>\n",
       "      <td>0.621000</td>\n",
       "      <td>-0.062786</td>\n",
       "      <td>-0.704734</td>\n",
       "      <td>2</td>\n",
       "    </tr>\n",
       "  </tbody>\n",
       "</table>\n",
       "</div>"
      ],
      "text/plain": [
       "        PC1       PC2       PC3       PC4  clusterid\n",
       "0 -3.059753 -0.397117  1.322791  0.640158          1\n",
       "1  0.562534 -0.245379 -0.030804 -1.377257          2\n",
       "2 -0.321121 -0.613853 -1.814442 -0.241780          0\n",
       "3 -3.363730  1.120443 -1.704350  2.086831          1\n",
       "4  1.319563  0.621000 -0.062786 -0.704734          2"
      ]
     },
     "execution_count": 82,
     "metadata": {},
     "output_type": "execute_result"
    }
   ],
   "source": [
    "data_pc_km4.head()"
   ]
  },
  {
   "cell_type": "code",
   "execution_count": 83,
   "metadata": {},
   "outputs": [
    {
     "data": {
      "image/png": "[encoded data removed]",
      "text/plain": [
       "<Figure size 864x432 with 1 Axes>"
      ]
     },
     "metadata": {
      "needs_background": "light"
     },
     "output_type": "display_data"
    }
   ],
   "source": [
    "%matplotlib inline\n",
    "fig = plt.figure(figsize = (12,6))\n",
    "sns.scatterplot(data_pc_km4['PC1'], data_pc_km4['PC2'],hue= data_pc_km4['clusterid'].map({0:'Cluster 0',1:'Cluster 1',2:'Cluster 2',3:'Cluster 3'}),palette='muted',legend='full')\n",
    "plt.xlabel('Principal Component 1')\n",
    "plt.ylabel('Principal Component 2')\n",
    "#plt.legend()\n",
    "plt.show()"
   ]
  },
  {
   "cell_type": "code",
   "execution_count": 84,
   "metadata": {},
   "outputs": [],
   "source": [
    "# analysis of clusters formed\n",
    "df.index = pd.RangeIndex(len(df.index))\n",
    "data_km4 = pd.concat([df, pd.Series(model_clus4.labels_)], axis=1)\n",
    "data_km4.columns =  ['country','child_mort','exports','health','imports','income','inflation','life_expec','total_fer','gdpp','clusterid']"
   ]
  },
  {
   "cell_type": "code",
   "execution_count": 85,
   "metadata": {},
   "outputs": [
    {
     "data": {
      "text/plain": [
       "(153, 11)"
      ]
     },
     "execution_count": 85,
     "metadata": {},
     "output_type": "execute_result"
    }
   ],
   "source": [
    "data_km4.shape"
   ]
  },
  {
   "cell_type": "code",
   "execution_count": 86,
   "metadata": {},
   "outputs": [
    {
     "data": {
      "text/html": [
       "<div>\n",
       "<style scoped>\n",
       "    .dataframe tbody tr th:only-of-type {\n",
       "        vertical-align: middle;\n",
       "    }\n",
       "\n",
       "    .dataframe tbody tr th {\n",
       "        vertical-align: top;\n",
       "    }\n",
       "\n",
       "    .dataframe thead th {\n",
       "        text-align: right;\n",
       "    }\n",
       "</style>\n",
       "<table border=\"1\" class=\"dataframe\">\n",
       "  <thead>\n",
       "    <tr style=\"text-align: right;\">\n",
       "      <th></th>\n",
       "      <th>country</th>\n",
       "      <th>child_mort</th>\n",
       "      <th>exports</th>\n",
       "      <th>health</th>\n",
       "      <th>imports</th>\n",
       "      <th>income</th>\n",
       "      <th>inflation</th>\n",
       "      <th>life_expec</th>\n",
       "      <th>total_fer</th>\n",
       "      <th>gdpp</th>\n",
       "      <th>clusterid</th>\n",
       "    </tr>\n",
       "  </thead>\n",
       "  <tbody>\n",
       "    <tr>\n",
       "      <th>0</th>\n",
       "      <td>Afghanistan</td>\n",
       "      <td>90.2</td>\n",
       "      <td>10.0</td>\n",
       "      <td>7.58</td>\n",
       "      <td>44.9</td>\n",
       "      <td>1610</td>\n",
       "      <td>9.44</td>\n",
       "      <td>56.2</td>\n",
       "      <td>5.82</td>\n",
       "      <td>553</td>\n",
       "      <td>1</td>\n",
       "    </tr>\n",
       "    <tr>\n",
       "      <th>1</th>\n",
       "      <td>Albania</td>\n",
       "      <td>16.6</td>\n",
       "      <td>28.0</td>\n",
       "      <td>6.55</td>\n",
       "      <td>48.6</td>\n",
       "      <td>9930</td>\n",
       "      <td>4.49</td>\n",
       "      <td>76.3</td>\n",
       "      <td>1.65</td>\n",
       "      <td>4090</td>\n",
       "      <td>2</td>\n",
       "    </tr>\n",
       "    <tr>\n",
       "      <th>2</th>\n",
       "      <td>Algeria</td>\n",
       "      <td>27.3</td>\n",
       "      <td>38.4</td>\n",
       "      <td>4.17</td>\n",
       "      <td>31.4</td>\n",
       "      <td>12900</td>\n",
       "      <td>16.10</td>\n",
       "      <td>76.5</td>\n",
       "      <td>2.89</td>\n",
       "      <td>4460</td>\n",
       "      <td>0</td>\n",
       "    </tr>\n",
       "    <tr>\n",
       "      <th>3</th>\n",
       "      <td>Angola</td>\n",
       "      <td>119.0</td>\n",
       "      <td>62.3</td>\n",
       "      <td>2.85</td>\n",
       "      <td>42.9</td>\n",
       "      <td>5900</td>\n",
       "      <td>22.40</td>\n",
       "      <td>60.1</td>\n",
       "      <td>6.16</td>\n",
       "      <td>3530</td>\n",
       "      <td>1</td>\n",
       "    </tr>\n",
       "    <tr>\n",
       "      <th>4</th>\n",
       "      <td>Antigua and Barbuda</td>\n",
       "      <td>10.3</td>\n",
       "      <td>45.5</td>\n",
       "      <td>6.03</td>\n",
       "      <td>58.9</td>\n",
       "      <td>19100</td>\n",
       "      <td>1.44</td>\n",
       "      <td>76.8</td>\n",
       "      <td>2.13</td>\n",
       "      <td>12200</td>\n",
       "      <td>2</td>\n",
       "    </tr>\n",
       "  </tbody>\n",
       "</table>\n",
       "</div>"
      ],
      "text/plain": [
       "               country  child_mort  exports  health  imports  income  \\\n",
       "0          Afghanistan        90.2     10.0    7.58     44.9    1610   \n",
       "1              Albania        16.6     28.0    6.55     48.6    9930   \n",
       "2              Algeria        27.3     38.4    4.17     31.4   12900   \n",
       "3               Angola       119.0     62.3    2.85     42.9    5900   \n",
       "4  Antigua and Barbuda        10.3     45.5    6.03     58.9   19100   \n",
       "\n",
       "   inflation  life_expec  total_fer   gdpp  clusterid  \n",
       "0       9.44        56.2       5.82    553          1  \n",
       "1       4.49        76.3       1.65   4090          2  \n",
       "2      16.10        76.5       2.89   4460          0  \n",
       "3      22.40        60.1       6.16   3530          1  \n",
       "4       1.44        76.8       2.13  12200          2  "
      ]
     },
     "execution_count": 86,
     "metadata": {},
     "output_type": "execute_result"
    }
   ],
   "source": [
    "data_km4.head()"
   ]
  },
  {
   "cell_type": "markdown",
   "metadata": {},
   "source": [
    "### Visualising behaviour of different variables for different countries for K=4 - To understand Cluster characteristic"
   ]
  },
  {
   "cell_type": "code",
   "execution_count": 87,
   "metadata": {},
   "outputs": [],
   "source": [
    "# analysis of clusters formed\n",
    "km_clusters_child_mort4 = \tpd.DataFrame(data_km4.groupby([\"clusterid\"]).child_mort.mean())\n",
    "km_clusters_exports4 = \tpd.DataFrame(data_km4.groupby([\"clusterid\"]).exports.mean())\n",
    "km_clusters_health4 = \tpd.DataFrame(data_km4.groupby([\"clusterid\"]).health.mean())\n",
    "km_clusters_imports4 = \tpd.DataFrame(data_km4.groupby([\"clusterid\"]).imports.mean())\n",
    "km_clusters_income4 = \tpd.DataFrame(data_km4.groupby([\"clusterid\"]).income.mean())\n",
    "km_clusters_inflation4 = \tpd.DataFrame(data_km4.groupby([\"clusterid\"]).inflation.mean())\n",
    "km_clusters_life_expec4 = \tpd.DataFrame(data_km4.groupby([\"clusterid\"]).life_expec.mean())\n",
    "km_clusters_total_fer4 = \tpd.DataFrame(data_km4.groupby([\"clusterid\"]).total_fer.mean())\n",
    "km_clusters_gdpp4 = \tpd.DataFrame(data_km4.groupby([\"clusterid\"]).gdpp.mean())"
   ]
  },
  {
   "cell_type": "markdown",
   "metadata": {},
   "source": [
    "### Creating a dataframe 'df_cl' to distinguish variation among clusters"
   ]
  },
  {
   "cell_type": "code",
   "execution_count": 88,
   "metadata": {},
   "outputs": [],
   "source": [
    "df_cl4= pd.concat([pd.Series([0,1,2,3]), km_clusters_child_mort4, km_clusters_exports4, km_clusters_health4,km_clusters_imports4,km_clusters_income4,km_clusters_inflation4,km_clusters_life_expec4,km_clusters_total_fer4,km_clusters_gdpp4], axis=1)\n",
    "df_cl4.columns =  ['clusterid','child_mort','exports','health','imports','income','inflation','life_expec','total_fer','gdpp']"
   ]
  },
  {
   "cell_type": "markdown",
   "metadata": {},
   "source": [
    "**Mean values of variables across clusters.**"
   ]
  },
  {
   "cell_type": "code",
   "execution_count": 89,
   "metadata": {},
   "outputs": [
    {
     "data": {
      "text/html": [
       "<div>\n",
       "<style scoped>\n",
       "    .dataframe tbody tr th:only-of-type {\n",
       "        vertical-align: middle;\n",
       "    }\n",
       "\n",
       "    .dataframe tbody tr th {\n",
       "        vertical-align: top;\n",
       "    }\n",
       "\n",
       "    .dataframe thead th {\n",
       "        text-align: right;\n",
       "    }\n",
       "</style>\n",
       "<table border=\"1\" class=\"dataframe\">\n",
       "  <thead>\n",
       "    <tr style=\"text-align: right;\">\n",
       "      <th></th>\n",
       "      <th>clusterid</th>\n",
       "      <th>child_mort</th>\n",
       "      <th>exports</th>\n",
       "      <th>health</th>\n",
       "      <th>imports</th>\n",
       "      <th>income</th>\n",
       "      <th>inflation</th>\n",
       "      <th>life_expec</th>\n",
       "      <th>total_fer</th>\n",
       "      <th>gdpp</th>\n",
       "    </tr>\n",
       "  </thead>\n",
       "  <tbody>\n",
       "    <tr>\n",
       "      <th>0</th>\n",
       "      <td>0</td>\n",
       "      <td>27.60</td>\n",
       "      <td>30.90</td>\n",
       "      <td>5.33</td>\n",
       "      <td>29.11</td>\n",
       "      <td>13657.71</td>\n",
       "      <td>12.02</td>\n",
       "      <td>72.40</td>\n",
       "      <td>2.49</td>\n",
       "      <td>6365.66</td>\n",
       "    </tr>\n",
       "    <tr>\n",
       "      <th>1</th>\n",
       "      <td>1</td>\n",
       "      <td>88.91</td>\n",
       "      <td>28.62</td>\n",
       "      <td>6.26</td>\n",
       "      <td>43.68</td>\n",
       "      <td>3521.70</td>\n",
       "      <td>9.71</td>\n",
       "      <td>59.85</td>\n",
       "      <td>5.02</td>\n",
       "      <td>1731.37</td>\n",
       "    </tr>\n",
       "    <tr>\n",
       "      <th>2</th>\n",
       "      <td>2</td>\n",
       "      <td>18.15</td>\n",
       "      <td>48.29</td>\n",
       "      <td>6.96</td>\n",
       "      <td>59.89</td>\n",
       "      <td>11741.63</td>\n",
       "      <td>4.00</td>\n",
       "      <td>72.92</td>\n",
       "      <td>2.21</td>\n",
       "      <td>6503.59</td>\n",
       "    </tr>\n",
       "    <tr>\n",
       "      <th>3</th>\n",
       "      <td>3</td>\n",
       "      <td>4.83</td>\n",
       "      <td>44.88</td>\n",
       "      <td>9.30</td>\n",
       "      <td>42.57</td>\n",
       "      <td>37442.31</td>\n",
       "      <td>1.81</td>\n",
       "      <td>80.17</td>\n",
       "      <td>1.78</td>\n",
       "      <td>38223.08</td>\n",
       "    </tr>\n",
       "  </tbody>\n",
       "</table>\n",
       "</div>"
      ],
      "text/plain": [
       "   clusterid  child_mort  exports  health  imports    income  inflation  \\\n",
       "0          0       27.60    30.90    5.33    29.11  13657.71      12.02   \n",
       "1          1       88.91    28.62    6.26    43.68   3521.70       9.71   \n",
       "2          2       18.15    48.29    6.96    59.89  11741.63       4.00   \n",
       "3          3        4.83    44.88    9.30    42.57  37442.31       1.81   \n",
       "\n",
       "   life_expec  total_fer      gdpp  \n",
       "0       72.40       2.49   6365.66  \n",
       "1       59.85       5.02   1731.37  \n",
       "2       72.92       2.21   6503.59  \n",
       "3       80.17       1.78  38223.08  "
      ]
     },
     "execution_count": 89,
     "metadata": {},
     "output_type": "execute_result"
    }
   ],
   "source": [
    "df_cl4=round(df_cl4,2)\n",
    "df_cl4"
   ]
  },
  {
   "cell_type": "markdown",
   "metadata": {},
   "source": [
    "**Number of countries in clusters.**"
   ]
  },
  {
   "cell_type": "code",
   "execution_count": 90,
   "metadata": {},
   "outputs": [
    {
     "data": {
      "text/plain": [
       "clusterid\n",
       "0    35\n",
       "1    43\n",
       "2    49\n",
       "3    26\n",
       "Name: clusterid, dtype: int64"
      ]
     },
     "execution_count": 90,
     "metadata": {},
     "output_type": "execute_result"
    }
   ],
   "source": [
    "data_km4.groupby('clusterid').clusterid.count()"
   ]
  },
  {
   "cell_type": "markdown",
   "metadata": {},
   "source": [
    "## K means with K=5"
   ]
  },
  {
   "cell_type": "code",
   "execution_count": 91,
   "metadata": {},
   "outputs": [
    {
     "data": {
      "text/plain": [
       "KMeans(algorithm='auto', copy_x=True, init='k-means++', max_iter=50,\n",
       "    n_clusters=5, n_init=10, n_jobs=1, precompute_distances='auto',\n",
       "    random_state=50, tol=0.0001, verbose=0)"
      ]
     },
     "execution_count": 91,
     "metadata": {},
     "output_type": "execute_result"
    }
   ],
   "source": [
    "# Kmeans with K=5\n",
    "model_clus = KMeans(n_clusters = 5, max_iter=50,random_state = 50)\n",
    "model_clus.fit(data_pca)"
   ]
  },
  {
   "cell_type": "code",
   "execution_count": 92,
   "metadata": {},
   "outputs": [
    {
     "data": {
      "text/html": [
       "<div>\n",
       "<style scoped>\n",
       "    .dataframe tbody tr th:only-of-type {\n",
       "        vertical-align: middle;\n",
       "    }\n",
       "\n",
       "    .dataframe tbody tr th {\n",
       "        vertical-align: top;\n",
       "    }\n",
       "\n",
       "    .dataframe thead th {\n",
       "        text-align: right;\n",
       "    }\n",
       "</style>\n",
       "<table border=\"1\" class=\"dataframe\">\n",
       "  <thead>\n",
       "    <tr style=\"text-align: right;\">\n",
       "      <th></th>\n",
       "      <th>country</th>\n",
       "      <th>child_mort</th>\n",
       "      <th>exports</th>\n",
       "      <th>health</th>\n",
       "      <th>imports</th>\n",
       "      <th>income</th>\n",
       "      <th>inflation</th>\n",
       "      <th>life_expec</th>\n",
       "      <th>total_fer</th>\n",
       "      <th>gdpp</th>\n",
       "    </tr>\n",
       "  </thead>\n",
       "  <tbody>\n",
       "    <tr>\n",
       "      <th>0</th>\n",
       "      <td>Afghanistan</td>\n",
       "      <td>90.2</td>\n",
       "      <td>10.0</td>\n",
       "      <td>7.58</td>\n",
       "      <td>44.9</td>\n",
       "      <td>1610</td>\n",
       "      <td>9.44</td>\n",
       "      <td>56.2</td>\n",
       "      <td>5.82</td>\n",
       "      <td>553</td>\n",
       "    </tr>\n",
       "    <tr>\n",
       "      <th>1</th>\n",
       "      <td>Albania</td>\n",
       "      <td>16.6</td>\n",
       "      <td>28.0</td>\n",
       "      <td>6.55</td>\n",
       "      <td>48.6</td>\n",
       "      <td>9930</td>\n",
       "      <td>4.49</td>\n",
       "      <td>76.3</td>\n",
       "      <td>1.65</td>\n",
       "      <td>4090</td>\n",
       "    </tr>\n",
       "  </tbody>\n",
       "</table>\n",
       "</div>"
      ],
      "text/plain": [
       "       country  child_mort  exports  health  imports  income  inflation  \\\n",
       "0  Afghanistan        90.2     10.0    7.58     44.9    1610       9.44   \n",
       "1      Albania        16.6     28.0    6.55     48.6    9930       4.49   \n",
       "\n",
       "   life_expec  total_fer  gdpp  \n",
       "0        56.2       5.82   553  \n",
       "1        76.3       1.65  4090  "
      ]
     },
     "execution_count": 92,
     "metadata": {},
     "output_type": "execute_result"
    }
   ],
   "source": [
    "#data is original raw dataset\n",
    "data.head(2)"
   ]
  },
  {
   "cell_type": "code",
   "execution_count": 93,
   "metadata": {},
   "outputs": [
    {
     "data": {
      "text/plain": [
       "(167, 10)"
      ]
     },
     "execution_count": 93,
     "metadata": {},
     "output_type": "execute_result"
    }
   ],
   "source": [
    "data.shape"
   ]
  },
  {
   "cell_type": "code",
   "execution_count": 94,
   "metadata": {},
   "outputs": [
    {
     "data": {
      "text/html": [
       "<div>\n",
       "<style scoped>\n",
       "    .dataframe tbody tr th:only-of-type {\n",
       "        vertical-align: middle;\n",
       "    }\n",
       "\n",
       "    .dataframe tbody tr th {\n",
       "        vertical-align: top;\n",
       "    }\n",
       "\n",
       "    .dataframe thead th {\n",
       "        text-align: right;\n",
       "    }\n",
       "</style>\n",
       "<table border=\"1\" class=\"dataframe\">\n",
       "  <thead>\n",
       "    <tr style=\"text-align: right;\">\n",
       "      <th></th>\n",
       "      <th>country</th>\n",
       "      <th>child_mort</th>\n",
       "      <th>exports</th>\n",
       "      <th>health</th>\n",
       "      <th>imports</th>\n",
       "      <th>income</th>\n",
       "      <th>inflation</th>\n",
       "      <th>life_expec</th>\n",
       "      <th>total_fer</th>\n",
       "      <th>gdpp</th>\n",
       "    </tr>\n",
       "  </thead>\n",
       "  <tbody>\n",
       "    <tr>\n",
       "      <th>0</th>\n",
       "      <td>Afghanistan</td>\n",
       "      <td>90.2</td>\n",
       "      <td>10.0</td>\n",
       "      <td>7.58</td>\n",
       "      <td>44.9</td>\n",
       "      <td>1610</td>\n",
       "      <td>9.44</td>\n",
       "      <td>56.2</td>\n",
       "      <td>5.82</td>\n",
       "      <td>553</td>\n",
       "    </tr>\n",
       "    <tr>\n",
       "      <th>1</th>\n",
       "      <td>Albania</td>\n",
       "      <td>16.6</td>\n",
       "      <td>28.0</td>\n",
       "      <td>6.55</td>\n",
       "      <td>48.6</td>\n",
       "      <td>9930</td>\n",
       "      <td>4.49</td>\n",
       "      <td>76.3</td>\n",
       "      <td>1.65</td>\n",
       "      <td>4090</td>\n",
       "    </tr>\n",
       "  </tbody>\n",
       "</table>\n",
       "</div>"
      ],
      "text/plain": [
       "       country  child_mort  exports  health  imports  income  inflation  \\\n",
       "0  Afghanistan        90.2     10.0    7.58     44.9    1610       9.44   \n",
       "1      Albania        16.6     28.0    6.55     48.6    9930       4.49   \n",
       "\n",
       "   life_expec  total_fer  gdpp  \n",
       "0        56.2       5.82   553  \n",
       "1        76.3       1.65  4090  "
      ]
     },
     "execution_count": 94,
     "metadata": {},
     "output_type": "execute_result"
    }
   ],
   "source": [
    "#df is outlier removed dataset\n",
    "df.head(2)"
   ]
  },
  {
   "cell_type": "code",
   "execution_count": 95,
   "metadata": {},
   "outputs": [
    {
     "data": {
      "text/plain": [
       "(153, 10)"
      ]
     },
     "execution_count": 95,
     "metadata": {},
     "output_type": "execute_result"
    }
   ],
   "source": [
    "df.shape"
   ]
  },
  {
   "cell_type": "code",
   "execution_count": 96,
   "metadata": {},
   "outputs": [
    {
     "data": {
      "text/html": [
       "<div>\n",
       "<style scoped>\n",
       "    .dataframe tbody tr th:only-of-type {\n",
       "        vertical-align: middle;\n",
       "    }\n",
       "\n",
       "    .dataframe tbody tr th {\n",
       "        vertical-align: top;\n",
       "    }\n",
       "\n",
       "    .dataframe thead th {\n",
       "        text-align: right;\n",
       "    }\n",
       "</style>\n",
       "<table border=\"1\" class=\"dataframe\">\n",
       "  <thead>\n",
       "    <tr style=\"text-align: right;\">\n",
       "      <th></th>\n",
       "      <th>PC1</th>\n",
       "      <th>PC2</th>\n",
       "      <th>PC3</th>\n",
       "      <th>PC4</th>\n",
       "      <th>clusterid</th>\n",
       "    </tr>\n",
       "  </thead>\n",
       "  <tbody>\n",
       "    <tr>\n",
       "      <th>0</th>\n",
       "      <td>-3.059753</td>\n",
       "      <td>-0.397117</td>\n",
       "      <td>1.322791</td>\n",
       "      <td>0.640158</td>\n",
       "      <td>0</td>\n",
       "    </tr>\n",
       "    <tr>\n",
       "      <th>1</th>\n",
       "      <td>0.562534</td>\n",
       "      <td>-0.245379</td>\n",
       "      <td>-0.030804</td>\n",
       "      <td>-1.377257</td>\n",
       "      <td>3</td>\n",
       "    </tr>\n",
       "    <tr>\n",
       "      <th>2</th>\n",
       "      <td>-0.321121</td>\n",
       "      <td>-0.613853</td>\n",
       "      <td>-1.814442</td>\n",
       "      <td>-0.241780</td>\n",
       "      <td>2</td>\n",
       "    </tr>\n",
       "    <tr>\n",
       "      <th>3</th>\n",
       "      <td>-3.363730</td>\n",
       "      <td>1.120443</td>\n",
       "      <td>-1.704350</td>\n",
       "      <td>2.086831</td>\n",
       "      <td>0</td>\n",
       "    </tr>\n",
       "    <tr>\n",
       "      <th>4</th>\n",
       "      <td>1.319563</td>\n",
       "      <td>0.621000</td>\n",
       "      <td>-0.062786</td>\n",
       "      <td>-0.704734</td>\n",
       "      <td>3</td>\n",
       "    </tr>\n",
       "    <tr>\n",
       "      <th>5</th>\n",
       "      <td>0.210496</td>\n",
       "      <td>-2.076853</td>\n",
       "      <td>-1.212536</td>\n",
       "      <td>0.201210</td>\n",
       "      <td>2</td>\n",
       "    </tr>\n",
       "    <tr>\n",
       "      <th>6</th>\n",
       "      <td>-0.129176</td>\n",
       "      <td>-0.493295</td>\n",
       "      <td>-0.695662</td>\n",
       "      <td>-1.486473</td>\n",
       "      <td>2</td>\n",
       "    </tr>\n",
       "    <tr>\n",
       "      <th>7</th>\n",
       "      <td>3.356834</td>\n",
       "      <td>-2.404967</td>\n",
       "      <td>0.495558</td>\n",
       "      <td>1.367759</td>\n",
       "      <td>4</td>\n",
       "    </tr>\n",
       "    <tr>\n",
       "      <th>8</th>\n",
       "      <td>3.975271</td>\n",
       "      <td>-0.317830</td>\n",
       "      <td>0.883660</td>\n",
       "      <td>1.474549</td>\n",
       "      <td>4</td>\n",
       "    </tr>\n",
       "    <tr>\n",
       "      <th>9</th>\n",
       "      <td>-0.101171</td>\n",
       "      <td>-0.467750</td>\n",
       "      <td>-1.470295</td>\n",
       "      <td>0.201486</td>\n",
       "      <td>2</td>\n",
       "    </tr>\n",
       "  </tbody>\n",
       "</table>\n",
       "</div>"
      ],
      "text/plain": [
       "        PC1       PC2       PC3       PC4  clusterid\n",
       "0 -3.059753 -0.397117  1.322791  0.640158          0\n",
       "1  0.562534 -0.245379 -0.030804 -1.377257          3\n",
       "2 -0.321121 -0.613853 -1.814442 -0.241780          2\n",
       "3 -3.363730  1.120443 -1.704350  2.086831          0\n",
       "4  1.319563  0.621000 -0.062786 -0.704734          3\n",
       "5  0.210496 -2.076853 -1.212536  0.201210          2\n",
       "6 -0.129176 -0.493295 -0.695662 -1.486473          2\n",
       "7  3.356834 -2.404967  0.495558  1.367759          4\n",
       "8  3.975271 -0.317830  0.883660  1.474549          4\n",
       "9 -0.101171 -0.467750 -1.470295  0.201486          2"
      ]
     },
     "execution_count": 96,
     "metadata": {},
     "output_type": "execute_result"
    }
   ],
   "source": [
    "data_pca.index = pd.RangeIndex(len(data_pca.index))\n",
    "data_pc_km = pd.concat([data_pca, pd.Series(model_clus.labels_)], axis=1)\n",
    "data_pc_km.columns = ['PC1', 'PC2','PC3','PC4','clusterid']\n",
    "data_pc_km.head(10)"
   ]
  },
  {
   "cell_type": "code",
   "execution_count": 97,
   "metadata": {},
   "outputs": [
    {
     "data": {
      "text/plain": [
       "(153, 5)"
      ]
     },
     "execution_count": 97,
     "metadata": {},
     "output_type": "execute_result"
    }
   ],
   "source": [
    "data_pc_km.shape"
   ]
  },
  {
   "cell_type": "code",
   "execution_count": 98,
   "metadata": {},
   "outputs": [
    {
     "data": {
      "text/plain": [
       "clusterid\n",
       "0    39\n",
       "1    16\n",
       "2    33\n",
       "3    46\n",
       "4    19\n",
       "Name: clusterid, dtype: int64"
      ]
     },
     "execution_count": 98,
     "metadata": {},
     "output_type": "execute_result"
    }
   ],
   "source": [
    "data_pc_km.groupby(['clusterid']).clusterid.count()"
   ]
  },
  {
   "cell_type": "code",
   "execution_count": 99,
   "metadata": {},
   "outputs": [
    {
     "data": {
      "text/html": [
       "<div>\n",
       "<style scoped>\n",
       "    .dataframe tbody tr th:only-of-type {\n",
       "        vertical-align: middle;\n",
       "    }\n",
       "\n",
       "    .dataframe tbody tr th {\n",
       "        vertical-align: top;\n",
       "    }\n",
       "\n",
       "    .dataframe thead th {\n",
       "        text-align: right;\n",
       "    }\n",
       "</style>\n",
       "<table border=\"1\" class=\"dataframe\">\n",
       "  <thead>\n",
       "    <tr style=\"text-align: right;\">\n",
       "      <th></th>\n",
       "      <th>PC1</th>\n",
       "      <th>PC2</th>\n",
       "      <th>PC3</th>\n",
       "      <th>PC4</th>\n",
       "      <th>clusterid</th>\n",
       "    </tr>\n",
       "  </thead>\n",
       "  <tbody>\n",
       "    <tr>\n",
       "      <th>0</th>\n",
       "      <td>-3.059753</td>\n",
       "      <td>-0.397117</td>\n",
       "      <td>1.322791</td>\n",
       "      <td>0.640158</td>\n",
       "      <td>0</td>\n",
       "    </tr>\n",
       "    <tr>\n",
       "      <th>1</th>\n",
       "      <td>0.562534</td>\n",
       "      <td>-0.245379</td>\n",
       "      <td>-0.030804</td>\n",
       "      <td>-1.377257</td>\n",
       "      <td>3</td>\n",
       "    </tr>\n",
       "    <tr>\n",
       "      <th>2</th>\n",
       "      <td>-0.321121</td>\n",
       "      <td>-0.613853</td>\n",
       "      <td>-1.814442</td>\n",
       "      <td>-0.241780</td>\n",
       "      <td>2</td>\n",
       "    </tr>\n",
       "    <tr>\n",
       "      <th>3</th>\n",
       "      <td>-3.363730</td>\n",
       "      <td>1.120443</td>\n",
       "      <td>-1.704350</td>\n",
       "      <td>2.086831</td>\n",
       "      <td>0</td>\n",
       "    </tr>\n",
       "    <tr>\n",
       "      <th>4</th>\n",
       "      <td>1.319563</td>\n",
       "      <td>0.621000</td>\n",
       "      <td>-0.062786</td>\n",
       "      <td>-0.704734</td>\n",
       "      <td>3</td>\n",
       "    </tr>\n",
       "  </tbody>\n",
       "</table>\n",
       "</div>"
      ],
      "text/plain": [
       "        PC1       PC2       PC3       PC4  clusterid\n",
       "0 -3.059753 -0.397117  1.322791  0.640158          0\n",
       "1  0.562534 -0.245379 -0.030804 -1.377257          3\n",
       "2 -0.321121 -0.613853 -1.814442 -0.241780          2\n",
       "3 -3.363730  1.120443 -1.704350  2.086831          0\n",
       "4  1.319563  0.621000 -0.062786 -0.704734          3"
      ]
     },
     "execution_count": 99,
     "metadata": {},
     "output_type": "execute_result"
    }
   ],
   "source": [
    "data_pc_km.head()"
   ]
  },
  {
   "cell_type": "code",
   "execution_count": 100,
   "metadata": {},
   "outputs": [
    {
     "data": {
      "image/png": "[encoded data removed]",
      "text/plain": [
       "<Figure size 864x432 with 1 Axes>"
      ]
     },
     "metadata": {
      "needs_background": "light"
     },
     "output_type": "display_data"
    }
   ],
   "source": [
    "%matplotlib inline\n",
    "fig = plt.figure(figsize = (12,6))\n",
    "sns.scatterplot(data_pc_km['PC1'], data_pc_km['PC2'],hue= data_pc_km['clusterid'].map({0:'Cluster 0',1:'Cluster 1',2:'Cluster 2',3:'Cluster 3',4:'Cluster 4'}),palette='muted',legend='full')\n",
    "plt.xlabel('Principal Component 1')\n",
    "plt.ylabel('Principal Component 2')\n",
    "#plt.legend()\n",
    "plt.show()"
   ]
  },
  {
   "cell_type": "code",
   "execution_count": 101,
   "metadata": {},
   "outputs": [],
   "source": [
    "# analysis of clusters formed\n",
    "df.index = pd.RangeIndex(len(df.index))\n",
    "data_km = pd.concat([df, pd.Series(model_clus.labels_)], axis=1)\n",
    "data_km.columns =  ['country','child_mort','exports','health','imports','income','inflation','life_expec','total_fer','gdpp','clusterid']"
   ]
  },
  {
   "cell_type": "code",
   "execution_count": 102,
   "metadata": {},
   "outputs": [
    {
     "data": {
      "text/html": [
       "<div>\n",
       "<style scoped>\n",
       "    .dataframe tbody tr th:only-of-type {\n",
       "        vertical-align: middle;\n",
       "    }\n",
       "\n",
       "    .dataframe tbody tr th {\n",
       "        vertical-align: top;\n",
       "    }\n",
       "\n",
       "    .dataframe thead th {\n",
       "        text-align: right;\n",
       "    }\n",
       "</style>\n",
       "<table border=\"1\" class=\"dataframe\">\n",
       "  <thead>\n",
       "    <tr style=\"text-align: right;\">\n",
       "      <th></th>\n",
       "      <th>country</th>\n",
       "      <th>child_mort</th>\n",
       "      <th>exports</th>\n",
       "      <th>health</th>\n",
       "      <th>imports</th>\n",
       "      <th>income</th>\n",
       "      <th>inflation</th>\n",
       "      <th>life_expec</th>\n",
       "      <th>total_fer</th>\n",
       "      <th>gdpp</th>\n",
       "      <th>clusterid</th>\n",
       "    </tr>\n",
       "  </thead>\n",
       "  <tbody>\n",
       "    <tr>\n",
       "      <th>0</th>\n",
       "      <td>Afghanistan</td>\n",
       "      <td>90.2</td>\n",
       "      <td>10.0</td>\n",
       "      <td>7.58</td>\n",
       "      <td>44.9</td>\n",
       "      <td>1610</td>\n",
       "      <td>9.44</td>\n",
       "      <td>56.2</td>\n",
       "      <td>5.82</td>\n",
       "      <td>553</td>\n",
       "      <td>0</td>\n",
       "    </tr>\n",
       "    <tr>\n",
       "      <th>1</th>\n",
       "      <td>Albania</td>\n",
       "      <td>16.6</td>\n",
       "      <td>28.0</td>\n",
       "      <td>6.55</td>\n",
       "      <td>48.6</td>\n",
       "      <td>9930</td>\n",
       "      <td>4.49</td>\n",
       "      <td>76.3</td>\n",
       "      <td>1.65</td>\n",
       "      <td>4090</td>\n",
       "      <td>3</td>\n",
       "    </tr>\n",
       "    <tr>\n",
       "      <th>2</th>\n",
       "      <td>Algeria</td>\n",
       "      <td>27.3</td>\n",
       "      <td>38.4</td>\n",
       "      <td>4.17</td>\n",
       "      <td>31.4</td>\n",
       "      <td>12900</td>\n",
       "      <td>16.10</td>\n",
       "      <td>76.5</td>\n",
       "      <td>2.89</td>\n",
       "      <td>4460</td>\n",
       "      <td>2</td>\n",
       "    </tr>\n",
       "    <tr>\n",
       "      <th>3</th>\n",
       "      <td>Angola</td>\n",
       "      <td>119.0</td>\n",
       "      <td>62.3</td>\n",
       "      <td>2.85</td>\n",
       "      <td>42.9</td>\n",
       "      <td>5900</td>\n",
       "      <td>22.40</td>\n",
       "      <td>60.1</td>\n",
       "      <td>6.16</td>\n",
       "      <td>3530</td>\n",
       "      <td>0</td>\n",
       "    </tr>\n",
       "    <tr>\n",
       "      <th>4</th>\n",
       "      <td>Antigua and Barbuda</td>\n",
       "      <td>10.3</td>\n",
       "      <td>45.5</td>\n",
       "      <td>6.03</td>\n",
       "      <td>58.9</td>\n",
       "      <td>19100</td>\n",
       "      <td>1.44</td>\n",
       "      <td>76.8</td>\n",
       "      <td>2.13</td>\n",
       "      <td>12200</td>\n",
       "      <td>3</td>\n",
       "    </tr>\n",
       "  </tbody>\n",
       "</table>\n",
       "</div>"
      ],
      "text/plain": [
       "               country  child_mort  exports  health  imports  income  \\\n",
       "0          Afghanistan        90.2     10.0    7.58     44.9    1610   \n",
       "1              Albania        16.6     28.0    6.55     48.6    9930   \n",
       "2              Algeria        27.3     38.4    4.17     31.4   12900   \n",
       "3               Angola       119.0     62.3    2.85     42.9    5900   \n",
       "4  Antigua and Barbuda        10.3     45.5    6.03     58.9   19100   \n",
       "\n",
       "   inflation  life_expec  total_fer   gdpp  clusterid  \n",
       "0       9.44        56.2       5.82    553          0  \n",
       "1       4.49        76.3       1.65   4090          3  \n",
       "2      16.10        76.5       2.89   4460          2  \n",
       "3      22.40        60.1       6.16   3530          0  \n",
       "4       1.44        76.8       2.13  12200          3  "
      ]
     },
     "execution_count": 102,
     "metadata": {},
     "output_type": "execute_result"
    }
   ],
   "source": [
    "data_km.head()"
   ]
  },
  {
   "cell_type": "code",
   "execution_count": 103,
   "metadata": {},
   "outputs": [
    {
     "data": {
      "text/plain": [
       "(153, 11)"
      ]
     },
     "execution_count": 103,
     "metadata": {},
     "output_type": "execute_result"
    }
   ],
   "source": [
    "data_km.shape"
   ]
  },
  {
   "cell_type": "markdown",
   "metadata": {},
   "source": [
    "### Visualising behaviour of different variables for different countries for K=5 - To understand Cluster characteristic"
   ]
  },
  {
   "cell_type": "code",
   "execution_count": 104,
   "metadata": {},
   "outputs": [],
   "source": [
    "# analysis of clusters formed\n",
    "km_clusters_child_mort = \tpd.DataFrame(data_km.groupby([\"clusterid\"]).child_mort.mean())\n",
    "km_clusters_exports = \tpd.DataFrame(data_km.groupby([\"clusterid\"]).exports.mean())\n",
    "km_clusters_health = \tpd.DataFrame(data_km.groupby([\"clusterid\"]).health.mean())\n",
    "km_clusters_imports = \tpd.DataFrame(data_km.groupby([\"clusterid\"]).imports.mean())\n",
    "km_clusters_income = \tpd.DataFrame(data_km.groupby([\"clusterid\"]).income.mean())\n",
    "km_clusters_inflation = \tpd.DataFrame(data_km.groupby([\"clusterid\"]).inflation.mean())\n",
    "km_clusters_life_expec = \tpd.DataFrame(data_km.groupby([\"clusterid\"]).life_expec.mean())\n",
    "km_clusters_total_fer = \tpd.DataFrame(data_km.groupby([\"clusterid\"]).total_fer.mean())\n",
    "km_clusters_gdpp = \tpd.DataFrame(data_km.groupby([\"clusterid\"]).gdpp.mean())"
   ]
  },
  {
   "cell_type": "markdown",
   "metadata": {},
   "source": [
    "### Creating a dataframe 'df_cl' to distinguish variation among clusters"
   ]
  },
  {
   "cell_type": "code",
   "execution_count": 105,
   "metadata": {},
   "outputs": [],
   "source": [
    "df_cl= pd.concat([pd.Series([0,1,2,3,4]), km_clusters_child_mort, km_clusters_exports, km_clusters_health,km_clusters_imports,km_clusters_income,km_clusters_inflation,km_clusters_life_expec,km_clusters_total_fer,km_clusters_gdpp], axis=1)\n",
    "df_cl.columns =  ['clusterid','child_mort','exports','health','imports','income','inflation','life_expec','total_fer','gdpp']"
   ]
  },
  {
   "cell_type": "markdown",
   "metadata": {},
   "source": [
    "**Mean values of variables across clusters.**"
   ]
  },
  {
   "cell_type": "code",
   "execution_count": 106,
   "metadata": {},
   "outputs": [
    {
     "data": {
      "text/html": [
       "<div>\n",
       "<style scoped>\n",
       "    .dataframe tbody tr th:only-of-type {\n",
       "        vertical-align: middle;\n",
       "    }\n",
       "\n",
       "    .dataframe tbody tr th {\n",
       "        vertical-align: top;\n",
       "    }\n",
       "\n",
       "    .dataframe thead th {\n",
       "        text-align: right;\n",
       "    }\n",
       "</style>\n",
       "<table border=\"1\" class=\"dataframe\">\n",
       "  <thead>\n",
       "    <tr style=\"text-align: right;\">\n",
       "      <th></th>\n",
       "      <th>clusterid</th>\n",
       "      <th>child_mort</th>\n",
       "      <th>exports</th>\n",
       "      <th>health</th>\n",
       "      <th>imports</th>\n",
       "      <th>income</th>\n",
       "      <th>inflation</th>\n",
       "      <th>life_expec</th>\n",
       "      <th>total_fer</th>\n",
       "      <th>gdpp</th>\n",
       "    </tr>\n",
       "  </thead>\n",
       "  <tbody>\n",
       "    <tr>\n",
       "      <th>0</th>\n",
       "      <td>0</td>\n",
       "      <td>92.29</td>\n",
       "      <td>28.48</td>\n",
       "      <td>6.07</td>\n",
       "      <td>41.74</td>\n",
       "      <td>3226.49</td>\n",
       "      <td>10.03</td>\n",
       "      <td>59.68</td>\n",
       "      <td>5.18</td>\n",
       "      <td>1555.92</td>\n",
       "    </tr>\n",
       "    <tr>\n",
       "      <th>1</th>\n",
       "      <td>1</td>\n",
       "      <td>7.23</td>\n",
       "      <td>70.18</td>\n",
       "      <td>6.45</td>\n",
       "      <td>61.42</td>\n",
       "      <td>33718.75</td>\n",
       "      <td>5.16</td>\n",
       "      <td>76.93</td>\n",
       "      <td>1.87</td>\n",
       "      <td>22560.62</td>\n",
       "    </tr>\n",
       "    <tr>\n",
       "      <th>2</th>\n",
       "      <td>2</td>\n",
       "      <td>29.52</td>\n",
       "      <td>27.74</td>\n",
       "      <td>5.50</td>\n",
       "      <td>29.13</td>\n",
       "      <td>10903.94</td>\n",
       "      <td>11.70</td>\n",
       "      <td>72.01</td>\n",
       "      <td>2.50</td>\n",
       "      <td>5237.45</td>\n",
       "    </tr>\n",
       "    <tr>\n",
       "      <th>3</th>\n",
       "      <td>3</td>\n",
       "      <td>22.30</td>\n",
       "      <td>43.90</td>\n",
       "      <td>7.08</td>\n",
       "      <td>58.75</td>\n",
       "      <td>9959.35</td>\n",
       "      <td>4.29</td>\n",
       "      <td>71.70</td>\n",
       "      <td>2.37</td>\n",
       "      <td>5359.48</td>\n",
       "    </tr>\n",
       "    <tr>\n",
       "      <th>4</th>\n",
       "      <td>4</td>\n",
       "      <td>4.68</td>\n",
       "      <td>35.59</td>\n",
       "      <td>10.05</td>\n",
       "      <td>34.98</td>\n",
       "      <td>36578.95</td>\n",
       "      <td>1.27</td>\n",
       "      <td>80.63</td>\n",
       "      <td>1.80</td>\n",
       "      <td>40457.89</td>\n",
       "    </tr>\n",
       "  </tbody>\n",
       "</table>\n",
       "</div>"
      ],
      "text/plain": [
       "   clusterid  child_mort  exports  health  imports    income  inflation  \\\n",
       "0          0       92.29    28.48    6.07    41.74   3226.49      10.03   \n",
       "1          1        7.23    70.18    6.45    61.42  33718.75       5.16   \n",
       "2          2       29.52    27.74    5.50    29.13  10903.94      11.70   \n",
       "3          3       22.30    43.90    7.08    58.75   9959.35       4.29   \n",
       "4          4        4.68    35.59   10.05    34.98  36578.95       1.27   \n",
       "\n",
       "   life_expec  total_fer      gdpp  \n",
       "0       59.68       5.18   1555.92  \n",
       "1       76.93       1.87  22560.62  \n",
       "2       72.01       2.50   5237.45  \n",
       "3       71.70       2.37   5359.48  \n",
       "4       80.63       1.80  40457.89  "
      ]
     },
     "execution_count": 106,
     "metadata": {},
     "output_type": "execute_result"
    }
   ],
   "source": [
    "df_cl=round(df_cl,2)\n",
    "df_cl"
   ]
  },
  {
   "cell_type": "markdown",
   "metadata": {},
   "source": [
    "**Number of countries in clusters.**"
   ]
  },
  {
   "cell_type": "code",
   "execution_count": 107,
   "metadata": {},
   "outputs": [
    {
     "data": {
      "text/plain": [
       "clusterid\n",
       "0    39\n",
       "1    16\n",
       "2    33\n",
       "3    46\n",
       "4    19\n",
       "Name: clusterid, dtype: int64"
      ]
     },
     "execution_count": 107,
     "metadata": {},
     "output_type": "execute_result"
    }
   ],
   "source": [
    "data_km.groupby('clusterid').clusterid.count()"
   ]
  },
  {
   "cell_type": "code",
   "execution_count": 108,
   "metadata": {},
   "outputs": [
    {
     "data": {
      "image/png": "[encoded data removed]",
      "text/plain": [
       "<Figure size 576x432 with 1 Axes>"
      ]
     },
     "metadata": {
      "needs_background": "light"
     },
     "output_type": "display_data"
    }
   ],
   "source": [
    "plt.figure(figsize=(8,6))\n",
    "sns.barplot(x=df_cl.clusterid, y=df_cl.gdpp)\n",
    "plt.show()"
   ]
  },
  {
   "cell_type": "code",
   "execution_count": 109,
   "metadata": {},
   "outputs": [
    {
     "data": {
      "image/png": "[encoded data removed]",
      "text/plain": [
       "<Figure size 576x432 with 1 Axes>"
      ]
     },
     "metadata": {
      "needs_background": "light"
     },
     "output_type": "display_data"
    }
   ],
   "source": [
    "plt.figure(figsize=(8,6))\n",
    "sns.barplot(x=df_cl.clusterid, y=df_cl.inflation)\n",
    "plt.show()"
   ]
  },
  {
   "cell_type": "code",
   "execution_count": 110,
   "metadata": {},
   "outputs": [
    {
     "data": {
      "image/png": "[encoded data removed]",
      "text/plain": [
       "<Figure size 576x432 with 1 Axes>"
      ]
     },
     "metadata": {
      "needs_background": "light"
     },
     "output_type": "display_data"
    }
   ],
   "source": [
    "plt.figure(figsize=(8,6))\n",
    "sns.barplot(x=df_cl.clusterid, y=df_cl.exports)\n",
    "plt.show()"
   ]
  },
  {
   "cell_type": "code",
   "execution_count": 111,
   "metadata": {},
   "outputs": [
    {
     "data": {
      "image/png": "[encoded data removed]",
      "text/plain": [
       "<Figure size 576x432 with 1 Axes>"
      ]
     },
     "metadata": {
      "needs_background": "light"
     },
     "output_type": "display_data"
    }
   ],
   "source": [
    "plt.figure(figsize=(8,6))\n",
    "sns.barplot(x=df_cl.clusterid, y=df_cl.imports)\n",
    "plt.show()"
   ]
  },
  {
   "cell_type": "code",
   "execution_count": 112,
   "metadata": {},
   "outputs": [
    {
     "data": {
      "image/png": "[encoded data removed]",
      "text/plain": [
       "<Figure size 576x432 with 1 Axes>"
      ]
     },
     "metadata": {
      "needs_background": "light"
     },
     "output_type": "display_data"
    }
   ],
   "source": [
    "plt.figure(figsize=(8,6))\n",
    "sns.barplot(x=df_cl.clusterid, y=df_cl.child_mort)\n",
    "plt.show()"
   ]
  },
  {
   "cell_type": "code",
   "execution_count": 113,
   "metadata": {},
   "outputs": [
    {
     "data": {
      "image/png": "[encoded data removed]",
      "text/plain": [
       "<Figure size 576x432 with 1 Axes>"
      ]
     },
     "metadata": {
      "needs_background": "light"
     },
     "output_type": "display_data"
    }
   ],
   "source": [
    "plt.figure(figsize=(8,6))\n",
    "sns.barplot(x=df_cl.clusterid, y=df_cl.total_fer)\n",
    "plt.show()"
   ]
  },
  {
   "cell_type": "code",
   "execution_count": 114,
   "metadata": {},
   "outputs": [
    {
     "data": {
      "image/png": "[encoded data removed]",
      "text/plain": [
       "<Figure size 576x432 with 1 Axes>"
      ]
     },
     "metadata": {
      "needs_background": "light"
     },
     "output_type": "display_data"
    }
   ],
   "source": [
    "plt.figure(figsize=(8,6))\n",
    "sns.barplot(x=df_cl.clusterid, y=df_cl.life_expec)\n",
    "plt.show()"
   ]
  },
  {
   "cell_type": "code",
   "execution_count": 115,
   "metadata": {},
   "outputs": [
    {
     "data": {
      "image/png": "[encoded data removed]",
      "text/plain": [
       "<Figure size 576x432 with 1 Axes>"
      ]
     },
     "metadata": {
      "needs_background": "light"
     },
     "output_type": "display_data"
    }
   ],
   "source": [
    "plt.figure(figsize=(8,6))\n",
    "sns.barplot(x=df_cl.clusterid, y=df_cl.health)\n",
    "plt.show()"
   ]
  },
  {
   "cell_type": "code",
   "execution_count": 116,
   "metadata": {},
   "outputs": [
    {
     "data": {
      "image/png": "[encoded data removed]",
      "text/plain": [
       "<Figure size 576x432 with 1 Axes>"
      ]
     },
     "metadata": {
      "needs_background": "light"
     },
     "output_type": "display_data"
    }
   ],
   "source": [
    "plt.figure(figsize=(8,6))\n",
    "sns.barplot(x=df_cl.clusterid, y=df_cl.income)\n",
    "plt.show()"
   ]
  },
  {
   "cell_type": "code",
   "execution_count": 117,
   "metadata": {},
   "outputs": [],
   "source": [
    "#From the above plots, it can be inferred that-\n",
    "#Countries in CLuster 0, have very low GDP, very high child mortality rate, high inflation(indicative of bad economic conditions),\n",
    "#very low life expectancy, low health and income standards; So Cluster 0 signifies Under-developed countries.\n",
    "\n",
    "#Countries in Cluster 4 on the other hand represent very good economic conditions with Very high GDP, very high income levels, low child_mortality\n",
    "#and high life expectancy, good health conditions. So Clster 4 signifies developed conditions.\n",
    "\n",
    "#Countries in Cluster 1 also represent good economic conditions though in slight moderate numbers than Cluster 4 and hence signify \n",
    "#developed countries (but lower than Cl 4)\n",
    "\n",
    "#Countries in Cluster 2 & 3 are not very developed based on above parameters and represent low development economic conditions only.\n",
    "\n",
    "#Thus the order of development may be written as-\n",
    "\n",
    "#Bad--> Good\n",
    "# 0-2-3-1-4"
   ]
  },
  {
   "cell_type": "code",
   "execution_count": 118,
   "metadata": {},
   "outputs": [
    {
     "data": {
      "image/png": "[encoded data removed]",
      "text/plain": [
       "<Figure size 864x432 with 1 Axes>"
      ]
     },
     "metadata": {
      "needs_background": "light"
     },
     "output_type": "display_data"
    }
   ],
   "source": [
    "%matplotlib inline\n",
    "fig = plt.figure(figsize = (12,6))\n",
    "sns.scatterplot(data_km['child_mort'], data_km['health'],hue= data_km['clusterid'].map({0:'Cluster 0',1:'Cluster 1',2:'Cluster 2',3:'Cluster 3',4:'Cluster 4'}),palette='bright',legend='full')\n",
    "plt.xlabel('Child mortality')\n",
    "plt.ylabel('Health')\n",
    "plt.show()"
   ]
  },
  {
   "cell_type": "code",
   "execution_count": 119,
   "metadata": {},
   "outputs": [
    {
     "data": {
      "image/png": "[encoded data removed]",
      "text/plain": [
       "<Figure size 864x432 with 1 Axes>"
      ]
     },
     "metadata": {
      "needs_background": "light"
     },
     "output_type": "display_data"
    }
   ],
   "source": [
    "%matplotlib inline\n",
    "fig = plt.figure(figsize = (12,6))\n",
    "sns.scatterplot(data_km['child_mort'], data_km['gdpp'],hue= data_km['clusterid'].map({0:'Cluster 0',1:'Cluster 1',2:'Cluster 2',3:'Cluster 3',4:'Cluster 4'}),palette='bright',legend='full')\n",
    "plt.xlabel('Child mortality')\n",
    "plt.ylabel('gdpp')\n",
    "plt.show()"
   ]
  },
  {
   "cell_type": "code",
   "execution_count": 120,
   "metadata": {},
   "outputs": [
    {
     "data": {
      "image/png": "[encoded data removed]",
      "text/plain": [
       "<Figure size 864x432 with 1 Axes>"
      ]
     },
     "metadata": {
      "needs_background": "light"
     },
     "output_type": "display_data"
    }
   ],
   "source": [
    "%matplotlib inline\n",
    "fig = plt.figure(figsize = (12,6))\n",
    "sns.scatterplot(data_km['imports'], data_km['exports'],hue= data_km['clusterid'].map({0:'Cluster 0',1:'Cluster 1',2:'Cluster 2',3:'Cluster 3',4:'Cluster 4'}),palette='bright',legend='full')\n",
    "plt.xlabel('Imports')\n",
    "plt.ylabel('Exports')\n",
    "plt.show()"
   ]
  },
  {
   "cell_type": "code",
   "execution_count": 121,
   "metadata": {},
   "outputs": [
    {
     "data": {
      "image/png": "[encoded data removed]",
      "text/plain": [
       "<Figure size 864x432 with 1 Axes>"
      ]
     },
     "metadata": {
      "needs_background": "light"
     },
     "output_type": "display_data"
    }
   ],
   "source": [
    "%matplotlib inline\n",
    "fig = plt.figure(figsize = (12,6))\n",
    "sns.scatterplot(data_km['imports'], data_km['inflation'],hue= data_km['clusterid'].map({0:'Cluster 0',1:'Cluster 1',2:'Cluster 2',3:'Cluster 3',4:'Cluster 4'}),palette='bright',legend='full')\n",
    "plt.xlabel('Imports')\n",
    "plt.ylabel('Inflation')\n",
    "plt.show()"
   ]
  },
  {
   "cell_type": "code",
   "execution_count": 122,
   "metadata": {},
   "outputs": [
    {
     "data": {
      "image/png": "[encoded data removed]",
      "text/plain": [
       "<Figure size 864x432 with 1 Axes>"
      ]
     },
     "metadata": {
      "needs_background": "light"
     },
     "output_type": "display_data"
    }
   ],
   "source": [
    "%matplotlib inline\n",
    "fig = plt.figure(figsize = (12,6))\n",
    "sns.scatterplot(data_km['gdpp'], data_km['inflation'],hue= data_km['clusterid'].map({0:'Cluster 0',1:'Cluster 1',2:'Cluster 2',3:'Cluster 3',4:'Cluster 4'}),palette='bright',legend='full')\n",
    "plt.xlabel('GDPP')\n",
    "plt.ylabel('Inflation')\n",
    "plt.show()"
   ]
  },
  {
   "cell_type": "code",
   "execution_count": 123,
   "metadata": {},
   "outputs": [
    {
     "data": {
      "image/png": "[encoded data removed]",
      "text/plain": [
       "<Figure size 864x432 with 1 Axes>"
      ]
     },
     "metadata": {
      "needs_background": "light"
     },
     "output_type": "display_data"
    }
   ],
   "source": [
    "%matplotlib inline\n",
    "fig = plt.figure(figsize = (12,6))\n",
    "sns.scatterplot(data_km['exports'], data_km['gdpp'],hue= data_km['clusterid'].map({0:'Cluster 0',1:'Cluster 1',2:'Cluster 2',3:'Cluster 3',4:'Cluster 4'}),palette='bright',legend='full')\n",
    "plt.xlabel('Exports')\n",
    "plt.ylabel('GDPP')\n",
    "plt.show()"
   ]
  },
  {
   "cell_type": "markdown",
   "metadata": {},
   "source": [
    "## Hierarchical Clustering"
   ]
  },
  {
   "cell_type": "code",
   "execution_count": 124,
   "metadata": {},
   "outputs": [
    {
     "data": {
      "image/png": "[encoded data removed]",
      "text/plain": [
       "<Figure size 432x288 with 1 Axes>"
      ]
     },
     "metadata": {
      "needs_background": "light"
     },
     "output_type": "display_data"
    }
   ],
   "source": [
    "mergings = linkage(data_pca, method = \"complete\", metric='euclidean')\n",
    "dendrogram(mergings)\n",
    "plt.show()"
   ]
  },
  {
   "cell_type": "code",
   "execution_count": 125,
   "metadata": {},
   "outputs": [],
   "source": [
    "clusterCut1 = pd.Series(cut_tree(mergings, n_clusters = 4).reshape(-1,))\n",
    "data_hr1 = pd.concat([df, clusterCut1], axis=1)\n",
    "data_hr1.columns =  ['country','child_mort','exports','health','imports','income','inflation','life_expec','total_fer','gdpp','clusterid']"
   ]
  },
  {
   "cell_type": "code",
   "execution_count": 126,
   "metadata": {},
   "outputs": [
    {
     "data": {
      "text/plain": [
       "(153, 11)"
      ]
     },
     "execution_count": 126,
     "metadata": {},
     "output_type": "execute_result"
    }
   ],
   "source": [
    "data_hr1.shape"
   ]
  },
  {
   "cell_type": "code",
   "execution_count": 127,
   "metadata": {},
   "outputs": [
    {
     "data": {
      "text/html": [
       "<div>\n",
       "<style scoped>\n",
       "    .dataframe tbody tr th:only-of-type {\n",
       "        vertical-align: middle;\n",
       "    }\n",
       "\n",
       "    .dataframe tbody tr th {\n",
       "        vertical-align: top;\n",
       "    }\n",
       "\n",
       "    .dataframe thead th {\n",
       "        text-align: right;\n",
       "    }\n",
       "</style>\n",
       "<table border=\"1\" class=\"dataframe\">\n",
       "  <thead>\n",
       "    <tr style=\"text-align: right;\">\n",
       "      <th></th>\n",
       "      <th>country</th>\n",
       "      <th>child_mort</th>\n",
       "      <th>exports</th>\n",
       "      <th>health</th>\n",
       "      <th>imports</th>\n",
       "      <th>income</th>\n",
       "      <th>inflation</th>\n",
       "      <th>life_expec</th>\n",
       "      <th>total_fer</th>\n",
       "      <th>gdpp</th>\n",
       "      <th>clusterid</th>\n",
       "    </tr>\n",
       "  </thead>\n",
       "  <tbody>\n",
       "    <tr>\n",
       "      <th>0</th>\n",
       "      <td>Afghanistan</td>\n",
       "      <td>90.2</td>\n",
       "      <td>10.0</td>\n",
       "      <td>7.58</td>\n",
       "      <td>44.9</td>\n",
       "      <td>1610</td>\n",
       "      <td>9.44</td>\n",
       "      <td>56.2</td>\n",
       "      <td>5.82</td>\n",
       "      <td>553</td>\n",
       "      <td>0</td>\n",
       "    </tr>\n",
       "    <tr>\n",
       "      <th>1</th>\n",
       "      <td>Albania</td>\n",
       "      <td>16.6</td>\n",
       "      <td>28.0</td>\n",
       "      <td>6.55</td>\n",
       "      <td>48.6</td>\n",
       "      <td>9930</td>\n",
       "      <td>4.49</td>\n",
       "      <td>76.3</td>\n",
       "      <td>1.65</td>\n",
       "      <td>4090</td>\n",
       "      <td>1</td>\n",
       "    </tr>\n",
       "  </tbody>\n",
       "</table>\n",
       "</div>"
      ],
      "text/plain": [
       "       country  child_mort  exports  health  imports  income  inflation  \\\n",
       "0  Afghanistan        90.2     10.0    7.58     44.9    1610       9.44   \n",
       "1      Albania        16.6     28.0    6.55     48.6    9930       4.49   \n",
       "\n",
       "   life_expec  total_fer  gdpp  clusterid  \n",
       "0        56.2       5.82   553          0  \n",
       "1        76.3       1.65  4090          1  "
      ]
     },
     "execution_count": 127,
     "metadata": {},
     "output_type": "execute_result"
    }
   ],
   "source": [
    "data_hr1.head(2)"
   ]
  },
  {
   "cell_type": "markdown",
   "metadata": {},
   "source": [
    "**Number of contries in clusters.**"
   ]
  },
  {
   "cell_type": "code",
   "execution_count": 128,
   "metadata": {},
   "outputs": [
    {
     "data": {
      "text/plain": [
       "clusterid\n",
       "0    23\n",
       "1    81\n",
       "2     7\n",
       "3    42\n",
       "Name: clusterid, dtype: int64"
      ]
     },
     "execution_count": 128,
     "metadata": {},
     "output_type": "execute_result"
    }
   ],
   "source": [
    "data_hr1.groupby('clusterid').clusterid.count()"
   ]
  },
  {
   "cell_type": "markdown",
   "metadata": {},
   "source": [
    "### Sumamrising Hierarchial clustering results"
   ]
  },
  {
   "cell_type": "code",
   "execution_count": 129,
   "metadata": {},
   "outputs": [],
   "source": [
    "# analysis of clusters formed\n",
    "hr_clusters_child_mort1 = \tpd.DataFrame(data_hr1.groupby([\"clusterid\"]).child_mort.mean())\n",
    "hr_clusters_exports1 = \tpd.DataFrame(data_hr1.groupby([\"clusterid\"]).exports.mean())\n",
    "hr_clusters_health1 = \tpd.DataFrame(data_hr1.groupby([\"clusterid\"]).health.mean())\n",
    "hr_clusters_imports1 = \tpd.DataFrame(data_hr1.groupby([\"clusterid\"]).imports.mean())\n",
    "hr_clusters_income1 = \tpd.DataFrame(data_hr1.groupby([\"clusterid\"]).income.mean())\n",
    "hr_clusters_inflation1 = \tpd.DataFrame(data_hr1.groupby([\"clusterid\"]).inflation.mean())\n",
    "hr_clusters_life_expec1 = \tpd.DataFrame(data_hr1.groupby([\"clusterid\"]).life_expec.mean())\n",
    "hr_clusters_total_fer1 = \tpd.DataFrame(data_hr1.groupby([\"clusterid\"]).total_fer.mean())\n",
    "hr_clusters_gdpp1 = \tpd.DataFrame(data_hr1.groupby([\"clusterid\"]).gdpp.mean())"
   ]
  },
  {
   "cell_type": "markdown",
   "metadata": {},
   "source": [
    "**Mean values of variables across clusters.**"
   ]
  },
  {
   "cell_type": "code",
   "execution_count": 130,
   "metadata": {},
   "outputs": [
    {
     "data": {
      "text/html": [
       "<div>\n",
       "<style scoped>\n",
       "    .dataframe tbody tr th:only-of-type {\n",
       "        vertical-align: middle;\n",
       "    }\n",
       "\n",
       "    .dataframe tbody tr th {\n",
       "        vertical-align: top;\n",
       "    }\n",
       "\n",
       "    .dataframe thead th {\n",
       "        text-align: right;\n",
       "    }\n",
       "</style>\n",
       "<table border=\"1\" class=\"dataframe\">\n",
       "  <thead>\n",
       "    <tr style=\"text-align: right;\">\n",
       "      <th></th>\n",
       "      <th>clusterid</th>\n",
       "      <th>child_mort</th>\n",
       "      <th>exports</th>\n",
       "      <th>health</th>\n",
       "      <th>imports</th>\n",
       "      <th>income</th>\n",
       "      <th>inflation</th>\n",
       "      <th>life_expec</th>\n",
       "      <th>total_fer</th>\n",
       "      <th>gdpp</th>\n",
       "    </tr>\n",
       "  </thead>\n",
       "  <tbody>\n",
       "    <tr>\n",
       "      <th>0</th>\n",
       "      <td>0</td>\n",
       "      <td>94.91</td>\n",
       "      <td>28.40</td>\n",
       "      <td>7.72</td>\n",
       "      <td>51.51</td>\n",
       "      <td>2384.91</td>\n",
       "      <td>7.34</td>\n",
       "      <td>56.84</td>\n",
       "      <td>5.20</td>\n",
       "      <td>1243.70</td>\n",
       "    </tr>\n",
       "    <tr>\n",
       "      <th>1</th>\n",
       "      <td>1</td>\n",
       "      <td>33.17</td>\n",
       "      <td>30.77</td>\n",
       "      <td>6.19</td>\n",
       "      <td>40.35</td>\n",
       "      <td>9351.60</td>\n",
       "      <td>7.21</td>\n",
       "      <td>70.93</td>\n",
       "      <td>2.77</td>\n",
       "      <td>5014.91</td>\n",
       "    </tr>\n",
       "    <tr>\n",
       "      <th>2</th>\n",
       "      <td>2</td>\n",
       "      <td>76.77</td>\n",
       "      <td>59.76</td>\n",
       "      <td>4.05</td>\n",
       "      <td>46.81</td>\n",
       "      <td>10814.29</td>\n",
       "      <td>23.76</td>\n",
       "      <td>63.74</td>\n",
       "      <td>4.67</td>\n",
       "      <td>5325.71</td>\n",
       "    </tr>\n",
       "    <tr>\n",
       "      <th>3</th>\n",
       "      <td>3</td>\n",
       "      <td>9.44</td>\n",
       "      <td>54.31</td>\n",
       "      <td>7.88</td>\n",
       "      <td>51.38</td>\n",
       "      <td>30720.48</td>\n",
       "      <td>3.85</td>\n",
       "      <td>77.78</td>\n",
       "      <td>1.92</td>\n",
       "      <td>27086.43</td>\n",
       "    </tr>\n",
       "  </tbody>\n",
       "</table>\n",
       "</div>"
      ],
      "text/plain": [
       "   clusterid  child_mort  exports  health  imports    income  inflation  \\\n",
       "0          0       94.91    28.40    7.72    51.51   2384.91       7.34   \n",
       "1          1       33.17    30.77    6.19    40.35   9351.60       7.21   \n",
       "2          2       76.77    59.76    4.05    46.81  10814.29      23.76   \n",
       "3          3        9.44    54.31    7.88    51.38  30720.48       3.85   \n",
       "\n",
       "   life_expec  total_fer      gdpp  \n",
       "0       56.84       5.20   1243.70  \n",
       "1       70.93       2.77   5014.91  \n",
       "2       63.74       4.67   5325.71  \n",
       "3       77.78       1.92  27086.43  "
      ]
     },
     "execution_count": 130,
     "metadata": {},
     "output_type": "execute_result"
    }
   ],
   "source": [
    "df_hr1 = pd.concat([pd.Series([0,1,2,3]), hr_clusters_child_mort1, hr_clusters_exports1, hr_clusters_health1,hr_clusters_imports1,hr_clusters_income1,hr_clusters_inflation1,hr_clusters_life_expec1,hr_clusters_total_fer1,hr_clusters_gdpp1], axis=1)\n",
    "df_hr1.columns =  ['clusterid','child_mort','exports','health','imports','income','inflation','life_expec','total_fer','gdpp']\n",
    "df_hr1=round(df_hr1,2)\n",
    "df_hr1"
   ]
  },
  {
   "cell_type": "code",
   "execution_count": 131,
   "metadata": {},
   "outputs": [
    {
     "data": {
      "text/html": [
       "<div>\n",
       "<style scoped>\n",
       "    .dataframe tbody tr th:only-of-type {\n",
       "        vertical-align: middle;\n",
       "    }\n",
       "\n",
       "    .dataframe tbody tr th {\n",
       "        vertical-align: top;\n",
       "    }\n",
       "\n",
       "    .dataframe thead th {\n",
       "        text-align: right;\n",
       "    }\n",
       "</style>\n",
       "<table border=\"1\" class=\"dataframe\">\n",
       "  <thead>\n",
       "    <tr style=\"text-align: right;\">\n",
       "      <th></th>\n",
       "      <th>PC1</th>\n",
       "      <th>PC2</th>\n",
       "      <th>PC3</th>\n",
       "      <th>PC4</th>\n",
       "      <th>clusterid</th>\n",
       "    </tr>\n",
       "  </thead>\n",
       "  <tbody>\n",
       "    <tr>\n",
       "      <th>0</th>\n",
       "      <td>-3.059753</td>\n",
       "      <td>-0.397117</td>\n",
       "      <td>1.322791</td>\n",
       "      <td>0.640158</td>\n",
       "      <td>0</td>\n",
       "    </tr>\n",
       "    <tr>\n",
       "      <th>1</th>\n",
       "      <td>0.562534</td>\n",
       "      <td>-0.245379</td>\n",
       "      <td>-0.030804</td>\n",
       "      <td>-1.377257</td>\n",
       "      <td>1</td>\n",
       "    </tr>\n",
       "    <tr>\n",
       "      <th>2</th>\n",
       "      <td>-0.321121</td>\n",
       "      <td>-0.613853</td>\n",
       "      <td>-1.814442</td>\n",
       "      <td>-0.241780</td>\n",
       "      <td>1</td>\n",
       "    </tr>\n",
       "    <tr>\n",
       "      <th>3</th>\n",
       "      <td>-3.363730</td>\n",
       "      <td>1.120443</td>\n",
       "      <td>-1.704350</td>\n",
       "      <td>2.086831</td>\n",
       "      <td>2</td>\n",
       "    </tr>\n",
       "    <tr>\n",
       "      <th>4</th>\n",
       "      <td>1.319563</td>\n",
       "      <td>0.621000</td>\n",
       "      <td>-0.062786</td>\n",
       "      <td>-0.704734</td>\n",
       "      <td>1</td>\n",
       "    </tr>\n",
       "  </tbody>\n",
       "</table>\n",
       "</div>"
      ],
      "text/plain": [
       "        PC1       PC2       PC3       PC4  clusterid\n",
       "0 -3.059753 -0.397117  1.322791  0.640158          0\n",
       "1  0.562534 -0.245379 -0.030804 -1.377257          1\n",
       "2 -0.321121 -0.613853 -1.814442 -0.241780          1\n",
       "3 -3.363730  1.120443 -1.704350  2.086831          2\n",
       "4  1.319563  0.621000 -0.062786 -0.704734          1"
      ]
     },
     "execution_count": 131,
     "metadata": {},
     "output_type": "execute_result"
    }
   ],
   "source": [
    "data_pca_hr_cl1= pd.concat([data_pca, clusterCut1], axis=1)\n",
    "data_pca_hr_cl1.columns =  ['PC1','PC2','PC3','PC4','clusterid']\n",
    "data_pca_hr_cl1.head()"
   ]
  },
  {
   "cell_type": "code",
   "execution_count": 132,
   "metadata": {},
   "outputs": [
    {
     "data": {
      "image/png": "[encoded data removed]",
      "text/plain": [
       "<Figure size 864x432 with 1 Axes>"
      ]
     },
     "metadata": {
      "needs_background": "light"
     },
     "output_type": "display_data"
    }
   ],
   "source": [
    "%matplotlib inline\n",
    "fig = plt.figure(figsize = (12,6))\n",
    "sns.scatterplot(data_pca_hr_cl1['PC1'], data_pca_hr_cl1['PC2'],hue= data_pca_hr_cl1['clusterid'].map({0:'Cluster 0',1:'Cluster 1',2:'Cluster 2',3:'Cluster 3'}),palette='bright',legend='full')\n",
    "plt.xlabel('Principal Component 1')\n",
    "plt.ylabel('Principal Component 2')\n",
    "plt.show()"
   ]
  },
  {
   "cell_type": "markdown",
   "metadata": {},
   "source": [
    "### Repeating Hierarchical clustering with no. of clusters=5"
   ]
  },
  {
   "cell_type": "code",
   "execution_count": 133,
   "metadata": {},
   "outputs": [],
   "source": [
    "clusterCut2 = pd.Series(cut_tree(mergings, n_clusters = 5).reshape(-1,))\n",
    "data_hr2 = pd.concat([df, clusterCut2], axis=1)\n",
    "data_hr2.columns =  ['country','child_mort','exports','health','imports','income','inflation','life_expec','total_fer','gdpp','clusterid']"
   ]
  },
  {
   "cell_type": "markdown",
   "metadata": {},
   "source": [
    "**Number of countries in clusters.**"
   ]
  },
  {
   "cell_type": "code",
   "execution_count": 134,
   "metadata": {},
   "outputs": [
    {
     "data": {
      "text/plain": [
       "clusterid\n",
       "0    23\n",
       "1    81\n",
       "2     7\n",
       "3    17\n",
       "4    25\n",
       "Name: clusterid, dtype: int64"
      ]
     },
     "execution_count": 134,
     "metadata": {},
     "output_type": "execute_result"
    }
   ],
   "source": [
    "data_hr2.groupby('clusterid').clusterid.count()"
   ]
  },
  {
   "cell_type": "code",
   "execution_count": 135,
   "metadata": {},
   "outputs": [],
   "source": [
    "# analysis of clusters formed\n",
    "hr_clusters_child_mort2 = \tpd.DataFrame(data_hr2.groupby([\"clusterid\"]).child_mort.mean())\n",
    "hr_clusters_exports2 = \tpd.DataFrame(data_hr2.groupby([\"clusterid\"]).exports.mean())\n",
    "hr_clusters_health2 = \tpd.DataFrame(data_hr2.groupby([\"clusterid\"]).health.mean())\n",
    "hr_clusters_imports2 = \tpd.DataFrame(data_hr2.groupby([\"clusterid\"]).imports.mean())\n",
    "hr_clusters_income2 = \tpd.DataFrame(data_hr2.groupby([\"clusterid\"]).income.mean())\n",
    "hr_clusters_inflation2 = \tpd.DataFrame(data_hr2.groupby([\"clusterid\"]).inflation.mean())\n",
    "hr_clusters_life_expec2 = \tpd.DataFrame(data_hr2.groupby([\"clusterid\"]).life_expec.mean())\n",
    "hr_clusters_total_fer2 = \tpd.DataFrame(data_hr2.groupby([\"clusterid\"]).total_fer.mean())\n",
    "hr_clusters_gdpp2 = \tpd.DataFrame(data_hr2.groupby([\"clusterid\"]).gdpp.mean())"
   ]
  },
  {
   "cell_type": "code",
   "execution_count": 136,
   "metadata": {},
   "outputs": [],
   "source": [
    "df_hr2 = pd.concat([pd.Series([0,1,2,3,4]), hr_clusters_child_mort2, hr_clusters_exports2, hr_clusters_health2,hr_clusters_imports2,hr_clusters_income2,hr_clusters_inflation2,hr_clusters_life_expec2,hr_clusters_total_fer2,hr_clusters_gdpp2], axis=1)\n",
    "df_hr2.columns =  ['clusterid','child_mort','exports','health','imports','income','inflation','life_expec','total_fer','gdpp']"
   ]
  },
  {
   "cell_type": "markdown",
   "metadata": {},
   "source": [
    "**Mean values of variables across clusters.**"
   ]
  },
  {
   "cell_type": "code",
   "execution_count": 137,
   "metadata": {},
   "outputs": [
    {
     "data": {
      "text/html": [
       "<div>\n",
       "<style scoped>\n",
       "    .dataframe tbody tr th:only-of-type {\n",
       "        vertical-align: middle;\n",
       "    }\n",
       "\n",
       "    .dataframe tbody tr th {\n",
       "        vertical-align: top;\n",
       "    }\n",
       "\n",
       "    .dataframe thead th {\n",
       "        text-align: right;\n",
       "    }\n",
       "</style>\n",
       "<table border=\"1\" class=\"dataframe\">\n",
       "  <thead>\n",
       "    <tr style=\"text-align: right;\">\n",
       "      <th></th>\n",
       "      <th>clusterid</th>\n",
       "      <th>child_mort</th>\n",
       "      <th>exports</th>\n",
       "      <th>health</th>\n",
       "      <th>imports</th>\n",
       "      <th>income</th>\n",
       "      <th>inflation</th>\n",
       "      <th>life_expec</th>\n",
       "      <th>total_fer</th>\n",
       "      <th>gdpp</th>\n",
       "    </tr>\n",
       "  </thead>\n",
       "  <tbody>\n",
       "    <tr>\n",
       "      <th>0</th>\n",
       "      <td>0</td>\n",
       "      <td>94.91</td>\n",
       "      <td>28.40</td>\n",
       "      <td>7.72</td>\n",
       "      <td>51.51</td>\n",
       "      <td>2384.91</td>\n",
       "      <td>7.34</td>\n",
       "      <td>56.84</td>\n",
       "      <td>5.20</td>\n",
       "      <td>1243.70</td>\n",
       "    </tr>\n",
       "    <tr>\n",
       "      <th>1</th>\n",
       "      <td>1</td>\n",
       "      <td>33.17</td>\n",
       "      <td>30.77</td>\n",
       "      <td>6.19</td>\n",
       "      <td>40.35</td>\n",
       "      <td>9351.60</td>\n",
       "      <td>7.21</td>\n",
       "      <td>70.93</td>\n",
       "      <td>2.77</td>\n",
       "      <td>5014.91</td>\n",
       "    </tr>\n",
       "    <tr>\n",
       "      <th>2</th>\n",
       "      <td>2</td>\n",
       "      <td>76.77</td>\n",
       "      <td>59.76</td>\n",
       "      <td>4.05</td>\n",
       "      <td>46.81</td>\n",
       "      <td>10814.29</td>\n",
       "      <td>23.76</td>\n",
       "      <td>63.74</td>\n",
       "      <td>4.67</td>\n",
       "      <td>5325.71</td>\n",
       "    </tr>\n",
       "    <tr>\n",
       "      <th>3</th>\n",
       "      <td>3</td>\n",
       "      <td>4.15</td>\n",
       "      <td>33.49</td>\n",
       "      <td>10.07</td>\n",
       "      <td>32.78</td>\n",
       "      <td>36858.82</td>\n",
       "      <td>1.39</td>\n",
       "      <td>81.03</td>\n",
       "      <td>1.80</td>\n",
       "      <td>40611.76</td>\n",
       "    </tr>\n",
       "    <tr>\n",
       "      <th>4</th>\n",
       "      <td>4</td>\n",
       "      <td>13.04</td>\n",
       "      <td>68.46</td>\n",
       "      <td>6.40</td>\n",
       "      <td>64.03</td>\n",
       "      <td>26546.40</td>\n",
       "      <td>5.53</td>\n",
       "      <td>75.57</td>\n",
       "      <td>2.01</td>\n",
       "      <td>17889.20</td>\n",
       "    </tr>\n",
       "  </tbody>\n",
       "</table>\n",
       "</div>"
      ],
      "text/plain": [
       "   clusterid  child_mort  exports  health  imports    income  inflation  \\\n",
       "0          0       94.91    28.40    7.72    51.51   2384.91       7.34   \n",
       "1          1       33.17    30.77    6.19    40.35   9351.60       7.21   \n",
       "2          2       76.77    59.76    4.05    46.81  10814.29      23.76   \n",
       "3          3        4.15    33.49   10.07    32.78  36858.82       1.39   \n",
       "4          4       13.04    68.46    6.40    64.03  26546.40       5.53   \n",
       "\n",
       "   life_expec  total_fer      gdpp  \n",
       "0       56.84       5.20   1243.70  \n",
       "1       70.93       2.77   5014.91  \n",
       "2       63.74       4.67   5325.71  \n",
       "3       81.03       1.80  40611.76  \n",
       "4       75.57       2.01  17889.20  "
      ]
     },
     "execution_count": 137,
     "metadata": {},
     "output_type": "execute_result"
    }
   ],
   "source": [
    "df_hr2=round(df_hr2,2)\n",
    "df_hr2"
   ]
  },
  {
   "cell_type": "code",
   "execution_count": 138,
   "metadata": {},
   "outputs": [
    {
     "data": {
      "text/html": [
       "<div>\n",
       "<style scoped>\n",
       "    .dataframe tbody tr th:only-of-type {\n",
       "        vertical-align: middle;\n",
       "    }\n",
       "\n",
       "    .dataframe tbody tr th {\n",
       "        vertical-align: top;\n",
       "    }\n",
       "\n",
       "    .dataframe thead th {\n",
       "        text-align: right;\n",
       "    }\n",
       "</style>\n",
       "<table border=\"1\" class=\"dataframe\">\n",
       "  <thead>\n",
       "    <tr style=\"text-align: right;\">\n",
       "      <th></th>\n",
       "      <th>PC1</th>\n",
       "      <th>PC2</th>\n",
       "      <th>PC3</th>\n",
       "      <th>PC4</th>\n",
       "      <th>clusterid</th>\n",
       "    </tr>\n",
       "  </thead>\n",
       "  <tbody>\n",
       "    <tr>\n",
       "      <th>0</th>\n",
       "      <td>-3.059753</td>\n",
       "      <td>-0.397117</td>\n",
       "      <td>1.322791</td>\n",
       "      <td>0.640158</td>\n",
       "      <td>0</td>\n",
       "    </tr>\n",
       "    <tr>\n",
       "      <th>1</th>\n",
       "      <td>0.562534</td>\n",
       "      <td>-0.245379</td>\n",
       "      <td>-0.030804</td>\n",
       "      <td>-1.377257</td>\n",
       "      <td>1</td>\n",
       "    </tr>\n",
       "    <tr>\n",
       "      <th>2</th>\n",
       "      <td>-0.321121</td>\n",
       "      <td>-0.613853</td>\n",
       "      <td>-1.814442</td>\n",
       "      <td>-0.241780</td>\n",
       "      <td>1</td>\n",
       "    </tr>\n",
       "    <tr>\n",
       "      <th>3</th>\n",
       "      <td>-3.363730</td>\n",
       "      <td>1.120443</td>\n",
       "      <td>-1.704350</td>\n",
       "      <td>2.086831</td>\n",
       "      <td>2</td>\n",
       "    </tr>\n",
       "    <tr>\n",
       "      <th>4</th>\n",
       "      <td>1.319563</td>\n",
       "      <td>0.621000</td>\n",
       "      <td>-0.062786</td>\n",
       "      <td>-0.704734</td>\n",
       "      <td>1</td>\n",
       "    </tr>\n",
       "  </tbody>\n",
       "</table>\n",
       "</div>"
      ],
      "text/plain": [
       "        PC1       PC2       PC3       PC4  clusterid\n",
       "0 -3.059753 -0.397117  1.322791  0.640158          0\n",
       "1  0.562534 -0.245379 -0.030804 -1.377257          1\n",
       "2 -0.321121 -0.613853 -1.814442 -0.241780          1\n",
       "3 -3.363730  1.120443 -1.704350  2.086831          2\n",
       "4  1.319563  0.621000 -0.062786 -0.704734          1"
      ]
     },
     "execution_count": 138,
     "metadata": {},
     "output_type": "execute_result"
    }
   ],
   "source": [
    "data_pca_hr_cl2= pd.concat([data_pca, clusterCut2], axis=1)\n",
    "data_pca_hr_cl2.columns =  ['PC1','PC2','PC3','PC4','clusterid']\n",
    "data_pca_hr_cl2.head()"
   ]
  },
  {
   "cell_type": "code",
   "execution_count": 139,
   "metadata": {},
   "outputs": [
    {
     "data": {
      "image/png": "[encoded data removed]",
      "text/plain": [
       "<Figure size 864x432 with 1 Axes>"
      ]
     },
     "metadata": {
      "needs_background": "light"
     },
     "output_type": "display_data"
    }
   ],
   "source": [
    "%matplotlib inline\n",
    "fig = plt.figure(figsize = (12,6))\n",
    "sns.scatterplot(data_pca_hr_cl2['PC1'], data_pca_hr_cl2['PC2'],hue= data_pca_hr_cl2['clusterid'].map({0:'Cluster 0',1:'Cluster 1',2:'Cluster 2',3:'Cluster 3',4:'Cluster 4'}),palette='colorblind',legend='full')\n",
    "plt.xlabel('Principal Component 1')\n",
    "plt.ylabel('Principal Component 2')\n",
    "plt.show()"
   ]
  },
  {
   "cell_type": "code",
   "execution_count": 140,
   "metadata": {},
   "outputs": [],
   "source": [
    "# Comparison of hierarchical clustering for K=4 and K =5 doesn't show significant difference of Cluster formation on \n",
    "#Principal component plot (PC1-PC2)\n",
    "#Choosing K=4 only"
   ]
  },
  {
   "cell_type": "markdown",
   "metadata": {},
   "source": [
    "### Final list of Under-developed countries from k-means clustering"
   ]
  },
  {
   "cell_type": "code",
   "execution_count": 141,
   "metadata": {},
   "outputs": [
    {
     "data": {
      "text/html": [
       "<div>\n",
       "<style scoped>\n",
       "    .dataframe tbody tr th:only-of-type {\n",
       "        vertical-align: middle;\n",
       "    }\n",
       "\n",
       "    .dataframe tbody tr th {\n",
       "        vertical-align: top;\n",
       "    }\n",
       "\n",
       "    .dataframe thead th {\n",
       "        text-align: right;\n",
       "    }\n",
       "</style>\n",
       "<table border=\"1\" class=\"dataframe\">\n",
       "  <thead>\n",
       "    <tr style=\"text-align: right;\">\n",
       "      <th></th>\n",
       "      <th>clusterid</th>\n",
       "      <th>child_mort</th>\n",
       "      <th>exports</th>\n",
       "      <th>health</th>\n",
       "      <th>imports</th>\n",
       "      <th>income</th>\n",
       "      <th>inflation</th>\n",
       "      <th>life_expec</th>\n",
       "      <th>total_fer</th>\n",
       "      <th>gdpp</th>\n",
       "    </tr>\n",
       "  </thead>\n",
       "  <tbody>\n",
       "    <tr>\n",
       "      <th>0</th>\n",
       "      <td>0</td>\n",
       "      <td>92.29</td>\n",
       "      <td>28.48</td>\n",
       "      <td>6.07</td>\n",
       "      <td>41.74</td>\n",
       "      <td>3226.49</td>\n",
       "      <td>10.03</td>\n",
       "      <td>59.68</td>\n",
       "      <td>5.18</td>\n",
       "      <td>1555.92</td>\n",
       "    </tr>\n",
       "    <tr>\n",
       "      <th>1</th>\n",
       "      <td>1</td>\n",
       "      <td>7.23</td>\n",
       "      <td>70.18</td>\n",
       "      <td>6.45</td>\n",
       "      <td>61.42</td>\n",
       "      <td>33718.75</td>\n",
       "      <td>5.16</td>\n",
       "      <td>76.93</td>\n",
       "      <td>1.87</td>\n",
       "      <td>22560.62</td>\n",
       "    </tr>\n",
       "    <tr>\n",
       "      <th>2</th>\n",
       "      <td>2</td>\n",
       "      <td>29.52</td>\n",
       "      <td>27.74</td>\n",
       "      <td>5.50</td>\n",
       "      <td>29.13</td>\n",
       "      <td>10903.94</td>\n",
       "      <td>11.70</td>\n",
       "      <td>72.01</td>\n",
       "      <td>2.50</td>\n",
       "      <td>5237.45</td>\n",
       "    </tr>\n",
       "    <tr>\n",
       "      <th>3</th>\n",
       "      <td>3</td>\n",
       "      <td>22.30</td>\n",
       "      <td>43.90</td>\n",
       "      <td>7.08</td>\n",
       "      <td>58.75</td>\n",
       "      <td>9959.35</td>\n",
       "      <td>4.29</td>\n",
       "      <td>71.70</td>\n",
       "      <td>2.37</td>\n",
       "      <td>5359.48</td>\n",
       "    </tr>\n",
       "    <tr>\n",
       "      <th>4</th>\n",
       "      <td>4</td>\n",
       "      <td>4.68</td>\n",
       "      <td>35.59</td>\n",
       "      <td>10.05</td>\n",
       "      <td>34.98</td>\n",
       "      <td>36578.95</td>\n",
       "      <td>1.27</td>\n",
       "      <td>80.63</td>\n",
       "      <td>1.80</td>\n",
       "      <td>40457.89</td>\n",
       "    </tr>\n",
       "  </tbody>\n",
       "</table>\n",
       "</div>"
      ],
      "text/plain": [
       "   clusterid  child_mort  exports  health  imports    income  inflation  \\\n",
       "0          0       92.29    28.48    6.07    41.74   3226.49      10.03   \n",
       "1          1        7.23    70.18    6.45    61.42  33718.75       5.16   \n",
       "2          2       29.52    27.74    5.50    29.13  10903.94      11.70   \n",
       "3          3       22.30    43.90    7.08    58.75   9959.35       4.29   \n",
       "4          4        4.68    35.59   10.05    34.98  36578.95       1.27   \n",
       "\n",
       "   life_expec  total_fer      gdpp  \n",
       "0       59.68       5.18   1555.92  \n",
       "1       76.93       1.87  22560.62  \n",
       "2       72.01       2.50   5237.45  \n",
       "3       71.70       2.37   5359.48  \n",
       "4       80.63       1.80  40457.89  "
      ]
     },
     "execution_count": 141,
     "metadata": {},
     "output_type": "execute_result"
    }
   ],
   "source": [
    "df_cl"
   ]
  },
  {
   "cell_type": "code",
   "execution_count": 142,
   "metadata": {},
   "outputs": [
    {
     "data": {
      "text/plain": [
       "39"
      ]
     },
     "execution_count": 142,
     "metadata": {},
     "output_type": "execute_result"
    }
   ],
   "source": [
    "len(data_km.loc[data_km['clusterid']==0])"
   ]
  },
  {
   "cell_type": "markdown",
   "metadata": {},
   "source": [
    "### Finding the least developed countries from original dataset-K means"
   ]
  },
  {
   "cell_type": "code",
   "execution_count": 143,
   "metadata": {},
   "outputs": [],
   "source": [
    "# During the initial data removal very high and very low developed values might have been removed due to extreme values of \n",
    "#variables. Now taking the mean values of the variables found by grouping on cluster IDs, finding the Least developed countries \n",
    "#from original dataset \"data\", which are having values lower than these mean values."
   ]
  },
  {
   "cell_type": "code",
   "execution_count": 144,
   "metadata": {},
   "outputs": [],
   "source": [
    "ud_countries=data[data['income']<=3226.49]\n",
    "ud_countries=ud_countries[ud_countries['child_mort']>=92.29]\n",
    "ud_countries=ud_countries[ud_countries['gdpp']<=1555.92]\n",
    "ud_countries=ud_countries[ud_countries['life_expec']<=59.68]\n",
    "ud_countries=ud_countries[ud_countries['health']<=6.07]"
   ]
  },
  {
   "cell_type": "code",
   "execution_count": 145,
   "metadata": {},
   "outputs": [
    {
     "data": {
      "text/plain": [
       "(8, 10)"
      ]
     },
     "execution_count": 145,
     "metadata": {},
     "output_type": "execute_result"
    }
   ],
   "source": [
    "ud_countries.shape"
   ]
  },
  {
   "cell_type": "code",
   "execution_count": 146,
   "metadata": {},
   "outputs": [],
   "source": [
    "#Thus we could find out 15 such underdeveloped countries which are in funding need."
   ]
  },
  {
   "cell_type": "code",
   "execution_count": 147,
   "metadata": {},
   "outputs": [],
   "source": [
    "#As per Human development index is defined by life expectancy, income and education level. \n",
    "#Taking the first two indicators to sort the cluster of underdeveloped countries to sort the countries."
   ]
  },
  {
   "cell_type": "code",
   "execution_count": 148,
   "metadata": {},
   "outputs": [],
   "source": [
    "lowest_developed=ud_countries.sort_values(by=['income','life_expec'],ascending=[True,True])"
   ]
  },
  {
   "cell_type": "code",
   "execution_count": 149,
   "metadata": {},
   "outputs": [
    {
     "data": {
      "text/html": [
       "<div>\n",
       "<style scoped>\n",
       "    .dataframe tbody tr th:only-of-type {\n",
       "        vertical-align: middle;\n",
       "    }\n",
       "\n",
       "    .dataframe tbody tr th {\n",
       "        vertical-align: top;\n",
       "    }\n",
       "\n",
       "    .dataframe thead th {\n",
       "        text-align: right;\n",
       "    }\n",
       "</style>\n",
       "<table border=\"1\" class=\"dataframe\">\n",
       "  <thead>\n",
       "    <tr style=\"text-align: right;\">\n",
       "      <th></th>\n",
       "      <th>country</th>\n",
       "      <th>child_mort</th>\n",
       "      <th>exports</th>\n",
       "      <th>health</th>\n",
       "      <th>imports</th>\n",
       "      <th>income</th>\n",
       "      <th>inflation</th>\n",
       "      <th>life_expec</th>\n",
       "      <th>total_fer</th>\n",
       "      <th>gdpp</th>\n",
       "    </tr>\n",
       "  </thead>\n",
       "  <tbody>\n",
       "    <tr>\n",
       "      <th>112</th>\n",
       "      <td>Niger</td>\n",
       "      <td>123.0</td>\n",
       "      <td>22.2</td>\n",
       "      <td>5.16</td>\n",
       "      <td>49.1</td>\n",
       "      <td>814</td>\n",
       "      <td>2.55</td>\n",
       "      <td>58.8</td>\n",
       "      <td>7.49</td>\n",
       "      <td>348</td>\n",
       "    </tr>\n",
       "    <tr>\n",
       "      <th>31</th>\n",
       "      <td>Central African Republic</td>\n",
       "      <td>149.0</td>\n",
       "      <td>11.8</td>\n",
       "      <td>3.98</td>\n",
       "      <td>26.5</td>\n",
       "      <td>888</td>\n",
       "      <td>2.01</td>\n",
       "      <td>47.5</td>\n",
       "      <td>5.21</td>\n",
       "      <td>446</td>\n",
       "    </tr>\n",
       "    <tr>\n",
       "      <th>106</th>\n",
       "      <td>Mozambique</td>\n",
       "      <td>101.0</td>\n",
       "      <td>31.5</td>\n",
       "      <td>5.21</td>\n",
       "      <td>46.2</td>\n",
       "      <td>918</td>\n",
       "      <td>7.64</td>\n",
       "      <td>54.5</td>\n",
       "      <td>5.56</td>\n",
       "      <td>419</td>\n",
       "    </tr>\n",
       "    <tr>\n",
       "      <th>63</th>\n",
       "      <td>Guinea</td>\n",
       "      <td>109.0</td>\n",
       "      <td>30.3</td>\n",
       "      <td>4.93</td>\n",
       "      <td>43.2</td>\n",
       "      <td>1190</td>\n",
       "      <td>16.10</td>\n",
       "      <td>58.0</td>\n",
       "      <td>5.34</td>\n",
       "      <td>648</td>\n",
       "    </tr>\n",
       "    <tr>\n",
       "      <th>97</th>\n",
       "      <td>Mali</td>\n",
       "      <td>137.0</td>\n",
       "      <td>22.8</td>\n",
       "      <td>4.98</td>\n",
       "      <td>35.1</td>\n",
       "      <td>1870</td>\n",
       "      <td>4.37</td>\n",
       "      <td>59.5</td>\n",
       "      <td>6.55</td>\n",
       "      <td>708</td>\n",
       "    </tr>\n",
       "    <tr>\n",
       "      <th>32</th>\n",
       "      <td>Chad</td>\n",
       "      <td>150.0</td>\n",
       "      <td>36.8</td>\n",
       "      <td>4.53</td>\n",
       "      <td>43.5</td>\n",
       "      <td>1930</td>\n",
       "      <td>6.39</td>\n",
       "      <td>56.5</td>\n",
       "      <td>6.59</td>\n",
       "      <td>897</td>\n",
       "    </tr>\n",
       "    <tr>\n",
       "      <th>28</th>\n",
       "      <td>Cameroon</td>\n",
       "      <td>108.0</td>\n",
       "      <td>22.2</td>\n",
       "      <td>5.13</td>\n",
       "      <td>27.0</td>\n",
       "      <td>2660</td>\n",
       "      <td>1.91</td>\n",
       "      <td>57.3</td>\n",
       "      <td>5.11</td>\n",
       "      <td>1310</td>\n",
       "    </tr>\n",
       "    <tr>\n",
       "      <th>40</th>\n",
       "      <td>Cote d'Ivoire</td>\n",
       "      <td>111.0</td>\n",
       "      <td>50.6</td>\n",
       "      <td>5.30</td>\n",
       "      <td>43.3</td>\n",
       "      <td>2690</td>\n",
       "      <td>5.39</td>\n",
       "      <td>56.3</td>\n",
       "      <td>5.27</td>\n",
       "      <td>1220</td>\n",
       "    </tr>\n",
       "  </tbody>\n",
       "</table>\n",
       "</div>"
      ],
      "text/plain": [
       "                      country  child_mort  exports  health  imports  income  \\\n",
       "112                     Niger       123.0     22.2    5.16     49.1     814   \n",
       "31   Central African Republic       149.0     11.8    3.98     26.5     888   \n",
       "106                Mozambique       101.0     31.5    5.21     46.2     918   \n",
       "63                     Guinea       109.0     30.3    4.93     43.2    1190   \n",
       "97                       Mali       137.0     22.8    4.98     35.1    1870   \n",
       "32                       Chad       150.0     36.8    4.53     43.5    1930   \n",
       "28                   Cameroon       108.0     22.2    5.13     27.0    2660   \n",
       "40              Cote d'Ivoire       111.0     50.6    5.30     43.3    2690   \n",
       "\n",
       "     inflation  life_expec  total_fer  gdpp  \n",
       "112       2.55        58.8       7.49   348  \n",
       "31        2.01        47.5       5.21   446  \n",
       "106       7.64        54.5       5.56   419  \n",
       "63       16.10        58.0       5.34   648  \n",
       "97        4.37        59.5       6.55   708  \n",
       "32        6.39        56.5       6.59   897  \n",
       "28        1.91        57.3       5.11  1310  \n",
       "40        5.39        56.3       5.27  1220  "
      ]
     },
     "execution_count": 149,
     "metadata": {},
     "output_type": "execute_result"
    }
   ],
   "source": [
    "lowest_developed"
   ]
  },
  {
   "cell_type": "code",
   "execution_count": 150,
   "metadata": {},
   "outputs": [],
   "source": [
    "#Above are the least developed 8 countries out of the final 15 found.These are in direst need of aid with maximum aid reqirement beginning \n",
    "#from top of above list."
   ]
  },
  {
   "cell_type": "markdown",
   "metadata": {},
   "source": [
    "\n",
    "### Finding the least developed countries from original dataset-Hierarchical clustering. for n=5"
   ]
  },
  {
   "cell_type": "code",
   "execution_count": 151,
   "metadata": {
    "scrolled": true
   },
   "outputs": [
    {
     "data": {
      "text/html": [
       "<div>\n",
       "<style scoped>\n",
       "    .dataframe tbody tr th:only-of-type {\n",
       "        vertical-align: middle;\n",
       "    }\n",
       "\n",
       "    .dataframe tbody tr th {\n",
       "        vertical-align: top;\n",
       "    }\n",
       "\n",
       "    .dataframe thead th {\n",
       "        text-align: right;\n",
       "    }\n",
       "</style>\n",
       "<table border=\"1\" class=\"dataframe\">\n",
       "  <thead>\n",
       "    <tr style=\"text-align: right;\">\n",
       "      <th></th>\n",
       "      <th>clusterid</th>\n",
       "      <th>child_mort</th>\n",
       "      <th>exports</th>\n",
       "      <th>health</th>\n",
       "      <th>imports</th>\n",
       "      <th>income</th>\n",
       "      <th>inflation</th>\n",
       "      <th>life_expec</th>\n",
       "      <th>total_fer</th>\n",
       "      <th>gdpp</th>\n",
       "    </tr>\n",
       "  </thead>\n",
       "  <tbody>\n",
       "    <tr>\n",
       "      <th>0</th>\n",
       "      <td>0</td>\n",
       "      <td>94.91</td>\n",
       "      <td>28.40</td>\n",
       "      <td>7.72</td>\n",
       "      <td>51.51</td>\n",
       "      <td>2384.91</td>\n",
       "      <td>7.34</td>\n",
       "      <td>56.84</td>\n",
       "      <td>5.20</td>\n",
       "      <td>1243.70</td>\n",
       "    </tr>\n",
       "    <tr>\n",
       "      <th>1</th>\n",
       "      <td>1</td>\n",
       "      <td>33.17</td>\n",
       "      <td>30.77</td>\n",
       "      <td>6.19</td>\n",
       "      <td>40.35</td>\n",
       "      <td>9351.60</td>\n",
       "      <td>7.21</td>\n",
       "      <td>70.93</td>\n",
       "      <td>2.77</td>\n",
       "      <td>5014.91</td>\n",
       "    </tr>\n",
       "    <tr>\n",
       "      <th>2</th>\n",
       "      <td>2</td>\n",
       "      <td>76.77</td>\n",
       "      <td>59.76</td>\n",
       "      <td>4.05</td>\n",
       "      <td>46.81</td>\n",
       "      <td>10814.29</td>\n",
       "      <td>23.76</td>\n",
       "      <td>63.74</td>\n",
       "      <td>4.67</td>\n",
       "      <td>5325.71</td>\n",
       "    </tr>\n",
       "    <tr>\n",
       "      <th>3</th>\n",
       "      <td>3</td>\n",
       "      <td>4.15</td>\n",
       "      <td>33.49</td>\n",
       "      <td>10.07</td>\n",
       "      <td>32.78</td>\n",
       "      <td>36858.82</td>\n",
       "      <td>1.39</td>\n",
       "      <td>81.03</td>\n",
       "      <td>1.80</td>\n",
       "      <td>40611.76</td>\n",
       "    </tr>\n",
       "    <tr>\n",
       "      <th>4</th>\n",
       "      <td>4</td>\n",
       "      <td>13.04</td>\n",
       "      <td>68.46</td>\n",
       "      <td>6.40</td>\n",
       "      <td>64.03</td>\n",
       "      <td>26546.40</td>\n",
       "      <td>5.53</td>\n",
       "      <td>75.57</td>\n",
       "      <td>2.01</td>\n",
       "      <td>17889.20</td>\n",
       "    </tr>\n",
       "  </tbody>\n",
       "</table>\n",
       "</div>"
      ],
      "text/plain": [
       "   clusterid  child_mort  exports  health  imports    income  inflation  \\\n",
       "0          0       94.91    28.40    7.72    51.51   2384.91       7.34   \n",
       "1          1       33.17    30.77    6.19    40.35   9351.60       7.21   \n",
       "2          2       76.77    59.76    4.05    46.81  10814.29      23.76   \n",
       "3          3        4.15    33.49   10.07    32.78  36858.82       1.39   \n",
       "4          4       13.04    68.46    6.40    64.03  26546.40       5.53   \n",
       "\n",
       "   life_expec  total_fer      gdpp  \n",
       "0       56.84       5.20   1243.70  \n",
       "1       70.93       2.77   5014.91  \n",
       "2       63.74       4.67   5325.71  \n",
       "3       81.03       1.80  40611.76  \n",
       "4       75.57       2.01  17889.20  "
      ]
     },
     "execution_count": 151,
     "metadata": {},
     "output_type": "execute_result"
    }
   ],
   "source": [
    "df_hr2"
   ]
  },
  {
   "cell_type": "code",
   "execution_count": 152,
   "metadata": {},
   "outputs": [],
   "source": [
    "ud_countries_hc=data[data['income']<=2384.91]\n",
    "ud_countries_hc=ud_countries_hc[ud_countries_hc['child_mort']>=94.91]\n",
    "ud_countries_hc=ud_countries_hc[ud_countries_hc['gdpp']<=1243.70]\n",
    "ud_countries_hc=ud_countries_hc[ud_countries_hc['life_expec']<=56.84]\n",
    "ud_countries_hc=ud_countries_hc[ud_countries_hc['health']<=7.72]"
   ]
  },
  {
   "cell_type": "code",
   "execution_count": 153,
   "metadata": {},
   "outputs": [
    {
     "data": {
      "text/plain": [
       "(4, 10)"
      ]
     },
     "execution_count": 153,
     "metadata": {},
     "output_type": "execute_result"
    }
   ],
   "source": [
    "ud_countries_hc.shape"
   ]
  },
  {
   "cell_type": "code",
   "execution_count": 154,
   "metadata": {},
   "outputs": [
    {
     "data": {
      "text/html": [
       "<div>\n",
       "<style scoped>\n",
       "    .dataframe tbody tr th:only-of-type {\n",
       "        vertical-align: middle;\n",
       "    }\n",
       "\n",
       "    .dataframe tbody tr th {\n",
       "        vertical-align: top;\n",
       "    }\n",
       "\n",
       "    .dataframe thead th {\n",
       "        text-align: right;\n",
       "    }\n",
       "</style>\n",
       "<table border=\"1\" class=\"dataframe\">\n",
       "  <thead>\n",
       "    <tr style=\"text-align: right;\">\n",
       "      <th></th>\n",
       "      <th>country</th>\n",
       "      <th>child_mort</th>\n",
       "      <th>exports</th>\n",
       "      <th>health</th>\n",
       "      <th>imports</th>\n",
       "      <th>income</th>\n",
       "      <th>inflation</th>\n",
       "      <th>life_expec</th>\n",
       "      <th>total_fer</th>\n",
       "      <th>gdpp</th>\n",
       "    </tr>\n",
       "  </thead>\n",
       "  <tbody>\n",
       "    <tr>\n",
       "      <th>31</th>\n",
       "      <td>Central African Republic</td>\n",
       "      <td>149.0</td>\n",
       "      <td>11.8</td>\n",
       "      <td>3.98</td>\n",
       "      <td>26.5</td>\n",
       "      <td>888</td>\n",
       "      <td>2.01</td>\n",
       "      <td>47.5</td>\n",
       "      <td>5.21</td>\n",
       "      <td>446</td>\n",
       "    </tr>\n",
       "    <tr>\n",
       "      <th>32</th>\n",
       "      <td>Chad</td>\n",
       "      <td>150.0</td>\n",
       "      <td>36.8</td>\n",
       "      <td>4.53</td>\n",
       "      <td>43.5</td>\n",
       "      <td>1930</td>\n",
       "      <td>6.39</td>\n",
       "      <td>56.5</td>\n",
       "      <td>6.59</td>\n",
       "      <td>897</td>\n",
       "    </tr>\n",
       "    <tr>\n",
       "      <th>66</th>\n",
       "      <td>Haiti</td>\n",
       "      <td>208.0</td>\n",
       "      <td>15.3</td>\n",
       "      <td>6.91</td>\n",
       "      <td>64.7</td>\n",
       "      <td>1500</td>\n",
       "      <td>5.45</td>\n",
       "      <td>32.1</td>\n",
       "      <td>3.33</td>\n",
       "      <td>662</td>\n",
       "    </tr>\n",
       "    <tr>\n",
       "      <th>106</th>\n",
       "      <td>Mozambique</td>\n",
       "      <td>101.0</td>\n",
       "      <td>31.5</td>\n",
       "      <td>5.21</td>\n",
       "      <td>46.2</td>\n",
       "      <td>918</td>\n",
       "      <td>7.64</td>\n",
       "      <td>54.5</td>\n",
       "      <td>5.56</td>\n",
       "      <td>419</td>\n",
       "    </tr>\n",
       "  </tbody>\n",
       "</table>\n",
       "</div>"
      ],
      "text/plain": [
       "                      country  child_mort  exports  health  imports  income  \\\n",
       "31   Central African Republic       149.0     11.8    3.98     26.5     888   \n",
       "32                       Chad       150.0     36.8    4.53     43.5    1930   \n",
       "66                      Haiti       208.0     15.3    6.91     64.7    1500   \n",
       "106                Mozambique       101.0     31.5    5.21     46.2     918   \n",
       "\n",
       "     inflation  life_expec  total_fer  gdpp  \n",
       "31        2.01        47.5       5.21   446  \n",
       "32        6.39        56.5       6.59   897  \n",
       "66        5.45        32.1       3.33   662  \n",
       "106       7.64        54.5       5.56   419  "
      ]
     },
     "execution_count": 154,
     "metadata": {},
     "output_type": "execute_result"
    }
   ],
   "source": [
    "ud_countries_hc"
   ]
  },
  {
   "cell_type": "code",
   "execution_count": 155,
   "metadata": {},
   "outputs": [],
   "source": [
    "# This results into just 4 underdeveloped countries."
   ]
  },
  {
   "cell_type": "code",
   "execution_count": 156,
   "metadata": {},
   "outputs": [
    {
     "data": {
      "text/html": [
       "<div>\n",
       "<style scoped>\n",
       "    .dataframe tbody tr th:only-of-type {\n",
       "        vertical-align: middle;\n",
       "    }\n",
       "\n",
       "    .dataframe tbody tr th {\n",
       "        vertical-align: top;\n",
       "    }\n",
       "\n",
       "    .dataframe thead th {\n",
       "        text-align: right;\n",
       "    }\n",
       "</style>\n",
       "<table border=\"1\" class=\"dataframe\">\n",
       "  <thead>\n",
       "    <tr style=\"text-align: right;\">\n",
       "      <th></th>\n",
       "      <th>country</th>\n",
       "      <th>child_mort</th>\n",
       "      <th>exports</th>\n",
       "      <th>health</th>\n",
       "      <th>imports</th>\n",
       "      <th>income</th>\n",
       "      <th>inflation</th>\n",
       "      <th>life_expec</th>\n",
       "      <th>total_fer</th>\n",
       "      <th>gdpp</th>\n",
       "      <th>clusterid</th>\n",
       "    </tr>\n",
       "  </thead>\n",
       "  <tbody>\n",
       "    <tr>\n",
       "      <th>0</th>\n",
       "      <td>Afghanistan</td>\n",
       "      <td>90.2</td>\n",
       "      <td>10.0</td>\n",
       "      <td>7.58</td>\n",
       "      <td>44.9</td>\n",
       "      <td>1610</td>\n",
       "      <td>9.44</td>\n",
       "      <td>56.2</td>\n",
       "      <td>5.82</td>\n",
       "      <td>553</td>\n",
       "      <td>0</td>\n",
       "    </tr>\n",
       "    <tr>\n",
       "      <th>1</th>\n",
       "      <td>Albania</td>\n",
       "      <td>16.6</td>\n",
       "      <td>28.0</td>\n",
       "      <td>6.55</td>\n",
       "      <td>48.6</td>\n",
       "      <td>9930</td>\n",
       "      <td>4.49</td>\n",
       "      <td>76.3</td>\n",
       "      <td>1.65</td>\n",
       "      <td>4090</td>\n",
       "      <td>1</td>\n",
       "    </tr>\n",
       "    <tr>\n",
       "      <th>2</th>\n",
       "      <td>Algeria</td>\n",
       "      <td>27.3</td>\n",
       "      <td>38.4</td>\n",
       "      <td>4.17</td>\n",
       "      <td>31.4</td>\n",
       "      <td>12900</td>\n",
       "      <td>16.10</td>\n",
       "      <td>76.5</td>\n",
       "      <td>2.89</td>\n",
       "      <td>4460</td>\n",
       "      <td>1</td>\n",
       "    </tr>\n",
       "    <tr>\n",
       "      <th>3</th>\n",
       "      <td>Angola</td>\n",
       "      <td>119.0</td>\n",
       "      <td>62.3</td>\n",
       "      <td>2.85</td>\n",
       "      <td>42.9</td>\n",
       "      <td>5900</td>\n",
       "      <td>22.40</td>\n",
       "      <td>60.1</td>\n",
       "      <td>6.16</td>\n",
       "      <td>3530</td>\n",
       "      <td>2</td>\n",
       "    </tr>\n",
       "    <tr>\n",
       "      <th>4</th>\n",
       "      <td>Antigua and Barbuda</td>\n",
       "      <td>10.3</td>\n",
       "      <td>45.5</td>\n",
       "      <td>6.03</td>\n",
       "      <td>58.9</td>\n",
       "      <td>19100</td>\n",
       "      <td>1.44</td>\n",
       "      <td>76.8</td>\n",
       "      <td>2.13</td>\n",
       "      <td>12200</td>\n",
       "      <td>1</td>\n",
       "    </tr>\n",
       "  </tbody>\n",
       "</table>\n",
       "</div>"
      ],
      "text/plain": [
       "               country  child_mort  exports  health  imports  income  \\\n",
       "0          Afghanistan        90.2     10.0    7.58     44.9    1610   \n",
       "1              Albania        16.6     28.0    6.55     48.6    9930   \n",
       "2              Algeria        27.3     38.4    4.17     31.4   12900   \n",
       "3               Angola       119.0     62.3    2.85     42.9    5900   \n",
       "4  Antigua and Barbuda        10.3     45.5    6.03     58.9   19100   \n",
       "\n",
       "   inflation  life_expec  total_fer   gdpp  clusterid  \n",
       "0       9.44        56.2       5.82    553          0  \n",
       "1       4.49        76.3       1.65   4090          1  \n",
       "2      16.10        76.5       2.89   4460          1  \n",
       "3      22.40        60.1       6.16   3530          2  \n",
       "4       1.44        76.8       2.13  12200          1  "
      ]
     },
     "execution_count": 156,
     "metadata": {},
     "output_type": "execute_result"
    }
   ],
   "source": [
    "data_hr2.head()"
   ]
  },
  {
   "cell_type": "code",
   "execution_count": 157,
   "metadata": {},
   "outputs": [
    {
     "data": {
      "text/plain": [
       "23"
      ]
     },
     "execution_count": 157,
     "metadata": {},
     "output_type": "execute_result"
    }
   ],
   "source": [
    "len(data_hr2.loc[data_hr2['clusterid']==0])"
   ]
  },
  {
   "cell_type": "code",
   "execution_count": 158,
   "metadata": {},
   "outputs": [],
   "source": [
    "lowest_developed_hc2=data_hr2.loc[data_hr2['clusterid']==0]"
   ]
  },
  {
   "cell_type": "code",
   "execution_count": 159,
   "metadata": {},
   "outputs": [
    {
     "data": {
      "text/html": [
       "<div>\n",
       "<style scoped>\n",
       "    .dataframe tbody tr th:only-of-type {\n",
       "        vertical-align: middle;\n",
       "    }\n",
       "\n",
       "    .dataframe tbody tr th {\n",
       "        vertical-align: top;\n",
       "    }\n",
       "\n",
       "    .dataframe thead th {\n",
       "        text-align: right;\n",
       "    }\n",
       "</style>\n",
       "<table border=\"1\" class=\"dataframe\">\n",
       "  <thead>\n",
       "    <tr style=\"text-align: right;\">\n",
       "      <th></th>\n",
       "      <th>country</th>\n",
       "      <th>child_mort</th>\n",
       "      <th>exports</th>\n",
       "      <th>health</th>\n",
       "      <th>imports</th>\n",
       "      <th>income</th>\n",
       "      <th>inflation</th>\n",
       "      <th>life_expec</th>\n",
       "      <th>total_fer</th>\n",
       "      <th>gdpp</th>\n",
       "      <th>clusterid</th>\n",
       "    </tr>\n",
       "  </thead>\n",
       "  <tbody>\n",
       "    <tr>\n",
       "      <th>36</th>\n",
       "      <td>Congo, Dem. Rep.</td>\n",
       "      <td>116.0</td>\n",
       "      <td>41.10</td>\n",
       "      <td>7.91</td>\n",
       "      <td>49.6</td>\n",
       "      <td>609</td>\n",
       "      <td>20.80</td>\n",
       "      <td>57.5</td>\n",
       "      <td>6.54</td>\n",
       "      <td>334</td>\n",
       "      <td>0</td>\n",
       "    </tr>\n",
       "    <tr>\n",
       "      <th>85</th>\n",
       "      <td>Liberia</td>\n",
       "      <td>89.3</td>\n",
       "      <td>19.10</td>\n",
       "      <td>11.80</td>\n",
       "      <td>92.6</td>\n",
       "      <td>700</td>\n",
       "      <td>5.47</td>\n",
       "      <td>60.8</td>\n",
       "      <td>5.02</td>\n",
       "      <td>327</td>\n",
       "      <td>0</td>\n",
       "    </tr>\n",
       "    <tr>\n",
       "      <th>25</th>\n",
       "      <td>Burundi</td>\n",
       "      <td>93.6</td>\n",
       "      <td>8.92</td>\n",
       "      <td>11.60</td>\n",
       "      <td>39.2</td>\n",
       "      <td>764</td>\n",
       "      <td>12.30</td>\n",
       "      <td>57.7</td>\n",
       "      <td>6.26</td>\n",
       "      <td>231</td>\n",
       "      <td>0</td>\n",
       "    </tr>\n",
       "    <tr>\n",
       "      <th>107</th>\n",
       "      <td>Niger</td>\n",
       "      <td>123.0</td>\n",
       "      <td>22.20</td>\n",
       "      <td>5.16</td>\n",
       "      <td>49.1</td>\n",
       "      <td>814</td>\n",
       "      <td>2.55</td>\n",
       "      <td>58.8</td>\n",
       "      <td>7.49</td>\n",
       "      <td>348</td>\n",
       "      <td>0</td>\n",
       "    </tr>\n",
       "    <tr>\n",
       "      <th>30</th>\n",
       "      <td>Central African Republic</td>\n",
       "      <td>149.0</td>\n",
       "      <td>11.80</td>\n",
       "      <td>3.98</td>\n",
       "      <td>26.5</td>\n",
       "      <td>888</td>\n",
       "      <td>2.01</td>\n",
       "      <td>47.5</td>\n",
       "      <td>5.21</td>\n",
       "      <td>446</td>\n",
       "      <td>0</td>\n",
       "    </tr>\n",
       "    <tr>\n",
       "      <th>101</th>\n",
       "      <td>Mozambique</td>\n",
       "      <td>101.0</td>\n",
       "      <td>31.50</td>\n",
       "      <td>5.21</td>\n",
       "      <td>46.2</td>\n",
       "      <td>918</td>\n",
       "      <td>7.64</td>\n",
       "      <td>54.5</td>\n",
       "      <td>5.56</td>\n",
       "      <td>419</td>\n",
       "      <td>0</td>\n",
       "    </tr>\n",
       "    <tr>\n",
       "      <th>90</th>\n",
       "      <td>Malawi</td>\n",
       "      <td>90.5</td>\n",
       "      <td>22.80</td>\n",
       "      <td>6.59</td>\n",
       "      <td>34.9</td>\n",
       "      <td>1030</td>\n",
       "      <td>12.10</td>\n",
       "      <td>53.1</td>\n",
       "      <td>5.31</td>\n",
       "      <td>459</td>\n",
       "      <td>0</td>\n",
       "    </tr>\n",
       "    <tr>\n",
       "      <th>62</th>\n",
       "      <td>Guinea</td>\n",
       "      <td>109.0</td>\n",
       "      <td>30.30</td>\n",
       "      <td>4.93</td>\n",
       "      <td>43.2</td>\n",
       "      <td>1190</td>\n",
       "      <td>16.10</td>\n",
       "      <td>58.0</td>\n",
       "      <td>5.34</td>\n",
       "      <td>648</td>\n",
       "      <td>0</td>\n",
       "    </tr>\n",
       "    <tr>\n",
       "      <th>138</th>\n",
       "      <td>Togo</td>\n",
       "      <td>90.3</td>\n",
       "      <td>40.20</td>\n",
       "      <td>7.65</td>\n",
       "      <td>57.3</td>\n",
       "      <td>1210</td>\n",
       "      <td>1.18</td>\n",
       "      <td>58.7</td>\n",
       "      <td>4.87</td>\n",
       "      <td>488</td>\n",
       "      <td>0</td>\n",
       "    </tr>\n",
       "    <tr>\n",
       "      <th>63</th>\n",
       "      <td>Guinea-Bissau</td>\n",
       "      <td>114.0</td>\n",
       "      <td>14.90</td>\n",
       "      <td>8.50</td>\n",
       "      <td>35.2</td>\n",
       "      <td>1390</td>\n",
       "      <td>2.97</td>\n",
       "      <td>55.6</td>\n",
       "      <td>5.05</td>\n",
       "      <td>547</td>\n",
       "      <td>0</td>\n",
       "    </tr>\n",
       "    <tr>\n",
       "      <th>24</th>\n",
       "      <td>Burkina Faso</td>\n",
       "      <td>116.0</td>\n",
       "      <td>19.20</td>\n",
       "      <td>6.74</td>\n",
       "      <td>29.6</td>\n",
       "      <td>1430</td>\n",
       "      <td>6.81</td>\n",
       "      <td>57.9</td>\n",
       "      <td>5.87</td>\n",
       "      <td>575</td>\n",
       "      <td>0</td>\n",
       "    </tr>\n",
       "    <tr>\n",
       "      <th>143</th>\n",
       "      <td>Uganda</td>\n",
       "      <td>81.0</td>\n",
       "      <td>17.10</td>\n",
       "      <td>9.01</td>\n",
       "      <td>28.6</td>\n",
       "      <td>1540</td>\n",
       "      <td>10.60</td>\n",
       "      <td>56.8</td>\n",
       "      <td>6.15</td>\n",
       "      <td>595</td>\n",
       "      <td>0</td>\n",
       "    </tr>\n",
       "    <tr>\n",
       "      <th>0</th>\n",
       "      <td>Afghanistan</td>\n",
       "      <td>90.2</td>\n",
       "      <td>10.00</td>\n",
       "      <td>7.58</td>\n",
       "      <td>44.9</td>\n",
       "      <td>1610</td>\n",
       "      <td>9.44</td>\n",
       "      <td>56.2</td>\n",
       "      <td>5.82</td>\n",
       "      <td>553</td>\n",
       "      <td>0</td>\n",
       "    </tr>\n",
       "    <tr>\n",
       "      <th>79</th>\n",
       "      <td>Kiribati</td>\n",
       "      <td>62.7</td>\n",
       "      <td>13.30</td>\n",
       "      <td>11.30</td>\n",
       "      <td>79.9</td>\n",
       "      <td>1730</td>\n",
       "      <td>1.52</td>\n",
       "      <td>60.7</td>\n",
       "      <td>3.84</td>\n",
       "      <td>1490</td>\n",
       "      <td>0</td>\n",
       "    </tr>\n",
       "    <tr>\n",
       "      <th>125</th>\n",
       "      <td>Solomon Islands</td>\n",
       "      <td>28.1</td>\n",
       "      <td>49.30</td>\n",
       "      <td>8.55</td>\n",
       "      <td>81.2</td>\n",
       "      <td>1780</td>\n",
       "      <td>6.81</td>\n",
       "      <td>61.7</td>\n",
       "      <td>4.24</td>\n",
       "      <td>1290</td>\n",
       "      <td>0</td>\n",
       "    </tr>\n",
       "    <tr>\n",
       "      <th>93</th>\n",
       "      <td>Mali</td>\n",
       "      <td>137.0</td>\n",
       "      <td>22.80</td>\n",
       "      <td>4.98</td>\n",
       "      <td>35.1</td>\n",
       "      <td>1870</td>\n",
       "      <td>4.37</td>\n",
       "      <td>59.5</td>\n",
       "      <td>6.55</td>\n",
       "      <td>708</td>\n",
       "      <td>0</td>\n",
       "    </tr>\n",
       "    <tr>\n",
       "      <th>31</th>\n",
       "      <td>Chad</td>\n",
       "      <td>150.0</td>\n",
       "      <td>36.80</td>\n",
       "      <td>4.53</td>\n",
       "      <td>43.5</td>\n",
       "      <td>1930</td>\n",
       "      <td>6.39</td>\n",
       "      <td>56.5</td>\n",
       "      <td>6.59</td>\n",
       "      <td>897</td>\n",
       "      <td>0</td>\n",
       "    </tr>\n",
       "    <tr>\n",
       "      <th>84</th>\n",
       "      <td>Lesotho</td>\n",
       "      <td>99.7</td>\n",
       "      <td>39.40</td>\n",
       "      <td>11.10</td>\n",
       "      <td>101.0</td>\n",
       "      <td>2380</td>\n",
       "      <td>4.15</td>\n",
       "      <td>46.5</td>\n",
       "      <td>3.30</td>\n",
       "      <td>1170</td>\n",
       "      <td>0</td>\n",
       "    </tr>\n",
       "    <tr>\n",
       "      <th>39</th>\n",
       "      <td>Cote d'Ivoire</td>\n",
       "      <td>111.0</td>\n",
       "      <td>50.60</td>\n",
       "      <td>5.30</td>\n",
       "      <td>43.3</td>\n",
       "      <td>2690</td>\n",
       "      <td>5.39</td>\n",
       "      <td>56.3</td>\n",
       "      <td>5.27</td>\n",
       "      <td>1220</td>\n",
       "      <td>0</td>\n",
       "    </tr>\n",
       "    <tr>\n",
       "      <th>152</th>\n",
       "      <td>Zambia</td>\n",
       "      <td>83.1</td>\n",
       "      <td>37.00</td>\n",
       "      <td>5.89</td>\n",
       "      <td>30.9</td>\n",
       "      <td>3280</td>\n",
       "      <td>14.00</td>\n",
       "      <td>52.0</td>\n",
       "      <td>5.40</td>\n",
       "      <td>1460</td>\n",
       "      <td>0</td>\n",
       "    </tr>\n",
       "    <tr>\n",
       "      <th>96</th>\n",
       "      <td>Micronesia, Fed. Sts.</td>\n",
       "      <td>40.0</td>\n",
       "      <td>23.50</td>\n",
       "      <td>14.20</td>\n",
       "      <td>81.0</td>\n",
       "      <td>3340</td>\n",
       "      <td>3.80</td>\n",
       "      <td>65.4</td>\n",
       "      <td>3.46</td>\n",
       "      <td>2860</td>\n",
       "      <td>0</td>\n",
       "    </tr>\n",
       "    <tr>\n",
       "      <th>103</th>\n",
       "      <td>Namibia</td>\n",
       "      <td>56.0</td>\n",
       "      <td>47.80</td>\n",
       "      <td>6.78</td>\n",
       "      <td>60.7</td>\n",
       "      <td>8460</td>\n",
       "      <td>3.56</td>\n",
       "      <td>58.6</td>\n",
       "      <td>3.60</td>\n",
       "      <td>5190</td>\n",
       "      <td>0</td>\n",
       "    </tr>\n",
       "    <tr>\n",
       "      <th>21</th>\n",
       "      <td>Botswana</td>\n",
       "      <td>52.5</td>\n",
       "      <td>43.60</td>\n",
       "      <td>8.30</td>\n",
       "      <td>51.3</td>\n",
       "      <td>13300</td>\n",
       "      <td>8.92</td>\n",
       "      <td>57.1</td>\n",
       "      <td>2.88</td>\n",
       "      <td>6350</td>\n",
       "      <td>0</td>\n",
       "    </tr>\n",
       "  </tbody>\n",
       "</table>\n",
       "</div>"
      ],
      "text/plain": [
       "                      country  child_mort  exports  health  imports  income  \\\n",
       "36           Congo, Dem. Rep.       116.0    41.10    7.91     49.6     609   \n",
       "85                    Liberia        89.3    19.10   11.80     92.6     700   \n",
       "25                    Burundi        93.6     8.92   11.60     39.2     764   \n",
       "107                     Niger       123.0    22.20    5.16     49.1     814   \n",
       "30   Central African Republic       149.0    11.80    3.98     26.5     888   \n",
       "101                Mozambique       101.0    31.50    5.21     46.2     918   \n",
       "90                     Malawi        90.5    22.80    6.59     34.9    1030   \n",
       "62                     Guinea       109.0    30.30    4.93     43.2    1190   \n",
       "138                      Togo        90.3    40.20    7.65     57.3    1210   \n",
       "63              Guinea-Bissau       114.0    14.90    8.50     35.2    1390   \n",
       "24               Burkina Faso       116.0    19.20    6.74     29.6    1430   \n",
       "143                    Uganda        81.0    17.10    9.01     28.6    1540   \n",
       "0                 Afghanistan        90.2    10.00    7.58     44.9    1610   \n",
       "79                   Kiribati        62.7    13.30   11.30     79.9    1730   \n",
       "125           Solomon Islands        28.1    49.30    8.55     81.2    1780   \n",
       "93                       Mali       137.0    22.80    4.98     35.1    1870   \n",
       "31                       Chad       150.0    36.80    4.53     43.5    1930   \n",
       "84                    Lesotho        99.7    39.40   11.10    101.0    2380   \n",
       "39              Cote d'Ivoire       111.0    50.60    5.30     43.3    2690   \n",
       "152                    Zambia        83.1    37.00    5.89     30.9    3280   \n",
       "96      Micronesia, Fed. Sts.        40.0    23.50   14.20     81.0    3340   \n",
       "103                   Namibia        56.0    47.80    6.78     60.7    8460   \n",
       "21                   Botswana        52.5    43.60    8.30     51.3   13300   \n",
       "\n",
       "     inflation  life_expec  total_fer  gdpp  clusterid  \n",
       "36       20.80        57.5       6.54   334          0  \n",
       "85        5.47        60.8       5.02   327          0  \n",
       "25       12.30        57.7       6.26   231          0  \n",
       "107       2.55        58.8       7.49   348          0  \n",
       "30        2.01        47.5       5.21   446          0  \n",
       "101       7.64        54.5       5.56   419          0  \n",
       "90       12.10        53.1       5.31   459          0  \n",
       "62       16.10        58.0       5.34   648          0  \n",
       "138       1.18        58.7       4.87   488          0  \n",
       "63        2.97        55.6       5.05   547          0  \n",
       "24        6.81        57.9       5.87   575          0  \n",
       "143      10.60        56.8       6.15   595          0  \n",
       "0         9.44        56.2       5.82   553          0  \n",
       "79        1.52        60.7       3.84  1490          0  \n",
       "125       6.81        61.7       4.24  1290          0  \n",
       "93        4.37        59.5       6.55   708          0  \n",
       "31        6.39        56.5       6.59   897          0  \n",
       "84        4.15        46.5       3.30  1170          0  \n",
       "39        5.39        56.3       5.27  1220          0  \n",
       "152      14.00        52.0       5.40  1460          0  \n",
       "96        3.80        65.4       3.46  2860          0  \n",
       "103       3.56        58.6       3.60  5190          0  \n",
       "21        8.92        57.1       2.88  6350          0  "
      ]
     },
     "execution_count": 159,
     "metadata": {},
     "output_type": "execute_result"
    }
   ],
   "source": [
    "lowest_developed_hc2=lowest_developed_hc2.sort_values(by=['income','life_expec','health'],ascending=[True,True,True])\n",
    "lowest_developed_hc2"
   ]
  },
  {
   "cell_type": "code",
   "execution_count": 160,
   "metadata": {},
   "outputs": [
    {
     "data": {
      "text/html": [
       "<div>\n",
       "<style scoped>\n",
       "    .dataframe tbody tr th:only-of-type {\n",
       "        vertical-align: middle;\n",
       "    }\n",
       "\n",
       "    .dataframe tbody tr th {\n",
       "        vertical-align: top;\n",
       "    }\n",
       "\n",
       "    .dataframe thead th {\n",
       "        text-align: right;\n",
       "    }\n",
       "</style>\n",
       "<table border=\"1\" class=\"dataframe\">\n",
       "  <thead>\n",
       "    <tr style=\"text-align: right;\">\n",
       "      <th></th>\n",
       "      <th>country</th>\n",
       "      <th>child_mort</th>\n",
       "      <th>exports</th>\n",
       "      <th>health</th>\n",
       "      <th>imports</th>\n",
       "      <th>income</th>\n",
       "      <th>inflation</th>\n",
       "      <th>life_expec</th>\n",
       "      <th>total_fer</th>\n",
       "      <th>gdpp</th>\n",
       "      <th>clusterid</th>\n",
       "    </tr>\n",
       "  </thead>\n",
       "  <tbody>\n",
       "    <tr>\n",
       "      <th>36</th>\n",
       "      <td>Congo, Dem. Rep.</td>\n",
       "      <td>116.0</td>\n",
       "      <td>41.10</td>\n",
       "      <td>7.91</td>\n",
       "      <td>49.6</td>\n",
       "      <td>609</td>\n",
       "      <td>20.80</td>\n",
       "      <td>57.5</td>\n",
       "      <td>6.54</td>\n",
       "      <td>334</td>\n",
       "      <td>0</td>\n",
       "    </tr>\n",
       "    <tr>\n",
       "      <th>85</th>\n",
       "      <td>Liberia</td>\n",
       "      <td>89.3</td>\n",
       "      <td>19.10</td>\n",
       "      <td>11.80</td>\n",
       "      <td>92.6</td>\n",
       "      <td>700</td>\n",
       "      <td>5.47</td>\n",
       "      <td>60.8</td>\n",
       "      <td>5.02</td>\n",
       "      <td>327</td>\n",
       "      <td>0</td>\n",
       "    </tr>\n",
       "    <tr>\n",
       "      <th>25</th>\n",
       "      <td>Burundi</td>\n",
       "      <td>93.6</td>\n",
       "      <td>8.92</td>\n",
       "      <td>11.60</td>\n",
       "      <td>39.2</td>\n",
       "      <td>764</td>\n",
       "      <td>12.30</td>\n",
       "      <td>57.7</td>\n",
       "      <td>6.26</td>\n",
       "      <td>231</td>\n",
       "      <td>0</td>\n",
       "    </tr>\n",
       "    <tr>\n",
       "      <th>107</th>\n",
       "      <td>Niger</td>\n",
       "      <td>123.0</td>\n",
       "      <td>22.20</td>\n",
       "      <td>5.16</td>\n",
       "      <td>49.1</td>\n",
       "      <td>814</td>\n",
       "      <td>2.55</td>\n",
       "      <td>58.8</td>\n",
       "      <td>7.49</td>\n",
       "      <td>348</td>\n",
       "      <td>0</td>\n",
       "    </tr>\n",
       "    <tr>\n",
       "      <th>30</th>\n",
       "      <td>Central African Republic</td>\n",
       "      <td>149.0</td>\n",
       "      <td>11.80</td>\n",
       "      <td>3.98</td>\n",
       "      <td>26.5</td>\n",
       "      <td>888</td>\n",
       "      <td>2.01</td>\n",
       "      <td>47.5</td>\n",
       "      <td>5.21</td>\n",
       "      <td>446</td>\n",
       "      <td>0</td>\n",
       "    </tr>\n",
       "    <tr>\n",
       "      <th>101</th>\n",
       "      <td>Mozambique</td>\n",
       "      <td>101.0</td>\n",
       "      <td>31.50</td>\n",
       "      <td>5.21</td>\n",
       "      <td>46.2</td>\n",
       "      <td>918</td>\n",
       "      <td>7.64</td>\n",
       "      <td>54.5</td>\n",
       "      <td>5.56</td>\n",
       "      <td>419</td>\n",
       "      <td>0</td>\n",
       "    </tr>\n",
       "    <tr>\n",
       "      <th>90</th>\n",
       "      <td>Malawi</td>\n",
       "      <td>90.5</td>\n",
       "      <td>22.80</td>\n",
       "      <td>6.59</td>\n",
       "      <td>34.9</td>\n",
       "      <td>1030</td>\n",
       "      <td>12.10</td>\n",
       "      <td>53.1</td>\n",
       "      <td>5.31</td>\n",
       "      <td>459</td>\n",
       "      <td>0</td>\n",
       "    </tr>\n",
       "    <tr>\n",
       "      <th>62</th>\n",
       "      <td>Guinea</td>\n",
       "      <td>109.0</td>\n",
       "      <td>30.30</td>\n",
       "      <td>4.93</td>\n",
       "      <td>43.2</td>\n",
       "      <td>1190</td>\n",
       "      <td>16.10</td>\n",
       "      <td>58.0</td>\n",
       "      <td>5.34</td>\n",
       "      <td>648</td>\n",
       "      <td>0</td>\n",
       "    </tr>\n",
       "  </tbody>\n",
       "</table>\n",
       "</div>"
      ],
      "text/plain": [
       "                      country  child_mort  exports  health  imports  income  \\\n",
       "36           Congo, Dem. Rep.       116.0    41.10    7.91     49.6     609   \n",
       "85                    Liberia        89.3    19.10   11.80     92.6     700   \n",
       "25                    Burundi        93.6     8.92   11.60     39.2     764   \n",
       "107                     Niger       123.0    22.20    5.16     49.1     814   \n",
       "30   Central African Republic       149.0    11.80    3.98     26.5     888   \n",
       "101                Mozambique       101.0    31.50    5.21     46.2     918   \n",
       "90                     Malawi        90.5    22.80    6.59     34.9    1030   \n",
       "62                     Guinea       109.0    30.30    4.93     43.2    1190   \n",
       "\n",
       "     inflation  life_expec  total_fer  gdpp  clusterid  \n",
       "36       20.80        57.5       6.54   334          0  \n",
       "85        5.47        60.8       5.02   327          0  \n",
       "25       12.30        57.7       6.26   231          0  \n",
       "107       2.55        58.8       7.49   348          0  \n",
       "30        2.01        47.5       5.21   446          0  \n",
       "101       7.64        54.5       5.56   419          0  \n",
       "90       12.10        53.1       5.31   459          0  \n",
       "62       16.10        58.0       5.34   648          0  "
      ]
     },
     "execution_count": 160,
     "metadata": {},
     "output_type": "execute_result"
    }
   ],
   "source": [
    "lowest_developed_hc2.head(8)"
   ]
  },
  {
   "cell_type": "code",
   "execution_count": 161,
   "metadata": {},
   "outputs": [],
   "source": [
    "#Above list sumamrises all the countries from K means clustering results. So it is very subjective to select the top ones. \n",
    "#It depends on the variables selected to prioritize.\n",
    "#I have done that by using definition of Human development index and sorting on Income and Life expectancy."
   ]
  },
  {
   "cell_type": "markdown",
   "metadata": {},
   "source": [
    "### Finding the least developed countries from original dataset-Hierarchical clustering. for n=4"
   ]
  },
  {
   "cell_type": "code",
   "execution_count": 162,
   "metadata": {},
   "outputs": [
    {
     "data": {
      "text/html": [
       "<div>\n",
       "<style scoped>\n",
       "    .dataframe tbody tr th:only-of-type {\n",
       "        vertical-align: middle;\n",
       "    }\n",
       "\n",
       "    .dataframe tbody tr th {\n",
       "        vertical-align: top;\n",
       "    }\n",
       "\n",
       "    .dataframe thead th {\n",
       "        text-align: right;\n",
       "    }\n",
       "</style>\n",
       "<table border=\"1\" class=\"dataframe\">\n",
       "  <thead>\n",
       "    <tr style=\"text-align: right;\">\n",
       "      <th></th>\n",
       "      <th>clusterid</th>\n",
       "      <th>child_mort</th>\n",
       "      <th>exports</th>\n",
       "      <th>health</th>\n",
       "      <th>imports</th>\n",
       "      <th>income</th>\n",
       "      <th>inflation</th>\n",
       "      <th>life_expec</th>\n",
       "      <th>total_fer</th>\n",
       "      <th>gdpp</th>\n",
       "    </tr>\n",
       "  </thead>\n",
       "  <tbody>\n",
       "    <tr>\n",
       "      <th>0</th>\n",
       "      <td>0</td>\n",
       "      <td>94.91</td>\n",
       "      <td>28.40</td>\n",
       "      <td>7.72</td>\n",
       "      <td>51.51</td>\n",
       "      <td>2384.91</td>\n",
       "      <td>7.34</td>\n",
       "      <td>56.84</td>\n",
       "      <td>5.20</td>\n",
       "      <td>1243.70</td>\n",
       "    </tr>\n",
       "    <tr>\n",
       "      <th>1</th>\n",
       "      <td>1</td>\n",
       "      <td>33.17</td>\n",
       "      <td>30.77</td>\n",
       "      <td>6.19</td>\n",
       "      <td>40.35</td>\n",
       "      <td>9351.60</td>\n",
       "      <td>7.21</td>\n",
       "      <td>70.93</td>\n",
       "      <td>2.77</td>\n",
       "      <td>5014.91</td>\n",
       "    </tr>\n",
       "    <tr>\n",
       "      <th>2</th>\n",
       "      <td>2</td>\n",
       "      <td>76.77</td>\n",
       "      <td>59.76</td>\n",
       "      <td>4.05</td>\n",
       "      <td>46.81</td>\n",
       "      <td>10814.29</td>\n",
       "      <td>23.76</td>\n",
       "      <td>63.74</td>\n",
       "      <td>4.67</td>\n",
       "      <td>5325.71</td>\n",
       "    </tr>\n",
       "    <tr>\n",
       "      <th>3</th>\n",
       "      <td>3</td>\n",
       "      <td>9.44</td>\n",
       "      <td>54.31</td>\n",
       "      <td>7.88</td>\n",
       "      <td>51.38</td>\n",
       "      <td>30720.48</td>\n",
       "      <td>3.85</td>\n",
       "      <td>77.78</td>\n",
       "      <td>1.92</td>\n",
       "      <td>27086.43</td>\n",
       "    </tr>\n",
       "  </tbody>\n",
       "</table>\n",
       "</div>"
      ],
      "text/plain": [
       "   clusterid  child_mort  exports  health  imports    income  inflation  \\\n",
       "0          0       94.91    28.40    7.72    51.51   2384.91       7.34   \n",
       "1          1       33.17    30.77    6.19    40.35   9351.60       7.21   \n",
       "2          2       76.77    59.76    4.05    46.81  10814.29      23.76   \n",
       "3          3        9.44    54.31    7.88    51.38  30720.48       3.85   \n",
       "\n",
       "   life_expec  total_fer      gdpp  \n",
       "0       56.84       5.20   1243.70  \n",
       "1       70.93       2.77   5014.91  \n",
       "2       63.74       4.67   5325.71  \n",
       "3       77.78       1.92  27086.43  "
      ]
     },
     "execution_count": 162,
     "metadata": {},
     "output_type": "execute_result"
    }
   ],
   "source": [
    "\n",
    "df_hr1"
   ]
  },
  {
   "cell_type": "code",
   "execution_count": 163,
   "metadata": {},
   "outputs": [],
   "source": [
    "ud_countries_hc1=data[data['income']<=2384.91]\n",
    "ud_countries_hc1=ud_countries_hc1[ud_countries_hc1['child_mort']>=94.91]\n",
    "ud_countries_hc1=ud_countries_hc1[ud_countries_hc1['gdpp']<=1243.70]\n",
    "ud_countries_hc1=ud_countries_hc1[ud_countries_hc1['life_expec']<=56.84]\n",
    "ud_countries_hc1=ud_countries_hc1[ud_countries_hc1['health']<=7.72]"
   ]
  },
  {
   "cell_type": "code",
   "execution_count": 164,
   "metadata": {},
   "outputs": [
    {
     "data": {
      "text/plain": [
       "(4, 10)"
      ]
     },
     "execution_count": 164,
     "metadata": {},
     "output_type": "execute_result"
    }
   ],
   "source": [
    "ud_countries_hc1.shape"
   ]
  },
  {
   "cell_type": "code",
   "execution_count": 165,
   "metadata": {},
   "outputs": [
    {
     "data": {
      "text/html": [
       "<div>\n",
       "<style scoped>\n",
       "    .dataframe tbody tr th:only-of-type {\n",
       "        vertical-align: middle;\n",
       "    }\n",
       "\n",
       "    .dataframe tbody tr th {\n",
       "        vertical-align: top;\n",
       "    }\n",
       "\n",
       "    .dataframe thead th {\n",
       "        text-align: right;\n",
       "    }\n",
       "</style>\n",
       "<table border=\"1\" class=\"dataframe\">\n",
       "  <thead>\n",
       "    <tr style=\"text-align: right;\">\n",
       "      <th></th>\n",
       "      <th>country</th>\n",
       "      <th>child_mort</th>\n",
       "      <th>exports</th>\n",
       "      <th>health</th>\n",
       "      <th>imports</th>\n",
       "      <th>income</th>\n",
       "      <th>inflation</th>\n",
       "      <th>life_expec</th>\n",
       "      <th>total_fer</th>\n",
       "      <th>gdpp</th>\n",
       "    </tr>\n",
       "  </thead>\n",
       "  <tbody>\n",
       "    <tr>\n",
       "      <th>31</th>\n",
       "      <td>Central African Republic</td>\n",
       "      <td>149.0</td>\n",
       "      <td>11.8</td>\n",
       "      <td>3.98</td>\n",
       "      <td>26.5</td>\n",
       "      <td>888</td>\n",
       "      <td>2.01</td>\n",
       "      <td>47.5</td>\n",
       "      <td>5.21</td>\n",
       "      <td>446</td>\n",
       "    </tr>\n",
       "    <tr>\n",
       "      <th>32</th>\n",
       "      <td>Chad</td>\n",
       "      <td>150.0</td>\n",
       "      <td>36.8</td>\n",
       "      <td>4.53</td>\n",
       "      <td>43.5</td>\n",
       "      <td>1930</td>\n",
       "      <td>6.39</td>\n",
       "      <td>56.5</td>\n",
       "      <td>6.59</td>\n",
       "      <td>897</td>\n",
       "    </tr>\n",
       "    <tr>\n",
       "      <th>66</th>\n",
       "      <td>Haiti</td>\n",
       "      <td>208.0</td>\n",
       "      <td>15.3</td>\n",
       "      <td>6.91</td>\n",
       "      <td>64.7</td>\n",
       "      <td>1500</td>\n",
       "      <td>5.45</td>\n",
       "      <td>32.1</td>\n",
       "      <td>3.33</td>\n",
       "      <td>662</td>\n",
       "    </tr>\n",
       "    <tr>\n",
       "      <th>106</th>\n",
       "      <td>Mozambique</td>\n",
       "      <td>101.0</td>\n",
       "      <td>31.5</td>\n",
       "      <td>5.21</td>\n",
       "      <td>46.2</td>\n",
       "      <td>918</td>\n",
       "      <td>7.64</td>\n",
       "      <td>54.5</td>\n",
       "      <td>5.56</td>\n",
       "      <td>419</td>\n",
       "    </tr>\n",
       "  </tbody>\n",
       "</table>\n",
       "</div>"
      ],
      "text/plain": [
       "                      country  child_mort  exports  health  imports  income  \\\n",
       "31   Central African Republic       149.0     11.8    3.98     26.5     888   \n",
       "32                       Chad       150.0     36.8    4.53     43.5    1930   \n",
       "66                      Haiti       208.0     15.3    6.91     64.7    1500   \n",
       "106                Mozambique       101.0     31.5    5.21     46.2     918   \n",
       "\n",
       "     inflation  life_expec  total_fer  gdpp  \n",
       "31        2.01        47.5       5.21   446  \n",
       "32        6.39        56.5       6.59   897  \n",
       "66        5.45        32.1       3.33   662  \n",
       "106       7.64        54.5       5.56   419  "
      ]
     },
     "execution_count": 165,
     "metadata": {},
     "output_type": "execute_result"
    }
   ],
   "source": [
    "ud_countries_hc"
   ]
  },
  {
   "cell_type": "code",
   "execution_count": 166,
   "metadata": {},
   "outputs": [],
   "source": [
    "#This also results into just 4 countries."
   ]
  },
  {
   "cell_type": "code",
   "execution_count": 167,
   "metadata": {},
   "outputs": [],
   "source": [
    "#The results of K means and Heirarchical clustering are same except one country.\n",
    "#Minimum requirement is to report atleast 5 countries, hence result of K means can be reported."
   ]
  },
  {
   "cell_type": "code",
   "execution_count": 169,
   "metadata": {},
   "outputs": [],
   "source": [
    "#Final list - Niger, CentralGuinea,Mali,Chad,Cameroon,Cote d'ivore"
   ]
  },
  {
   "cell_type": "code",
   "execution_count": null,
   "metadata": {},
   "outputs": [],
   "source": []
  }
 ],
 "metadata": {
  "kernelspec": {
   "display_name": "Python 3",
   "language": "python",
   "name": "python3"
  },
  "language_info": {
   "codemirror_mode": {
    "name": "ipython",
    "version": 3
   },
   "file_extension": ".py",
   "mimetype": "text/x-python",
   "name": "python",
   "nbconvert_exporter": "python",
   "pygments_lexer": "ipython3",
   "version": "3.7.0"
  }
 },
 "nbformat": 4,
 "nbformat_minor": 2
}
